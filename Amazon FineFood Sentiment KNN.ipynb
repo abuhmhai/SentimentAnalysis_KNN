{
 "metadata": {
  "kernelspec": {
   "language": "python",
   "display_name": "Python 3",
   "name": "python3"
  },
  "language_info": {
   "name": "python",
   "version": "3.10.10",
   "mimetype": "text/x-python",
   "codemirror_mode": {
    "name": "ipython",
    "version": 3
   },
   "pygments_lexer": "ipython3",
   "nbconvert_exporter": "python",
   "file_extension": ".py"
  },
  "kaggle": {
   "accelerator": "none",
   "dataSources": [
    {
     "sourceId": 2157,
     "sourceType": "datasetVersion",
     "datasetId": 18
    }
   ],
   "dockerImageVersionId": 30497,
   "isInternetEnabled": false,
   "language": "python",
   "sourceType": "notebook",
   "isGpuEnabled": false
  },
  "colab": {
   "name": "Amazon FineFood Sentiment Classification using KNN",
   "provenance": []
  }
 },
 "nbformat_minor": 0,
 "nbformat": 4,
 "cells": [
  {
   "metadata": {
    "ExecuteTime": {
     "end_time": "2024-05-10T17:26:48.653664Z",
     "start_time": "2024-05-10T17:26:48.647486Z"
    }
   },
   "cell_type": "code",
   "source": [
    "\n",
    "import os\n",
    "import sys\n",
    "from tempfile import NamedTemporaryFile\n",
    "from urllib.request import urlopen\n",
    "from urllib.parse import unquote, urlparse\n",
    "from urllib.error import HTTPError\n",
    "from zipfile import ZipFile\n",
    "import tarfile\n",
    "import shutil"
   ],
   "outputs": [],
   "execution_count": 2
  },
  {
   "metadata": {},
   "cell_type": "code",
   "outputs": [
    {
     "name": "stderr",
     "output_type": "stream",
     "text": [
      "/Library/Python/3.9/site-packages/urllib3/__init__.py:35: NotOpenSSLWarning: urllib3 v2 only supports OpenSSL 1.1.1+, currently the 'ssl' module is compiled with 'LibreSSL 2.8.3'. See: https://github.com/urllib3/urllib3/issues/3020\n",
      "  warnings.warn(\n",
      "Downloading: 100%|##########| 254M/254M [00:59<00:00, 4.30MB/s] "
     ]
    },
    {
     "name": "stdout",
     "output_type": "stream",
     "text": [
      "Data source import complete\n"
     ]
    },
    {
     "name": "stderr",
     "output_type": "stream",
     "text": [
      "\n"
     ]
    }
   ],
   "execution_count": 3,
   "source": [
    "\n",
    "# IMPORTANT: RUN THIS CELL IN ORDER TO IMPORT YOUR KAGGLE DATA SOURCES\n",
    "# TO THE CORRECT LOCATION (/kaggle/input) IN YOUR NOTEBOOK,\n",
    "# THEN FEEL FREE TO DELETE THIS CELL.\n",
    "# NOTE: THIS NOTEBOOK ENVIRONMENT DIFFERS FROM KAGGLE'S PYTHON\n",
    "# ENVIRONMENT SO THERE MAY BE MISSING LIBRARIES USED BY YOUR\n",
    "# NOTEBOOK.\n",
    "\n",
    "\n",
    "import requests\n",
    "from urllib.parse import unquote\n",
    "from tqdm import tqdm\n",
    "\n",
    "# Chuỗi URL được mã hóa\n",
    "encoded_url = 'https%3A%2F%2Fstorage.googleapis.com%2Fkaggle-data-sets%2F18%2F2157%2Fbundle%2Farchive.zip%3FX-Goog-Algorithm%3DGOOG4-RSA-SHA256%26X-Goog-Credential%3Dgcp-kaggle-com%2540kaggle-161607.iam.gserviceaccount.com%252F20240510%252Fauto%252Fstorage%252Fgoog4_request%26X-Goog-Date%3D20240510T171529Z%26X-Goog-Expires%3D259200%26X-Goog-SignedHeaders%3Dhost%26X-Goog-Signature%3D348640283931f9c4dd02ba0bb5fd66196965d46418636da031b90b545926d07ce5879ed7be696c922ebb5a2b569a62d675549dff761f099a3e2ab79214260854c17c0f650418c8f00d42df510661af656cfd7f70852ee2c1f562763f38d1fa28686f310de50f43f9b123858b7928321fd6ed6185131e98f1949bf312e15b2c4af43abaf4c6deee5b11514e3e1d827d689e83ec88690ad80c61284691561f284f92a160cacc1fabe61159f873033aff1eb001fb5eeba273dcf05851585a4a50b10c27520a0d42b9a7eef9dbae5520f36493457590c3d489ed9b336bfe7fc49a211f3406d3808a2a5aa02de77094be743170f064fd5191a35e98f08ba5b43daccf'\n",
    "\n",
    "# Giải mã URL\n",
    "decoded_url = unquote(encoded_url)\n",
    "\n",
    "# Tên tệp tải xuống\n",
    "file_name = 'reviews.zip'\n",
    "\n",
    "# Thực hiện tải xuống\n",
    "response = requests.get(decoded_url, stream=True)\n",
    "total_size = int(response.headers.get('content-length', 0))\n",
    "\n",
    "with open(file_name, 'wb') as file:\n",
    "    with tqdm(total=total_size, unit='B', unit_scale=True, desc=\"Downloading\", ascii=True) as pbar:\n",
    "        for data in response.iter_content(chunk_size=4096):\n",
    "            file.write(data)\n",
    "            pbar.update(len(data))\n",
    "\n",
    "print('Data source import complete')\n",
    "\n",
    "\n"
   ]
  },
  {
   "metadata": {},
   "cell_type": "markdown",
   "source": "## Unzip "
  },
  {
   "metadata": {
    "ExecuteTime": {
     "end_time": "2024-05-10T17:29:09.001826Z",
     "start_time": "2024-05-10T17:29:06.739606Z"
    }
   },
   "cell_type": "code",
   "source": [
    "zip_file_path=\"reviews.zip\"\n",
    "extract_dir_path=\"/Users/macbook/Desktop/Artificial Intelligence/Finally/input\"\n",
    "with ZipFile(zip_file_path, 'r') as zip_ref:\n",
    "    zip_ref.extractall(extract_dir_path)\n",
    "    print(\"Extracting done\")"
   ],
   "outputs": [
    {
     "name": "stdout",
     "output_type": "stream",
     "text": [
      "Extracting done\n"
     ]
    }
   ],
   "execution_count": 4
  },
  {
   "cell_type": "markdown",
   "source": [
    "## Introduction\n",
    "\n",
    "The Amazon Fine Food Reviews dataset consists of reviews of fine foods from Amazon. The data span a period of more than 10 years, including all ~500,000 reviews up to October 2012. Reviews include product and user information, ratings, and a plaintext review.\n",
    "\n",
    "The dataset contains the following columns:\n",
    "\n",
    "1. productId: The product ID of the reviewed item.\n",
    "2. userId: The user ID of the reviewer.\n",
    "3. profileName: The name of the reviewer's profile.\n",
    "4. helpfulness: The number of helpful votes the review received.\n",
    "5. score: The rating of the product (1-5 stars).\n",
    "6. time: The date and time of the review.\n",
    "7. summary: A short summary of the review.\n",
    "8. text: The full text of the review.\n",
    "\n",
    "The dataset can be used for a variety of purposes, such as:\n",
    "1. Sentiment analysis: To determine the overall sentiment of the reviews (positive, negative, or neutral).\n",
    "2. Topic modeling: To identify the topics that are discussed in the reviews.\n",
    "3. Product recommendation: To recommend products to users based on their reviews.\n",
    "4. Spam detection: To identify and remove spam reviews.\n",
    "\n",
    "The Amazon Fine Food Reviews dataset is a valuable resource for anyone interested in understanding consumer behavior and the online review process. It is a large and comprehensive dataset that can be used to answer a variety of research questions."
   ],
   "metadata": {
    "id": "nREJVLISgMN-"
   }
  },
  {
   "cell_type": "markdown",
   "source": [
    "### ***Project Objective: Examining the outcomes of sentiment analysis in review polarity classification by employing K-nearest neighbors (KNN) across Bag of Words, TFIDF, and Word2Vector representations.***\n",
    "\n",
    "#### ***Description:*** This project aims to analyze the sentiment of reviews by implementing a review polarity classification system. We will compare the performance of three different feature representations, namely Bag of Words, TFIDF, and Word2Vector. The evaluation will be conducted using the K-nearest neighbors (KNN) algorithm to determine the effectiveness of each representation in classifying review sentiments accurately.\n",
    "\n",
    "\n",
    "#### ***Steps:***\n",
    "1. Import necessary libraries\n",
    "2. Data Cleaning and Storing the cleaned reviews in a new database\n",
    "3. Convert reviews into vectors (Bag of Words, Tf-Idf, Word2Vec) and sentiment classification using KNN\n",
    "4. Conclusion"
   ],
   "metadata": {
    "id": "iyqX_sRBgMN_"
   }
  },
  {
   "cell_type": "markdown",
   "source": [
    "## 1. Importing Libraries and Data"
   ],
   "metadata": {
    "id": "3ru7UeUHgMN_"
   }
  },
  {
   "cell_type": "code",
   "source": [
    "import numpy as np\n",
    "import pandas as pd\n",
    "import matplotlib.pyplot as plt\n",
    "import seaborn as sns\n",
    "import sqlite3\n",
    "import os\n",
    "from nltk.stem.porter import PorterStemmer\n",
    "import nltk\n",
    "import re\n",
    "import string\n",
    "from nltk.corpus import stopwords\n",
    "from nltk.stem import PorterStemmer\n",
    "from nltk.stem.wordnet import WordNetLemmatizer\n",
    "from sklearn.feature_extraction.text import CountVectorizer\n",
    "from sklearn.feature_extraction.text import TfidfVectorizer\n",
    "from sklearn.preprocessing import StandardScaler\n",
    "import pickle\n",
    "from tqdm import tqdm\n",
    "from sklearn.manifold import TSNE\n",
    "from imblearn.over_sampling import RandomOverSampler\n",
    "from imblearn.over_sampling import SMOTE\n",
    "from sklearn.metrics import accuracy_score\n",
    "from sklearn.model_selection import cross_val_score\n",
    "from sklearn.metrics import confusion_matrix\n",
    "from sklearn.neighbors import KNeighborsClassifier\n",
    "from sklearn.decomposition import TruncatedSVD\n",
    "from sklearn.decomposition import PCA\n",
    "from sklearn.metrics import f1_score\n",
    "from sklearn.metrics import classification_report"
   ],
   "metadata": {
    "execution": {
     "iopub.status.busy": "2024-02-11T05:58:53.920101Z",
     "iopub.execute_input": "2024-02-11T05:58:53.921348Z",
     "iopub.status.idle": "2024-02-11T05:58:57.837639Z",
     "shell.execute_reply.started": "2024-02-11T05:58:53.921298Z",
     "shell.execute_reply": "2024-02-11T05:58:57.836506Z"
    },
    "trusted": true,
    "id": "x9lFDFdtgMN_",
    "ExecuteTime": {
     "end_time": "2024-05-10T17:35:22.303217Z",
     "start_time": "2024-05-10T17:35:20.783904Z"
    }
   },
   "outputs": [],
   "execution_count": 5
  },
  {
   "cell_type": "code",
   "source": [],
   "metadata": {
    "trusted": true,
    "id": "ea7P8OEVgMN_"
   },
   "outputs": [],
   "execution_count": null
  },
  {
   "cell_type": "code",
   "source": [
    "# opening a connection to database\n",
    "con = sqlite3.connect('input/database.sqlite')\n",
    "\n",
    "# querying database to get filtered data without 3 star review\n",
    "# we are not considering the reviews with value of 3 as it is not a good indicator of polarity of review\n",
    "data = pd.read_sql_query('SELECT * FROM Reviews WHERE Score !=3', con)\n",
    "print(data.shape)\n",
    "data.head(3)\n"
   ],
   "metadata": {
    "execution": {
     "iopub.status.busy": "2024-02-11T05:58:57.84128Z",
     "iopub.execute_input": "2024-02-11T05:58:57.841826Z",
     "iopub.status.idle": "2024-02-11T05:59:10.583546Z",
     "shell.execute_reply.started": "2024-02-11T05:58:57.841778Z",
     "shell.execute_reply": "2024-02-11T05:59:10.582398Z"
    },
    "trusted": true,
    "id": "mWbo9SrNgMN_",
    "ExecuteTime": {
     "end_time": "2024-05-10T17:36:50.659441Z",
     "start_time": "2024-05-10T17:36:46.627213Z"
    }
   },
   "outputs": [
    {
     "name": "stdout",
     "output_type": "stream",
     "text": [
      "(525814, 10)\n"
     ]
    },
    {
     "data": {
      "text/plain": [
       "   Id   ProductId          UserId                      ProfileName  \\\n",
       "0   1  B001E4KFG0  A3SGXH7AUHU8GW                       delmartian   \n",
       "1   2  B00813GRG4  A1D87F6ZCVE5NK                           dll pa   \n",
       "2   3  B000LQOCH0   ABXLMWJIXXAIN  Natalia Corres \"Natalia Corres\"   \n",
       "\n",
       "   HelpfulnessNumerator  HelpfulnessDenominator  Score        Time  \\\n",
       "0                     1                       1      5  1303862400   \n",
       "1                     0                       0      1  1346976000   \n",
       "2                     1                       1      4  1219017600   \n",
       "\n",
       "                 Summary                                               Text  \n",
       "0  Good Quality Dog Food  I have bought several of the Vitality canned d...  \n",
       "1      Not as Advertised  Product arrived labeled as Jumbo Salted Peanut...  \n",
       "2  \"Delight\" says it all  This is a confection that has been around a fe...  "
      ],
      "text/html": [
       "<div>\n",
       "<style scoped>\n",
       "    .dataframe tbody tr th:only-of-type {\n",
       "        vertical-align: middle;\n",
       "    }\n",
       "\n",
       "    .dataframe tbody tr th {\n",
       "        vertical-align: top;\n",
       "    }\n",
       "\n",
       "    .dataframe thead th {\n",
       "        text-align: right;\n",
       "    }\n",
       "</style>\n",
       "<table border=\"1\" class=\"dataframe\">\n",
       "  <thead>\n",
       "    <tr style=\"text-align: right;\">\n",
       "      <th></th>\n",
       "      <th>Id</th>\n",
       "      <th>ProductId</th>\n",
       "      <th>UserId</th>\n",
       "      <th>ProfileName</th>\n",
       "      <th>HelpfulnessNumerator</th>\n",
       "      <th>HelpfulnessDenominator</th>\n",
       "      <th>Score</th>\n",
       "      <th>Time</th>\n",
       "      <th>Summary</th>\n",
       "      <th>Text</th>\n",
       "    </tr>\n",
       "  </thead>\n",
       "  <tbody>\n",
       "    <tr>\n",
       "      <th>0</th>\n",
       "      <td>1</td>\n",
       "      <td>B001E4KFG0</td>\n",
       "      <td>A3SGXH7AUHU8GW</td>\n",
       "      <td>delmartian</td>\n",
       "      <td>1</td>\n",
       "      <td>1</td>\n",
       "      <td>5</td>\n",
       "      <td>1303862400</td>\n",
       "      <td>Good Quality Dog Food</td>\n",
       "      <td>I have bought several of the Vitality canned d...</td>\n",
       "    </tr>\n",
       "    <tr>\n",
       "      <th>1</th>\n",
       "      <td>2</td>\n",
       "      <td>B00813GRG4</td>\n",
       "      <td>A1D87F6ZCVE5NK</td>\n",
       "      <td>dll pa</td>\n",
       "      <td>0</td>\n",
       "      <td>0</td>\n",
       "      <td>1</td>\n",
       "      <td>1346976000</td>\n",
       "      <td>Not as Advertised</td>\n",
       "      <td>Product arrived labeled as Jumbo Salted Peanut...</td>\n",
       "    </tr>\n",
       "    <tr>\n",
       "      <th>2</th>\n",
       "      <td>3</td>\n",
       "      <td>B000LQOCH0</td>\n",
       "      <td>ABXLMWJIXXAIN</td>\n",
       "      <td>Natalia Corres \"Natalia Corres\"</td>\n",
       "      <td>1</td>\n",
       "      <td>1</td>\n",
       "      <td>4</td>\n",
       "      <td>1219017600</td>\n",
       "      <td>\"Delight\" says it all</td>\n",
       "      <td>This is a confection that has been around a fe...</td>\n",
       "    </tr>\n",
       "  </tbody>\n",
       "</table>\n",
       "</div>"
      ]
     },
     "execution_count": 8,
     "metadata": {},
     "output_type": "execute_result"
    }
   ],
   "execution_count": 8
  },
  {
   "cell_type": "markdown",
   "source": [
    "We will use the score column provided to get the polarity of the review.\n",
    "1. reviews with score 4 and 5 will be considered positive\n",
    "2. reviews with score 1 and 2 will be considered negative\n",
    "3. we have dropped the reviews with value of 3 as it is not a good indicator of polarity of review"
   ],
   "metadata": {
    "id": "tO5YNAYHgMOA"
   }
  },
  {
   "cell_type": "code",
   "source": [
    "# convert score values to sentiment\n",
    "def score_to_sentiment(x):\n",
    "    if x > 3:\n",
    "        return 'positive'\n",
    "    else:\n",
    "        return 'negative'\n",
    "\n",
    "data['Score'] = data['Score'].apply(score_to_sentiment)"
   ],
   "metadata": {
    "execution": {
     "iopub.status.busy": "2024-02-11T05:59:10.585281Z",
     "iopub.execute_input": "2024-02-11T05:59:10.586024Z",
     "iopub.status.idle": "2024-02-11T05:59:10.763077Z",
     "shell.execute_reply.started": "2024-02-11T05:59:10.585982Z",
     "shell.execute_reply": "2024-02-11T05:59:10.762214Z"
    },
    "trusted": true,
    "id": "ob12z746gMOA",
    "ExecuteTime": {
     "end_time": "2024-05-10T17:39:22.505283Z",
     "start_time": "2024-05-10T17:39:22.385028Z"
    }
   },
   "outputs": [],
   "execution_count": 9
  },
  {
   "cell_type": "markdown",
   "source": [
    "## 2. Data Cleaning\n",
    "\n",
    "Steps:\n",
    "1. Sorting Data by ProductID\n",
    "2. Deduplication\n",
    "3. Helpfulness numerator should always be less than helpfulness denominator\n",
    "4. Cleaning HTML Tags and Punctuation"
   ],
   "metadata": {
    "id": "V8CAT-X5gMOA"
   }
  },
  {
   "cell_type": "code",
   "source": [
    "# Sorting data acc to product ID\n",
    "sorted_data = data.sort_values(by='ProductId', axis=0, ascending=True, kind='quicksort', na_position='last')\n",
    "\n",
    "# Deduplication\n",
    "final = sorted_data.drop_duplicates(subset={\"UserId\",\"ProfileName\",\"Time\",\"Text\"}, keep='first', inplace=False)\n",
    "\n",
    "# helpfulness numerator should always be less than helpfulness denominator\n",
    "final = final[final['HelpfulnessNumerator'] <= final['HelpfulnessDenominator']]\n",
    "print('Shape of our data remaining:', final.shape)\n",
    "\n",
    "# checking the percentage of data remaining\n",
    "print('Percentage of Data Remaining:', (final.shape[0] / data.shape[0]) * 100)"
   ],
   "metadata": {
    "execution": {
     "iopub.status.busy": "2024-02-11T05:59:10.765367Z",
     "iopub.execute_input": "2024-02-11T05:59:10.765922Z",
     "iopub.status.idle": "2024-02-11T05:59:13.874146Z",
     "shell.execute_reply.started": "2024-02-11T05:59:10.765893Z",
     "shell.execute_reply": "2024-02-11T05:59:13.872936Z"
    },
    "trusted": true,
    "id": "LuB9W9hPgMOA",
    "ExecuteTime": {
     "end_time": "2024-05-10T17:39:28.840476Z",
     "start_time": "2024-05-10T17:39:27.224350Z"
    }
   },
   "outputs": [
    {
     "name": "stdout",
     "output_type": "stream",
     "text": [
      "Shape of our data remaining: (364171, 10)\n",
      "Percentage of Data Remaining: 69.25852107399194\n"
     ]
    }
   ],
   "execution_count": 10
  },
  {
   "cell_type": "code",
   "source": [
    "# let's check how positive and negative reviews are distributed\n",
    "plt.bar(final['Score'].value_counts().index, final['Score'].value_counts().values)\n",
    "plt.xlabel('index')\n",
    "plt.ylabel('Score')\n",
    "plt.show()\n"
   ],
   "metadata": {
    "execution": {
     "iopub.status.busy": "2024-02-11T05:59:13.876198Z",
     "iopub.execute_input": "2024-02-11T05:59:13.87676Z",
     "iopub.status.idle": "2024-02-11T05:59:14.184985Z",
     "shell.execute_reply.started": "2024-02-11T05:59:13.876709Z",
     "shell.execute_reply": "2024-02-11T05:59:14.183728Z"
    },
    "trusted": true,
    "id": "TEBVkWLNgMOA",
    "ExecuteTime": {
     "end_time": "2024-05-10T17:45:46.317650Z",
     "start_time": "2024-05-10T17:45:46.137244Z"
    }
   },
   "outputs": [
    {
     "data": {
      "text/plain": [
       "<Figure size 640x480 with 1 Axes>"
      ],
      "image/png": "[encoded data removed]"
     },
     "metadata": {},
     "output_type": "display_data"
    }
   ],
   "execution_count": 19
  },
  {
   "cell_type": "code",
   "source": [
    "# find sentences containing HTML tags and punctuation\n",
    "# we can see that there are a lot of unwanted elements in the raw text provided to us\n",
    "# these elements will cause unnecessary dimensions in our vector conversions.\n",
    "import re\n",
    "i=0\n",
    "for sent in final['Text'].values:\n",
    "    if (len(re.findall('<.*?>', sent))) and (len(re.findall('[?|!|\\'|\"|#]', sent))):\n",
    "        print('Index:', i)\n",
    "        print(sent)\n",
    "        break\n",
    "    i += 1"
   ],
   "metadata": {
    "execution": {
     "iopub.status.busy": "2024-02-11T05:59:14.186417Z",
     "iopub.execute_input": "2024-02-11T05:59:14.186737Z",
     "iopub.status.idle": "2024-02-11T05:59:14.195198Z",
     "shell.execute_reply.started": "2024-02-11T05:59:14.18671Z",
     "shell.execute_reply": "2024-02-11T05:59:14.193799Z"
    },
    "trusted": true,
    "id": "3f2KLc41gMOA",
    "ExecuteTime": {
     "end_time": "2024-05-10T17:46:07.268061Z",
     "start_time": "2024-05-10T17:46:07.231849Z"
    }
   },
   "outputs": [
    {
     "name": "stdout",
     "output_type": "stream",
     "text": [
      "Index: 6\n",
      "I set aside at least an hour each day to read to my son (3 y/o). At this point, I consider myself a connoisseur of children's books and this is one of the best. Santa Clause put this under the tree. Since then, we've read it perpetually and he loves it.<br /><br />First, this book taught him the months of the year.<br /><br />Second, it's a pleasure to read. Well suited to 1.5 y/o old to 4+.<br /><br />Very few children's books are worth owning. Most should be borrowed from the library. This book, however, deserves a permanent spot on your shelf. Sendak's best.\n"
     ]
    }
   ],
   "execution_count": 20
  },
  {
   "cell_type": "code",
   "source": [
    "# source ->\n",
    "# 1. https://stackoverflow.com/questions/9662346/python-code-to-remove-html-tags-from-a-string\n",
    "# 2. https://datagy.io/python-remove-punctuation-from-string/\n",
    "\n",
    "stop = set(stopwords.words('english')) #set of stopwords\n",
    "sno = nltk.stem.SnowballStemmer('english') #initialising the snowball stemmer\n",
    "\n",
    "#function to clean the word of any html-tags\n",
    "def cleanhtml(sentence):\n",
    "    cleanr = re.compile('<.*?>')\n",
    "    cleantext = re.sub(cleanr, ' ', sentence)\n",
    "    return cleantext\n",
    "\n",
    "# function to clean the word of any punctuation or special characters\n",
    "# please note that you can add any missed character using | operator\n",
    "def cleanpunc(sentence):\n",
    "    cleaned = re.sub(r'[?|!|\\'|\"|#|.|,|)|(|\\|/]',r'',sentence)\n",
    "    return  cleaned\n",
    "\n",
    "res = cleanhtml(final['Text'].values[6])\n",
    "res = cleanpunc(res)\n",
    "print(res)"
   ],
   "metadata": {
    "execution": {
     "iopub.status.busy": "2024-02-11T05:59:14.197155Z",
     "iopub.execute_input": "2024-02-11T05:59:14.197847Z",
     "iopub.status.idle": "2024-02-11T05:59:14.214819Z",
     "shell.execute_reply.started": "2024-02-11T05:59:14.197799Z",
     "shell.execute_reply": "2024-02-11T05:59:14.213842Z"
    },
    "trusted": true,
    "id": "TsGmsPZ_gMOA",
    "ExecuteTime": {
     "end_time": "2024-05-10T17:46:12.024437Z",
     "start_time": "2024-05-10T17:46:12.003621Z"
    }
   },
   "outputs": [
    {
     "name": "stdout",
     "output_type": "stream",
     "text": [
      "I set aside at least an hour each day to read to my son 3 yo At this point I consider myself a connoisseur of childrens books and this is one of the best Santa Clause put this under the tree Since then weve read it perpetually and he loves it  First this book taught him the months of the year  Second its a pleasure to read Well suited to 15 yo old to 4+  Very few childrens books are worth owning Most should be borrowed from the library This book however deserves a permanent spot on your shelf Sendaks best\n"
     ]
    }
   ],
   "execution_count": 21
  },
  {
   "cell_type": "code",
   "source": [
    "# làm sạch html, dấu câu, từ dừng và bắt nguồn từng từ trong mỗi bài đánh giá\n",
    "# xin lưu ý rằng đối với Word2Vec, sẽ không bao gồm tất cả các bước này để xử lý trước.\n",
    "# lưu trữ những đánh giá cuối cùng này trong cơ sở dữ liệu Final.sqlite\n",
    "\n",
    "if not os.path.isfile('final.sqlite'):\n",
    "    cleaned_reviews=[]\n",
    "    cleaned_reviews_w2v = []\n",
    "    for i, sent in enumerate(tqdm(final['Text'].values)):\n",
    "        filtered_sentence=[]\n",
    "        filtered_sentence_w2v = []\n",
    "        sent = cleanhtml(sent)\n",
    "        for word in sent.split():\n",
    "            for cleaned_words in cleanpunc(word).split():\n",
    "                if((cleaned_words.isalpha()) & (len(cleaned_words)>2)):\n",
    "                    filtered_sentence_w2v.append(cleaned_words.lower())\n",
    "                    if(cleaned_words.lower() not in stop):\n",
    "                        stem_word=(sno.stem(cleaned_words.lower())).encode('utf8')\n",
    "                        filtered_sentence.append(stem_word)\n",
    "        filtered_sentence = b' '.join(filtered_sentence)\n",
    "        filtered_sentence_w2v = ' '.join(filtered_sentence_w2v)\n",
    "        cleaned_reviews.append(filtered_sentence)\n",
    "        cleaned_reviews_w2v.append(filtered_sentence_w2v)\n",
    "    final['CleanedText']=cleaned_reviews\n",
    "    final['CleanedText']=final['CleanedText'].str.decode(\"utf-8\")\n",
    "    final['CleanedText_w2v'] = cleaned_reviews_w2v\n",
    "\n",
    "    conn = sqlite3.connect('final.sqlite')\n",
    "    c=conn.cursor()\n",
    "    conn.text_factory = str\n",
    "    final.to_sql('Reviews', conn,  schema=None, if_exists='replace', \\\n",
    "                 index=True, index_label=None, chunksize=None, dtype=None)\n",
    "    conn.close()\n",
    "    print('Done..!!')\n",
    "\n",
    "else:\n",
    "    print('File already Exist')"
   ],
   "metadata": {
    "execution": {
     "iopub.status.busy": "2024-02-11T05:59:14.21643Z",
     "iopub.execute_input": "2024-02-11T05:59:14.217063Z",
     "iopub.status.idle": "2024-02-11T06:07:04.031922Z",
     "shell.execute_reply.started": "2024-02-11T05:59:14.217032Z",
     "shell.execute_reply": "2024-02-11T06:07:04.0305Z"
    },
    "trusted": true,
    "id": "kypm-pXfgMOA",
    "ExecuteTime": {
     "end_time": "2024-05-10T17:51:57.289904Z",
     "start_time": "2024-05-10T17:51:57.258454Z"
    }
   },
   "outputs": [
    {
     "name": "stdout",
     "output_type": "stream",
     "text": [
      "File already Exist\n"
     ]
    }
   ],
   "execution_count": 25
  },
  {
   "cell_type": "code",
   "source": [
    "# creating a function to visualize tsne results\n",
    "\n",
    "def tsne_visualizer(data, label, title):\n",
    "    # TSNE\n",
    "    from sklearn.manifold import TSNE\n",
    "\n",
    "    tsne_model = TSNE(n_components=2, n_iter=2000)\n",
    "    tsne_data = tsne_model.fit_transform(data)\n",
    "\n",
    "    tsne_df = pd.DataFrame(data=np.vstack((tsne_data.T, label)).T, columns=['1st_component', '2nd_component', 'label'])\n",
    "    tsne_df\n",
    "\n",
    "    sns.scatterplot(data=tsne_df, x='1st_component', y='2nd_component', hue='label')\n",
    "    plt.title(title)\n",
    "    plt.show()\n",
    "\n",
    "# tsne_visualizer(data=bow_standerdised_data, label=df_final['Score'].values)"
   ],
   "metadata": {
    "execution": {
     "iopub.status.busy": "2024-02-11T06:07:04.033845Z",
     "iopub.execute_input": "2024-02-11T06:07:04.034229Z",
     "iopub.status.idle": "2024-02-11T06:07:04.042444Z",
     "shell.execute_reply.started": "2024-02-11T06:07:04.034199Z",
     "shell.execute_reply": "2024-02-11T06:07:04.041057Z"
    },
    "trusted": true,
    "id": "or3uyP0tgMOB",
    "ExecuteTime": {
     "end_time": "2024-05-10T17:53:29.217230Z",
     "start_time": "2024-05-10T17:53:29.199213Z"
    }
   },
   "outputs": [],
   "execution_count": 26
  },
  {
   "cell_type": "markdown",
   "source": [
    "## 3. Chuyển đổi đánh giá thành vectơ và phân loại cảm xúc bằng KNN\n",
    "\n",
    "### ***Mục tiêu:*** Chuyển đổi từng đánh giá hoặc câu thành một vectơ và sử dụng K Nearest Neighbor để phân loại."
   ],
   "metadata": {
    "id": "d1WD_BIAgMOB"
   }
  },
  {
   "cell_type": "markdown",
   "source": [
    "Trong phần này, chúng tôi sẽ chuyển đổi các đánh giá đã được làm sạch của mình thành vectơ bằng cách sử dụng ***Bag Of Words, TF-IDF, Average Word2Vec và TF-IDF Weighted*** Word2Vec để chúng tôi có thể biểu diễn chúng trong mặt phẳng n chiều và sau đó sử dụng Knearest Hàng xóm để phân loại các đánh giá tích cực và tiêu cực.\n",
    "\n",
    "\n",
    "Dưới đây là các bước chúng tôi sẽ thực hiện cho từng kỹ thuật vector hóa:\n",
    "1. Vector hóa: BOW, TF-IDF, Avg Word2Vec, Word2Vec có trọng số TF-IDF\n",
    "2. Lấy mẫu quá mức: Lấy mẫu ngẫu nhiên\n",
    "3. Tiêu chuẩn hóa\n",
    "4. Giảm kích thước: PCA ; (sẽ bị bỏ qua đối với Word2Vec)\n",
    "5. K-NN và Báo cáo phân loạiv"
   ],
   "metadata": {
    "id": "2GFt2ljOgMOB"
   }
  },
  {
   "cell_type": "code",
   "source": [
    "# đọc các dữ liệu đã làm sạch trong final\n",
    "\n",
    "if os.path.isfile('final.sqlite'):\n",
    "    conn = sqlite3.connect('final.sqlite')\n",
    "    final = pd.read_sql_query(\"\"\" SELECT * FROM Reviews \"\"\", conn)\n",
    "    conn.close()\n",
    "else:\n",
    "    print(\"File Not Available in the location\")"
   ],
   "metadata": {
    "execution": {
     "iopub.status.busy": "2024-02-11T06:07:04.049458Z",
     "iopub.execute_input": "2024-02-11T06:07:04.050085Z",
     "iopub.status.idle": "2024-02-11T06:07:08.856257Z",
     "shell.execute_reply.started": "2024-02-11T06:07:04.050031Z",
     "shell.execute_reply": "2024-02-11T06:07:08.855036Z"
    },
    "trusted": true,
    "id": "maS1dymwgMOB",
    "ExecuteTime": {
     "end_time": "2024-05-10T17:53:55.364637Z",
     "start_time": "2024-05-10T17:53:49.889118Z"
    }
   },
   "outputs": [],
   "execution_count": 27
  },
  {
   "cell_type": "markdown",
   "source": [
    "## (A) Bag Of Words"
   ],
   "metadata": {
    "id": "nSPtyoOMgMOB"
   }
  },
  {
   "cell_type": "markdown",
   "source": [
    "### Phân chia dựa trên thời gian\n",
    "Phân tách dựa trên thời gian đề cập đến việc thực hành phân chia dữ liệu hoặc mẫu dựa trên tiêu chí thời gian. Mục tiêu chính của việc phân tách dựa trên thời gian là đảm bảo rằng thứ tự thời gian của dữ liệu được giữ nguyên trong quá trình phân tách. Bằng cách sử dụng tính năng phân tách dựa trên thời gian, các mô hình học máy có thể được đào tạo và đánh giá dựa trên dữ liệu gần giống với kịch bản trong thế giới thực mà chúng sẽ được triển khai. Cách tiếp cận này giúp nắm bắt các mô hình thời gian và sự phụ thuộc, đồng thời cung cấp ước tính đáng tin cậy về hiệu suất của mô hình trong các ứng dụng thực tế.\n",
    "\n",
    "Các bước:\n",
    "1. Sắp xếp dữ liệu theo thời gian\n",
    "2. Tách dữ liệu đã sắp xếp của tôi thành dữ liệu huấn luyện, dữ liệu xác thực và dữ liệu kiểm tra. sẽ lấy 70% dữ liệu đầu tiên để đào tạo và xác thực, phần còn lại để kiểm tra."
   ],
   "metadata": {
    "id": "LMgZRlAIgMOB"
   }
  },
  {
   "cell_type": "code",
   "source": [
    "# sắp xếp dữ liệu theo thời gian vì nó là một biểu diễn tốt hơn của trường hợp sử dụng thực tế\n",
    "\n",
    "# hãy thao tác trên 7000 điểm dữ liệu vì hạn chế bộ nhớ\n",
    "df_final = final.sort_values(by='Time')[:7000]\n",
    "print('hình dạng của tập dữ liệu cuối cùng :', df_final.shape)\n",
    "print(\"=\"*20)\n",
    "\n",
    "# lấy 70 phần trăm dữ liệu của chúng tôi cho train và 30 phần trăm cho test\n",
    "# của 70 phần trăm dữ liệu, chúng tôi sẽ sử dụng 80 phần trăm cho train và 20 phần trăm cho cross validation\n",
    "n_train = int(np.ceil(df_final.shape[0] * 0.70))\n",
    "n_cv = int(n_train * 0.80)\n",
    "\n",
    "df_train = df_final[:n_cv]\n",
    "df_cv = df_final[n_cv:n_train]\n",
    "df_test = df_final[n_train:]\n",
    "\n",
    "# kiểm tra phân phối lớp của mỗi phần dữ liệu\n",
    "df_lst = [('\\tDữ liệu Train', df_train), ('\\tDữ liệu Cross Validation', df_cv), ('\\tDữ liệu Test ', df_test)]\n",
    "for df_name, df in df_lst:\n",
    "    print(df_name)\n",
    "    print('Hình dạng của dữ liệu:', df.shape)\n",
    "    print('Phân phối lớp:')\n",
    "    print(df['Score'].value_counts())\n",
    "    print('='*20)\n",
    "\n",
    "#vẽ biểu đồ số lượng điểm dữ liệu trong mỗi lớp\n",
    "sns.countplot(df_final['Score'])\n",
    "plt.show()\n"
   ],
   "metadata": {
    "execution": {
     "iopub.status.busy": "2024-02-11T06:07:08.857856Z",
     "iopub.execute_input": "2024-02-11T06:07:08.858247Z",
     "iopub.status.idle": "2024-02-11T06:07:09.262536Z",
     "shell.execute_reply.started": "2024-02-11T06:07:08.858214Z",
     "shell.execute_reply": "2024-02-11T06:07:09.261074Z"
    },
    "trusted": true,
    "id": "Z5JLvSHJgMOB",
    "ExecuteTime": {
     "end_time": "2024-05-10T17:59:51.683776Z",
     "start_time": "2024-05-10T17:59:50.270492Z"
    }
   },
   "outputs": [
    {
     "name": "stdout",
     "output_type": "stream",
     "text": [
      "hình dạng của tập dữ liệu cuối cùng : (7000, 13)\n",
      "====================\n",
      "\tDữ liệu Train\n",
      "Hình dạng của dữ liệu: (3920, 13)\n",
      "Phân phối lớp:\n",
      "Score\n",
      "positive    3491\n",
      "negative     429\n",
      "Name: count, dtype: int64\n",
      "====================\n",
      "\tDữ liệu Cross Validation\n",
      "Hình dạng của dữ liệu: (980, 13)\n",
      "Phân phối lớp:\n",
      "Score\n",
      "positive    839\n",
      "negative    141\n",
      "Name: count, dtype: int64\n",
      "====================\n",
      "\tDữ liệu Test \n",
      "Hình dạng của dữ liệu: (2100, 13)\n",
      "Phân phối lớp:\n",
      "Score\n",
      "positive    1860\n",
      "negative     240\n",
      "Name: count, dtype: int64\n",
      "====================\n"
     ]
    },
    {
     "data": {
      "text/plain": [
       "<Figure size 640x480 with 1 Axes>"
      ],
      "image/png": "[encoded data removed]"
     },
     "metadata": {},
     "output_type": "display_data"
    }
   ],
   "execution_count": 37
  },
  {
   "cell_type": "markdown",
   "source": [
    "### Vectorization using Bag Of Words"
   ],
   "metadata": {
    "id": "TNEEYxomgMOB"
   }
  },
  {
   "cell_type": "code",
   "source": [
    "# Bag of Words\n",
    "vectorizer_bow = CountVectorizer()\n",
    "train_bow = vectorizer_bow.fit_transform(df_train['CleanedText'].values)\n",
    "cv_bow = vectorizer_bow.transform(df_cv['CleanedText'].values)\n",
    "test_bow = vectorizer_bow.transform(df_test['CleanedText'].values)\n",
    "\n",
    "print(train_bow.shape)\n",
    "print(cv_bow.shape)\n",
    "print(test_bow.shape)"
   ],
   "metadata": {
    "execution": {
     "iopub.status.busy": "2024-02-11T06:07:09.264192Z",
     "iopub.execute_input": "2024-02-11T06:07:09.26463Z",
     "iopub.status.idle": "2024-02-11T06:07:09.711569Z",
     "shell.execute_reply.started": "2024-02-11T06:07:09.264597Z",
     "shell.execute_reply": "2024-02-11T06:07:09.710435Z"
    },
    "trusted": true,
    "id": "TKnfejNTgMOB"
   },
   "outputs": [],
   "execution_count": null
  },
  {
   "cell_type": "markdown",
   "source": [
    "### Oversampling\n",
    "Imbalanced datasets, where the classes are not represented equally, can pose challenges in machine learning tasks. We have a considerably low ammount of negative reviews as compared to positive reviews and we will use Random Over Sampling to take care of this issue.\n",
    "\n",
    "RandomOverSampler: The RandomOverSampler works by randomly duplicating examples from the minority class until it reaches a similar size to the majority class. This synthetic oversampling technique helps to mitigate the class imbalance problem, allowing the model to learn from a more balanced representation of the data.\n",
    "\n"
   ],
   "metadata": {
    "id": "1-0snTy-gMOB"
   }
  },
  {
   "cell_type": "code",
   "source": [
    "# plotting class imbalance before oversampling\n",
    "plt.figure(1, figsize=(17,6))\n",
    "plt.subplot(1,2,1)\n",
    "sns.countplot(x=df_train['Score'])\n",
    "plt.title('class distribution before oversampling')\n",
    "print('Shape of data before oversampling:', train_bow.shape, '\\n\\n')\n",
    "\n",
    "# performing oversampling using smote\n",
    "# oversampling our train data\n",
    "ros = RandomOverSampler()\n",
    "X_train_bow, Y_train_bow = ros.fit_resample(train_bow,df_train['Score'])\n",
    "\n",
    "# plotting class dist after oversampling\n",
    "plt.subplot(1,2,2)\n",
    "sns.countplot(x=Y_train_bow)\n",
    "plt.title('class distribution after oversampling')\n",
    "plt.show()\n",
    "print('Shape of data after oversampling:', X_train_bow.shape)\n"
   ],
   "metadata": {
    "execution": {
     "iopub.status.busy": "2024-02-11T06:07:09.712893Z",
     "iopub.execute_input": "2024-02-11T06:07:09.713224Z",
     "iopub.status.idle": "2024-02-11T06:07:10.260432Z",
     "shell.execute_reply.started": "2024-02-11T06:07:09.713195Z",
     "shell.execute_reply": "2024-02-11T06:07:10.258962Z"
    },
    "trusted": true,
    "id": "q5E1-OPdgMOB"
   },
   "outputs": [],
   "execution_count": null
  },
  {
   "cell_type": "markdown",
   "source": [
    "### Standardization"
   ],
   "metadata": {
    "id": "34mkrpN4gMOB"
   }
  },
  {
   "cell_type": "code",
   "source": [
    "# standardization\n",
    "scaler_bow = StandardScaler()\n",
    "X_train_bow_standardised = scaler_bow.fit_transform(X_train_bow.toarray())\n",
    "X_cv_bow_standardised = scaler_bow.transform(cv_bow.toarray())\n",
    "X_test_bow_standardised = scaler_bow.transform(test_bow.toarray())"
   ],
   "metadata": {
    "execution": {
     "iopub.status.busy": "2024-02-11T06:07:10.262613Z",
     "iopub.execute_input": "2024-02-11T06:07:10.263549Z",
     "iopub.status.idle": "2024-02-11T06:07:13.436947Z",
     "shell.execute_reply.started": "2024-02-11T06:07:10.263501Z",
     "shell.execute_reply": "2024-02-11T06:07:13.435736Z"
    },
    "trusted": true,
    "id": "UeY7dsjsgMOB"
   },
   "outputs": [],
   "execution_count": null
  },
  {
   "cell_type": "markdown",
   "source": [
    "### Dimensionality Reduction\n",
    "Dimensionality reduction is a fundamental technique in machine learning that aims to address the curse of dimensionality by reducing the number of features or variables in a dataset. High-dimensional datasets can present challenges such as increased computational complexity, overfitting, and difficulties in data visualization and interpretation. Dimensionality reduction methods help mitigate these issues by extracting the most informative features or creating new, lower-dimensional representations of the data.\n",
    "Our BOW vectorization has produced about 11K dimensions for each of our vector we will use PCA to address this issue."
   ],
   "metadata": {
    "id": "QziF7q5pgMOB"
   }
  },
  {
   "cell_type": "code",
   "source": [
    "# dim reduction using PCA or we can also use truncated SVD\n",
    "\n",
    "pca = PCA(n_components=3000)\n",
    "pca.fit(X_train_bow_standardised)\n",
    "explained_variance = pca.explained_variance_ratio_\n",
    "print(len(explained_variance))\n",
    "\n",
    "\n",
    "dim_req_var = sum(np.cumsum(explained_variance) <=0.95)\n",
    "print('Dimensions required for 95 percent explained variance:', dim_req_var)\n",
    "print('Variance Explained:', np.cumsum(explained_variance)[dim_req_var])\n",
    "\n",
    "plt.figure(figsize=(15,5))\n",
    "plt.grid()\n",
    "plt.plot(list(range(len(explained_variance))),np.cumsum(explained_variance))\n",
    "plt.axvline(x = dim_req_var, color = 'g', label='95 pecent var line')\n",
    "plt.xlabel('Dimensions')\n",
    "plt.ylabel('Cumulative Percentage Variance Explained')\n",
    "plt.legend()\n",
    "plt.show()\n",
    "\n",
    "\n",
    "X_train_bow_pca = pca.transform(X_train_bow_standardised)[:, :dim_req_var]\n",
    "X_cv_bow_pca = pca.transform(X_cv_bow_standardised)[:, :dim_req_var]\n",
    "X_test_bow_pca = pca.transform(X_test_bow_standardised)[:, :dim_req_var]\n",
    "\n",
    "y_train = Y_train_bow\n",
    "y_cv = df_cv['Score'].values\n",
    "y_test = df_test['Score'].values"
   ],
   "metadata": {
    "execution": {
     "iopub.status.busy": "2024-02-11T06:07:13.440629Z",
     "iopub.execute_input": "2024-02-11T06:07:13.441237Z",
     "iopub.status.idle": "2024-02-11T06:09:45.927836Z",
     "shell.execute_reply.started": "2024-02-11T06:07:13.441202Z",
     "shell.execute_reply": "2024-02-11T06:09:45.926234Z"
    },
    "trusted": true,
    "id": "ixuw-YRSgMOB"
   },
   "outputs": [],
   "execution_count": null
  },
  {
   "cell_type": "markdown",
   "source": [
    "### Classification with K Nearest Neighbor\n",
    "\n",
    "K-Nearest Neighbors (KNN) is a popular and intuitive algorithm used for both classification and regression tasks in machine learning. It is a non-parametric algorithm, meaning it does not make assumptions about the underlying data distribution. KNN makes predictions based on the similarities between instances in the feature space. We will use euclidean distance as our distance measure for this use case.\n",
    "\n",
    "1. The K-Nearest Neighbors (KNN) algorithm will be executed with a range of k values, specifically from 1 to 29 with a step size of 2, ensuring only odd values are considered.\n",
    "2. Subsequently, the KNN model will be trained using the training data, and the validation data will be utilized to assess the accuracy, f1-score (positive), and f1-score (negative) for each value of k.\n",
    "3. The k value associated with the highest accuracy will be selected, and this optimal k will be employed to generate the final accuracy metric. In addition, a comprehensive classification report and a confusion matrix will be generated using the test data."
   ],
   "metadata": {
    "id": "TMZFIKo4gMOB"
   }
  },
  {
   "cell_type": "code",
   "source": [
    "# Using KNN for classification\n",
    "accuracy = []\n",
    "f1_positive = []\n",
    "f1_negative = []\n",
    "K_values = list(range(1,30,2))\n",
    "\n",
    "for k in tqdm(K_values):\n",
    "    knn = KNeighborsClassifier(n_neighbors=k)\n",
    "    knn.fit(X_train_bow_pca, y_train)\n",
    "    pred = knn.predict(X_cv_bow_pca)\n",
    "    f1_positive.append(f1_score(y_cv, pred, pos_label=\"positive\"))\n",
    "    f1_negative.append(f1_score(y_cv, pred, pos_label=\"negative\"))\n",
    "    accuracy.append(accuracy_score(y_cv, pred))\n",
    "\n",
    "positive_ind = f1_positive.index(max(f1_positive))\n",
    "negative_ind = f1_negative.index(max(f1_negative))\n",
    "acc_ind = accuracy.index(max(accuracy))\n",
    "print('The maximum accuracy is {a} with K value of {b}'.format(a=max(accuracy), b=K_values[acc_ind]))\n",
    "print('The maximum F1 score on CV data for positive labels is {a} with K value of {b}'.format(a=max(f1_positive), b=K_values[positive_ind]))\n",
    "print('The maximum F1 score on CV data for negative labels is {a} with K value of {b}'.format(a=max(f1_negative), b=K_values[negative_ind]))\n",
    "\n",
    "# plotting accuracy f1-positive and f1-negative for K values\n",
    "plt.figure(1, figsize=(22,5))\n",
    "plt.subplot(1,3,1)\n",
    "plt.plot(K_values, accuracy, 'o--')\n",
    "plt.title('Accuracy')\n",
    "plt.xlabel('K_Values')\n",
    "\n",
    "plt.subplot(1,3,2)\n",
    "plt.plot(K_values, f1_positive, 'o--')\n",
    "plt.title('F1_Positive')\n",
    "plt.xlabel('K_Values')\n",
    "\n",
    "plt.subplot(1,3,3)\n",
    "plt.plot(K_values, f1_negative, 'o--')\n",
    "plt.title('F1_Negative')\n",
    "plt.xlabel('K_Values')\n",
    "\n",
    "# knn on our test data for reporting\n",
    "# plase note that we can fit it on best value of our negativef1 score as well\n",
    "# in order to boost the precision and recall for our negative reviews\n",
    "knn = KNeighborsClassifier(n_neighbors=K_values[acc_ind])\n",
    "knn.fit(X_train_bow_pca, y_train)\n",
    "pred = knn.predict(X_test_bow_pca)\n",
    "\n",
    "# generating relevant martices\n",
    "confusion_mat = pd.DataFrame(confusion_matrix(y_test, pred, labels=['positive', 'negative']), columns=['pred_positive', 'pred_negative'], index=['true_positive', 'true_negative'])\n",
    "print('\\nConfusion matrix:')\n",
    "print(confusion_mat)\n",
    "print('\\nClassification Report:')\n",
    "print(classification_report(y_test, pred))\n",
    "print('\\nAccuracy on Test Data:', accuracy_score(y_test, pred))"
   ],
   "metadata": {
    "execution": {
     "iopub.status.busy": "2024-02-11T06:09:45.930196Z",
     "iopub.execute_input": "2024-02-11T06:09:45.931313Z",
     "iopub.status.idle": "2024-02-11T06:09:59.868037Z",
     "shell.execute_reply.started": "2024-02-11T06:09:45.931258Z",
     "shell.execute_reply": "2024-02-11T06:09:59.867072Z"
    },
    "trusted": true,
    "id": "atSHt0mKgMOB"
   },
   "outputs": [],
   "execution_count": null
  },
  {
   "cell_type": "markdown",
   "source": [
    "### ***BOW Results:***\n",
    "the classification model achieved an accuracy of 86% on the dataset, indicating that it correctly classified 86% of the instances, even though the accuracy suggest that the model has performed well let's look at our confusion martix.\n",
    "\n",
    "Examining the confusion matrix, we observe that out of the actual positive instances, the model correctly predicted 1,787 as positive (true positive), but it incorrectly classified 75 as negative (false negative). Additionally, out of the actual negative instances, the model correctly predicted 26 as negative (true negative), while misclassifying 214 as positive (false positive).\n",
    "\n",
    "The precision for the positive class is 89%, suggesting that out of all instances predicted as positive, 89% were actually positive. The recall for the positive class is 96%, indicating that the model accurately identified 96% of the positive instances. The f1-score for the positive class is 93%, which combines precision and recall into a single metric and this indicates that the model predicts positive class really well.\n",
    "\n",
    "On the other hand, the precision for the negative class is relatively low at 28%, implying that only 28% of the instances predicted as negative were truly negative. The recall for the negative class is 12%, indicating that the model struggled to correctly identify the negative instances. The f1-score for the negative class is 17%. This indicates that our model is very poor at predicting the negative class or reviews."
   ],
   "metadata": {
    "id": "CPweyojBgMOC"
   }
  },
  {
   "cell_type": "markdown",
   "source": [
    "To diagnose the problem we can employ a variety of techniques but let's visualize our train data in 2D to better understand how well seperated the positive and negative reviews are."
   ],
   "metadata": {
    "id": "FfQdbInAgMOC"
   }
  },
  {
   "cell_type": "code",
   "source": [
    "# visualizing BOW with TSNE\n",
    "\n",
    "title = 'Bag of Words'\n",
    "tsne_visualizer(data=X_train_bow_pca, label=y_train, title=title)"
   ],
   "metadata": {
    "execution": {
     "iopub.status.busy": "2024-02-11T06:09:59.869042Z",
     "iopub.execute_input": "2024-02-11T06:09:59.869708Z",
     "iopub.status.idle": "2024-02-11T06:11:39.209744Z",
     "shell.execute_reply.started": "2024-02-11T06:09:59.869607Z",
     "shell.execute_reply": "2024-02-11T06:11:39.208461Z"
    },
    "trusted": true,
    "id": "eMFkm_c5gMOC"
   },
   "outputs": [],
   "execution_count": null
  },
  {
   "cell_type": "markdown",
   "source": [
    "## (B) TF-IDF"
   ],
   "metadata": {
    "id": "l-hcUV9wgMOC"
   }
  },
  {
   "cell_type": "code",
   "source": [
    "# TF-IDF\n",
    "vectorizer_tfidf = TfidfVectorizer()\n",
    "train_tfidf = vectorizer_tfidf.fit_transform(df_train['CleanedText'].values)\n",
    "cv_tfidf = vectorizer_tfidf.transform(df_cv['CleanedText'].values)\n",
    "test_tfidf = vectorizer_tfidf.transform(df_test['CleanedText'].values)\n",
    "\n",
    "print(train_tfidf.shape)\n",
    "print(cv_tfidf.shape)\n",
    "print(test_tfidf.shape)"
   ],
   "metadata": {
    "execution": {
     "iopub.status.busy": "2024-02-11T06:11:39.211557Z",
     "iopub.execute_input": "2024-02-11T06:11:39.212797Z",
     "iopub.status.idle": "2024-02-11T06:11:39.663587Z",
     "shell.execute_reply.started": "2024-02-11T06:11:39.212749Z",
     "shell.execute_reply": "2024-02-11T06:11:39.662392Z"
    },
    "trusted": true,
    "id": "zNHm3KI4gMOC"
   },
   "outputs": [],
   "execution_count": null
  },
  {
   "cell_type": "code",
   "source": [
    "## OVERSAMPLING\n",
    "\n",
    "# plotting class imbalance before oversampling\n",
    "plt.figure(1, figsize=(17,6))\n",
    "plt.subplot(1,2,1)\n",
    "sns.countplot(x=df_train['Score'])\n",
    "plt.title('class distribution before oversampling')\n",
    "print('Shape of data before oversampling:', train_tfidf.shape, '\\n\\n')\n",
    "\n",
    "# performing oversampling using smote\n",
    "# oversampling our train data\n",
    "ros = RandomOverSampler()\n",
    "X_train_tfidf, Y_train_tfidf = ros.fit_resample(train_tfidf,df_train['Score'])\n",
    "\n",
    "# plotting class dist after oversampling\n",
    "plt.subplot(1,2,2)\n",
    "sns.countplot(x=Y_train_tfidf)\n",
    "plt.title('class distribution after oversampling')\n",
    "plt.show()\n",
    "print('Shape of data after oversampling:', X_train_tfidf.shape)\n"
   ],
   "metadata": {
    "execution": {
     "iopub.status.busy": "2024-02-11T06:11:39.664915Z",
     "iopub.execute_input": "2024-02-11T06:11:39.665275Z",
     "iopub.status.idle": "2024-02-11T06:11:40.186538Z",
     "shell.execute_reply.started": "2024-02-11T06:11:39.665243Z",
     "shell.execute_reply": "2024-02-11T06:11:40.185204Z"
    },
    "trusted": true,
    "id": "SRvYDuaAgMOC"
   },
   "outputs": [],
   "execution_count": null
  },
  {
   "cell_type": "code",
   "source": [
    "# standardization\n",
    "scaler_tfidf = StandardScaler()\n",
    "X_train_tfidf_standardised = scaler_tfidf.fit_transform(X_train_tfidf.toarray())\n",
    "X_cv_tfidf_standardised = scaler_tfidf.transform(cv_tfidf.toarray())\n",
    "X_test_tfidf_standardised = scaler_tfidf.transform(test_tfidf.toarray())"
   ],
   "metadata": {
    "execution": {
     "iopub.status.busy": "2024-02-11T06:11:40.187867Z",
     "iopub.execute_input": "2024-02-11T06:11:40.188212Z",
     "iopub.status.idle": "2024-02-11T06:11:43.063597Z",
     "shell.execute_reply.started": "2024-02-11T06:11:40.188181Z",
     "shell.execute_reply": "2024-02-11T06:11:43.062164Z"
    },
    "trusted": true,
    "id": "G1okpthXgMOC"
   },
   "outputs": [],
   "execution_count": null
  },
  {
   "cell_type": "code",
   "source": [
    "# dim reduction using PCA. We can also use truncated SVD\n",
    "\n",
    "pca = PCA(n_components=3000)\n",
    "pca.fit(X_train_tfidf_standardised)\n",
    "explained_variance = pca.explained_variance_ratio_\n",
    "print(len(explained_variance))\n",
    "\n",
    "\n",
    "dim_req_var = sum(np.cumsum(explained_variance) <=0.95)\n",
    "print('Dimensions required for 95 percent explained variance:', dim_req_var)\n",
    "print('Variance Explained:', np.cumsum(explained_variance)[dim_req_var])\n",
    "\n",
    "plt.figure(figsize=(15,5))\n",
    "plt.grid()\n",
    "plt.plot(list(range(len(explained_variance))),np.cumsum(explained_variance))\n",
    "plt.axvline(x = dim_req_var, color = 'g', label='95 pecent var line')\n",
    "plt.xlabel('Dimensions')\n",
    "plt.ylabel('Cumulative Percentage Variance Explained')\n",
    "plt.legend()\n",
    "plt.show()\n",
    "\n",
    "\n",
    "X_train_tfidf_pca = pca.transform(X_train_tfidf_standardised)[:, :dim_req_var]\n",
    "X_cv_tfidf_pca = pca.transform(X_cv_tfidf_standardised)[:, :dim_req_var]\n",
    "X_test_tfidf_pca = pca.transform(X_test_tfidf_standardised)[:, :dim_req_var]\n",
    "\n",
    "y_train = Y_train_tfidf\n",
    "y_cv = df_cv['Score'].values\n",
    "y_test = df_test['Score'].values"
   ],
   "metadata": {
    "execution": {
     "iopub.status.busy": "2024-02-11T06:11:43.065306Z",
     "iopub.execute_input": "2024-02-11T06:11:43.065815Z",
     "iopub.status.idle": "2024-02-11T06:14:13.388561Z",
     "shell.execute_reply.started": "2024-02-11T06:11:43.065771Z",
     "shell.execute_reply": "2024-02-11T06:14:13.386905Z"
    },
    "trusted": true,
    "id": "xVrk6UDmgMOF"
   },
   "outputs": [],
   "execution_count": null
  },
  {
   "cell_type": "code",
   "source": [
    "# Using KNN for classification\n",
    "accuracy = []\n",
    "f1_positive = []\n",
    "f1_negative = []\n",
    "K_values = list(range(1,30,2))\n",
    "\n",
    "for k in tqdm(K_values):\n",
    "    knn = KNeighborsClassifier(n_neighbors=k)\n",
    "    knn.fit(X_train_tfidf_pca, y_train)\n",
    "    pred = knn.predict(X_cv_tfidf_pca)\n",
    "    f1_positive.append(f1_score(y_cv, pred, pos_label=\"positive\"))\n",
    "    f1_negative.append(f1_score(y_cv, pred, pos_label=\"negative\"))\n",
    "    accuracy.append(accuracy_score(y_cv, pred))\n",
    "\n",
    "positive_ind = f1_positive.index(max(f1_positive))\n",
    "negative_ind = f1_negative.index(max(f1_negative))\n",
    "acc_ind = accuracy.index(max(accuracy))\n",
    "print('The maximum accuracy is {a} with K value of {b}'.format(a=max(accuracy), b=K_values[acc_ind]))\n",
    "print('The maximum F1 score on CV data for positive labels is {a} with K value of {b}'.format(a=max(f1_positive), b=K_values[positive_ind]))\n",
    "print('The maximum F1 score on CV data for negative labels is {a} with K value of {b}'.format(a=max(f1_negative), b=K_values[negative_ind]))\n",
    "\n",
    "# plotting accuracy f1-positive and f1-negative for K values\n",
    "plt.figure(1, figsize=(22,5))\n",
    "plt.subplot(1,3,1)\n",
    "plt.plot(K_values, accuracy, 'o--')\n",
    "plt.title('Accuracy')\n",
    "plt.xlabel('K_Values')\n",
    "\n",
    "plt.subplot(1,3,2)\n",
    "plt.plot(K_values, f1_positive, 'o--')\n",
    "plt.title('F1_Positive')\n",
    "plt.xlabel('K_Values')\n",
    "\n",
    "plt.subplot(1,3,3)\n",
    "plt.plot(K_values, f1_negative, 'o--')\n",
    "plt.title('F1_Negative')\n",
    "plt.xlabel('K_Values')\n",
    "\n",
    "# knn on our test data for reporting\n",
    "# plase note that we can fit it on best value of our negativef1 score as well\n",
    "# in order to boost the precision and recall for our negative reviews\n",
    "knn = KNeighborsClassifier(n_neighbors=K_values[acc_ind])\n",
    "knn.fit(X_train_tfidf_pca, y_train)\n",
    "pred = knn.predict(X_test_tfidf_pca)\n",
    "\n",
    "# generating relevant martices\n",
    "confusion_mat = pd.DataFrame(confusion_matrix(y_test, pred, labels=['positive', 'negative']), columns=['pred_positive', 'pred_negative'], index=['true_positive', 'true_negative'])\n",
    "print('\\nConfusion matrix:')\n",
    "print(confusion_mat)\n",
    "print('\\nClassification Report:')\n",
    "print(classification_report(y_test, pred))\n",
    "print('\\nAccuracy on Test Data:', accuracy_score(y_test, pred))"
   ],
   "metadata": {
    "execution": {
     "iopub.status.busy": "2024-02-11T06:14:13.391537Z",
     "iopub.execute_input": "2024-02-11T06:14:13.392569Z",
     "iopub.status.idle": "2024-02-11T06:14:29.747263Z",
     "shell.execute_reply.started": "2024-02-11T06:14:13.392501Z",
     "shell.execute_reply": "2024-02-11T06:14:29.746356Z"
    },
    "trusted": true,
    "id": "pLqlB2YogMOF"
   },
   "outputs": [],
   "execution_count": null
  },
  {
   "cell_type": "markdown",
   "source": [
    "### ***TFIDF Results:***\n",
    "The classification model achieved an accuracy of 88.0% on the test data, indicating that it correctly classified 88.0% of the instances.\n",
    "\n",
    "Examining the confusion matrix, we observe that out of the actual positive instances, the model correctly predicted 1,835 as positive (true positive), but it misclassified 25 instances as negative (false negative). Similarly, for the actual negative instances, the model correctly predicted 4 as negative (true negative), but it misclassified 236 instances as positive (false positive).\n",
    "\n",
    "The precision for the positive class is 89%, suggesting that out of all instances predicted as positive, 89% were actually positive. The recall for the positive class is 99%, indicating that the model correctly identified 99% of the positive instances. The f1-score for the positive class is 93%, which combines precision and recall into a single metric.\n",
    "\n",
    "On the other hand, the precision for the negative class is really low at 14%, implying that only 14% of the instances predicted as negative were truly negative. The recall for the negative class is 2%, indicating that the model struggled to correctly identify the negative instances. The f1-score for the negative class is 3%. Overall this model is basically acting as a dumb model classifying about each point as positive and is acting worse than BOW model.\n",
    "\n",
    "We can use other measure like F1-Score for negative class to determin the best K in order to boost the prediction of negative class."
   ],
   "metadata": {
    "id": "P9cLls-xgMOF"
   }
  },
  {
   "cell_type": "markdown",
   "source": [
    "To diagnose the problem we can employ a variety of techniques but let's visualize our train data in 2D to better understand how well seperated the positive and negative reviews are."
   ],
   "metadata": {
    "id": "PIkgruvLgMOG"
   }
  },
  {
   "cell_type": "code",
   "source": [
    "# visualizing TFIDF train data with TSNE\n",
    "\n",
    "title = 'TF-IDF'\n",
    "tsne_visualizer(data=X_train_tfidf_pca, label=y_train, title=title)"
   ],
   "metadata": {
    "execution": {
     "iopub.status.busy": "2024-02-11T06:14:29.748787Z",
     "iopub.execute_input": "2024-02-11T06:14:29.74942Z",
     "iopub.status.idle": "2024-02-11T06:16:13.083827Z",
     "shell.execute_reply.started": "2024-02-11T06:14:29.749373Z",
     "shell.execute_reply": "2024-02-11T06:16:13.081872Z"
    },
    "trusted": true,
    "id": "LwKbFi0hgMOG"
   },
   "outputs": [],
   "execution_count": null
  },
  {
   "cell_type": "markdown",
   "source": [
    "## Text to Vector Conversion With Word2Vec\n",
    "***Word2Vec:*** Word2Vec is a widely used algorithm in natural language processing (NLP) that learns word embeddings, which are dense numerical representations of words. It is based on the idea that words with similar meanings often appear in similar contexts. Word2Vec captures these relationships by learning to predict a word based on its neighboring words or predicting neighboring words based on a given word. There are two ways we will be using Word2Vec to convert our sentence\n",
    "\n",
    "1. ***Average Word2Vec:*** In the case of Average Word2Vec, the goal is to create a fixed-length vector representation for a document by averaging the word vectors of all the words in the document.\n",
    "\n",
    "2. ***TF-IDF Weighted Word2Vec:*** TF-IDF weighted Word2Vec combines the concepts of TF-IDF and Word2Vec to create word embeddings that capture both the semantic meaning of words and their importance within a document corpus. It enhances the traditional Word2Vec model by incorporating the term frequency-inverse document frequency (TF-IDF) weighting scheme."
   ],
   "metadata": {
    "id": "Ea5genGZgMOG"
   }
  },
  {
   "cell_type": "markdown",
   "source": [
    "## (C) Average Word2Vec"
   ],
   "metadata": {
    "id": "loSBoXdDgMOG"
   }
  },
  {
   "cell_type": "code",
   "source": [
    "from gensim.models import Word2Vec\n",
    "from gensim.models import KeyedVectors"
   ],
   "metadata": {
    "execution": {
     "iopub.status.busy": "2024-02-11T06:16:13.085466Z",
     "iopub.execute_input": "2024-02-11T06:16:13.085904Z",
     "iopub.status.idle": "2024-02-11T06:16:13.367611Z",
     "shell.execute_reply.started": "2024-02-11T06:16:13.085871Z",
     "shell.execute_reply": "2024-02-11T06:16:13.366409Z"
    },
    "trusted": true,
    "id": "nCM5UH71gMOG"
   },
   "outputs": [],
   "execution_count": null
  },
  {
   "cell_type": "code",
   "source": [
    "# we have already cleaned our reviews for Word2Vec\n",
    "# now generate the data-structure suitable for the input of Word2Vec model\n",
    "# required data structure => [[this], [is], [a], [review]]\n",
    "\n",
    "def datastructure_generator_w2v(df):\n",
    "    list_of_reviews = []\n",
    "    for sent in tqdm(df['CleanedText_w2v'].values):\n",
    "        list_of_reviews.append(sent.split())\n",
    "    return list_of_reviews"
   ],
   "metadata": {
    "execution": {
     "iopub.status.busy": "2024-02-11T06:16:13.369168Z",
     "iopub.execute_input": "2024-02-11T06:16:13.369596Z",
     "iopub.status.idle": "2024-02-11T06:16:13.376019Z",
     "shell.execute_reply.started": "2024-02-11T06:16:13.369565Z",
     "shell.execute_reply": "2024-02-11T06:16:13.374798Z"
    },
    "trusted": true,
    "id": "pHysOj_QgMOG"
   },
   "outputs": [],
   "execution_count": null
  },
  {
   "cell_type": "code",
   "source": [
    "# constructing required structures\n",
    "\n",
    "list_of_sent =  datastructure_generator_w2v(final)\n",
    "list_of_sent_train =  datastructure_generator_w2v(df_train)\n",
    "list_of_sent_cv = datastructure_generator_w2v(df_cv)\n",
    "list_of_sent_test = datastructure_generator_w2v(df_test)\n",
    "avg_w2v_data_dict = {'train':list_of_sent_train, 'cv':list_of_sent_cv, 'test':list_of_sent_test}\n",
    "\n",
    "list_of_sent_idf_train = df_train['CleanedText_w2v']\n",
    "list_of_sent_idf_cv = df_cv['CleanedText_w2v']\n",
    "list_of_sent_idf_test = df_test['CleanedText_w2v']\n",
    "\n",
    "print('Done..!!')"
   ],
   "metadata": {
    "execution": {
     "iopub.status.busy": "2024-02-11T06:16:13.378049Z",
     "iopub.execute_input": "2024-02-11T06:16:13.378505Z",
     "iopub.status.idle": "2024-02-11T06:16:19.487718Z",
     "shell.execute_reply.started": "2024-02-11T06:16:13.37847Z",
     "shell.execute_reply": "2024-02-11T06:16:19.486931Z"
    },
    "trusted": true,
    "id": "RaLm3t19gMOG"
   },
   "outputs": [],
   "execution_count": null
  },
  {
   "cell_type": "code",
   "source": [
    "# training Word2Vec model on our data\n",
    "# this may take time to execute\n",
    "\n",
    "model_w2v=Word2Vec(list_of_sent,min_count=5,vector_size=50, workers=2)"
   ],
   "metadata": {
    "execution": {
     "iopub.status.busy": "2024-02-11T06:16:19.489478Z",
     "iopub.execute_input": "2024-02-11T06:16:19.489836Z",
     "iopub.status.idle": "2024-02-11T06:18:43.999179Z",
     "shell.execute_reply.started": "2024-02-11T06:16:19.489807Z",
     "shell.execute_reply": "2024-02-11T06:18:43.99797Z"
    },
    "trusted": true,
    "id": "2qpNRgJEgMOG"
   },
   "outputs": [],
   "execution_count": null
  },
  {
   "cell_type": "code",
   "source": [
    "# construct avg w2v\n",
    "\n",
    "vocabulary_w2v = model_w2v.wv.key_to_index.keys()\n",
    "avg_w2v_data_dict_final = {'train':None, 'cv':None, 'test':None}\n",
    "\n",
    "for key,item in avg_w2v_data_dict.items():\n",
    "    print(key)\n",
    "    review_vectors_w2v = []\n",
    "\n",
    "    for sentence in tqdm(item):\n",
    "        word_count = 0\n",
    "        sent_vec = np.zeros(shape=50)\n",
    "        for word in sentence:\n",
    "            if word in vocabulary_w2v:\n",
    "                sent_vec += model_w2v.wv[word]\n",
    "                word_count += 1\n",
    "\n",
    "        if word_count != 0:\n",
    "            sent_vec = sent_vec/word_count\n",
    "        review_vectors_w2v.append(sent_vec)\n",
    "    review_vectors_w2v = np.array(review_vectors_w2v)\n",
    "    print(review_vectors_w2v.shape)\n",
    "    avg_w2v_data_dict_final[key] = review_vectors_w2v"
   ],
   "metadata": {
    "execution": {
     "iopub.status.busy": "2024-02-11T06:18:44.009218Z",
     "iopub.execute_input": "2024-02-11T06:18:44.009674Z",
     "iopub.status.idle": "2024-02-11T06:18:46.36598Z",
     "shell.execute_reply.started": "2024-02-11T06:18:44.00964Z",
     "shell.execute_reply": "2024-02-11T06:18:46.364846Z"
    },
    "trusted": true,
    "id": "iWMl8-5RgMOG"
   },
   "outputs": [],
   "execution_count": null
  },
  {
   "cell_type": "code",
   "source": [
    "# sanity check\n",
    "for key,item in avg_w2v_data_dict_final.items():\n",
    "    print(key)\n",
    "    print(item.shape)"
   ],
   "metadata": {
    "execution": {
     "iopub.status.busy": "2024-02-11T06:18:46.368273Z",
     "iopub.execute_input": "2024-02-11T06:18:46.368629Z",
     "iopub.status.idle": "2024-02-11T06:18:46.375027Z",
     "shell.execute_reply.started": "2024-02-11T06:18:46.368602Z",
     "shell.execute_reply": "2024-02-11T06:18:46.373826Z"
    },
    "trusted": true,
    "id": "zkVfHXL8gMOG"
   },
   "outputs": [],
   "execution_count": null
  },
  {
   "cell_type": "code",
   "source": [
    "# creating reference for ease of access\n",
    "avg_w2v_data_train = avg_w2v_data_dict_final['train']\n",
    "avg_w2v_data_cv = avg_w2v_data_dict_final['cv']\n",
    "avg_w2v_data_test = avg_w2v_data_dict_final['test']"
   ],
   "metadata": {
    "execution": {
     "iopub.status.busy": "2024-02-11T06:18:46.376976Z",
     "iopub.execute_input": "2024-02-11T06:18:46.377477Z",
     "iopub.status.idle": "2024-02-11T06:18:46.38753Z",
     "shell.execute_reply.started": "2024-02-11T06:18:46.377434Z",
     "shell.execute_reply": "2024-02-11T06:18:46.386583Z"
    },
    "trusted": true,
    "id": "2ld_PvXTgMOG"
   },
   "outputs": [],
   "execution_count": null
  },
  {
   "cell_type": "code",
   "source": [
    "## OVERSAMPLING\n",
    "\n",
    "# plotting class imbalance before oversampling\n",
    "plt.figure(1, figsize=(17,6))\n",
    "plt.subplot(1,2,1)\n",
    "plt.title('class distribution before oversampling')\n",
    "sns.countplot(x=df_train['Score'])\n",
    "print('Shape of data before oversampling:', avg_w2v_data_train.shape, '\\n\\n')\n",
    "\n",
    "# performing oversampling using smote\n",
    "# oversampling our train data\n",
    "ros = RandomOverSampler()\n",
    "avg_w2v_data_train, Y_avg_w2v_data_train = ros.fit_resample(avg_w2v_data_train,df_train['Score'])\n",
    "\n",
    "# plotting class dist after oversampling\n",
    "plt.subplot(1,2,2)\n",
    "plt.title('class distribution after oversampling')\n",
    "sns.countplot(x=Y_avg_w2v_data_train)\n",
    "plt.show()\n",
    "print('Shape of data after oversampling:', avg_w2v_data_train.shape)\n"
   ],
   "metadata": {
    "execution": {
     "iopub.status.busy": "2024-02-11T06:18:46.388723Z",
     "iopub.execute_input": "2024-02-11T06:18:46.38911Z",
     "iopub.status.idle": "2024-02-11T06:18:46.92104Z",
     "shell.execute_reply.started": "2024-02-11T06:18:46.389077Z",
     "shell.execute_reply": "2024-02-11T06:18:46.919945Z"
    },
    "trusted": true,
    "id": "jZ8pgQmXgMOG"
   },
   "outputs": [],
   "execution_count": null
  },
  {
   "cell_type": "code",
   "source": [
    "# standardization\n",
    "scaler_avg_w2v = StandardScaler()\n",
    "X_train_avg_w2v_standardised = scaler_avg_w2v.fit_transform(avg_w2v_data_train)\n",
    "X_cv_avg_w2v_standardised = scaler_avg_w2v.transform(avg_w2v_data_cv)\n",
    "X_test_avg_w2v_standardised = scaler_avg_w2v.transform(avg_w2v_data_test)\n",
    "\n",
    "y_train = Y_avg_w2v_data_train\n",
    "y_cv = df_cv['Score'].values\n",
    "y_test = df_test['Score'].values"
   ],
   "metadata": {
    "execution": {
     "iopub.status.busy": "2024-02-11T06:18:46.922728Z",
     "iopub.execute_input": "2024-02-11T06:18:46.923063Z",
     "iopub.status.idle": "2024-02-11T06:18:46.93605Z",
     "shell.execute_reply.started": "2024-02-11T06:18:46.923034Z",
     "shell.execute_reply": "2024-02-11T06:18:46.935064Z"
    },
    "trusted": true,
    "id": "U4KYbZzCgMOG"
   },
   "outputs": [],
   "execution_count": null
  },
  {
   "cell_type": "code",
   "source": [
    "# Using KNN for classification\n",
    "accuracy = []\n",
    "f1_positive = []\n",
    "f1_negative = []\n",
    "K_values = list(range(1,30,2))\n",
    "\n",
    "for k in tqdm(K_values):\n",
    "    knn = KNeighborsClassifier(n_neighbors=k)\n",
    "    knn.fit(X_train_avg_w2v_standardised, y_train)\n",
    "    pred = knn.predict(X_cv_avg_w2v_standardised)\n",
    "    f1_positive.append(f1_score(y_cv, pred, pos_label=\"positive\"))\n",
    "    f1_negative.append(f1_score(y_cv, pred, pos_label=\"negative\"))\n",
    "    accuracy.append(accuracy_score(y_cv, pred))\n",
    "\n",
    "positive_ind = f1_positive.index(max(f1_positive))\n",
    "negative_ind = f1_negative.index(max(f1_negative))\n",
    "acc_ind = accuracy.index(max(accuracy))\n",
    "print('The maximum accuracy is {a} with K value of {b}'.format(a=max(accuracy), b=K_values[acc_ind]))\n",
    "print('The maximum F1 score on CV data for positive labels is {a} with K value of {b}'.format(a=max(f1_positive), b=K_values[positive_ind]))\n",
    "print('The maximum F1 score on CV data for negative labels is {a} with K value of {b}'.format(a=max(f1_negative), b=K_values[negative_ind]))\n",
    "\n",
    "# plotting accuracy f1-positive and f1-negative for K values\n",
    "plt.figure(1, figsize=(22,5))\n",
    "plt.subplot(1,3,1)\n",
    "plt.plot(K_values, accuracy, 'o--')\n",
    "plt.title('Accuracy')\n",
    "plt.xlabel('K_Values')\n",
    "\n",
    "plt.subplot(1,3,2)\n",
    "plt.plot(K_values, f1_positive, 'o--')\n",
    "plt.title('F1_Positive')\n",
    "plt.xlabel('K_Values')\n",
    "\n",
    "plt.subplot(1,3,3)\n",
    "plt.plot(K_values, f1_negative, 'o--')\n",
    "plt.title('F1_Negative')\n",
    "plt.xlabel('K_Values')\n",
    "\n",
    "# knn on our test data for reporting\n",
    "# plase note that we can fit it on best value of our negativef1 score as well\n",
    "# in order to boost the precision and recall for our negative reviews\n",
    "knn = KNeighborsClassifier(n_neighbors=K_values[acc_ind])\n",
    "knn.fit(X_train_avg_w2v_standardised, y_train)\n",
    "pred = knn.predict(X_test_avg_w2v_standardised)\n",
    "\n",
    "# generating relevant martices\n",
    "confusion_mat = pd.DataFrame(confusion_matrix(y_test, pred, labels=['positive', 'negative']), columns=['pred_positive', 'pred_negative'], index=['true_positive', 'true_negative'])\n",
    "print('\\nConfusion matrix:')\n",
    "print(confusion_mat)\n",
    "print('\\nClassification Report:')\n",
    "print(classification_report(y_test, pred))\n",
    "print('\\nAccuracy on Test Data:', accuracy_score(y_test, pred))"
   ],
   "metadata": {
    "execution": {
     "iopub.status.busy": "2024-02-11T06:18:46.937488Z",
     "iopub.execute_input": "2024-02-11T06:18:46.938039Z",
     "iopub.status.idle": "2024-02-11T06:18:50.215727Z",
     "shell.execute_reply.started": "2024-02-11T06:18:46.938007Z",
     "shell.execute_reply": "2024-02-11T06:18:50.214686Z"
    },
    "trusted": true,
    "id": "uqTy24sZgMOG"
   },
   "outputs": [],
   "execution_count": null
  },
  {
   "cell_type": "markdown",
   "source": [
    "### ***Average Word2Vector Results:***\n",
    "\n",
    "The classification model achieved an accuracy of 88% on the test data, indicating that it correctly classified 88% of the instances.\n",
    "\n",
    "Analyzing the confusion matrix, we observe that out of the actual positive instances, the model correctly predicted 1,762 as positive (true positive), but it misclassified 98 instances as negative (false negative). Similarly, for the actual negative instances, the model correctly predicted 78 as negative (true negative), while misclassifying 162 instances as positive (false positive).\n",
    "\n",
    "The precision for the positive class is 92%, suggesting that out of all instances predicted as positive, 92% were actually positive. The recall for the positive class is 95%, indicating that the model accurately identified 95% of the positive instances. The f1-score for the positive class is 93%, which combines precision and recall into a single metric.\n",
    "\n",
    "On the other hand, the precision for the negative class is 44%, implying that only 44% of the instances predicted as negative were truly negative. The recall for the negative class is 33%, indicating that the model struggled to correctly identify the negative instances. The f1-score for the negative class is 38%.\n",
    "\n",
    "Overall this model performs better than our previous models. We can see that the reviews are better seperated in the visualization below as well."
   ],
   "metadata": {
    "id": "oYkcNcMNgMOG"
   }
  },
  {
   "cell_type": "code",
   "source": [
    "# visualizing average word2vec with TSNE\n",
    "\n",
    "title = 'Average Word2Vec'\n",
    "tsne_visualizer(data=X_train_avg_w2v_standardised, label=y_train, title=title)"
   ],
   "metadata": {
    "execution": {
     "iopub.status.busy": "2024-02-11T06:18:50.217093Z",
     "iopub.execute_input": "2024-02-11T06:18:50.217913Z",
     "iopub.status.idle": "2024-02-11T06:20:15.163727Z",
     "shell.execute_reply.started": "2024-02-11T06:18:50.21787Z",
     "shell.execute_reply": "2024-02-11T06:20:15.162317Z"
    },
    "trusted": true,
    "id": "iAlEfXzpgMOG"
   },
   "outputs": [],
   "execution_count": null
  },
  {
   "cell_type": "markdown",
   "source": [
    "## TF-IDF Weighted Word2Vec"
   ],
   "metadata": {
    "id": "dDEBrG31gMOG"
   }
  },
  {
   "cell_type": "code",
   "source": [
    "# generating tfidf values\n",
    "vectorizer_tfidf_w2v = TfidfVectorizer()\n",
    "tfidf_data_w2v_train = vectorizer_tfidf_w2v.fit_transform(list_of_sent_idf_train)\n",
    "tfidf_data_w2v_cv = vectorizer_tfidf_w2v.transform(list_of_sent_idf_cv)\n",
    "tfidf_data_w2v_test = vectorizer_tfidf_w2v.transform(list_of_sent_idf_test)\n",
    "\n",
    "tfidf_values_dict = {'train':tfidf_data_w2v_train, 'cv':tfidf_data_w2v_cv, 'test':tfidf_data_w2v_test}"
   ],
   "metadata": {
    "execution": {
     "iopub.status.busy": "2024-02-11T06:20:15.165107Z",
     "iopub.execute_input": "2024-02-11T06:20:15.165835Z"
    },
    "trusted": true,
    "id": "RuEsf9vEgMOG"
   },
   "outputs": [],
   "execution_count": null
  },
  {
   "cell_type": "code",
   "source": [
    "# constructing tf-idf weighted Word2Vec\n",
    "\n",
    "tfidf_feature_names = list(vectorizer_tfidf_w2v.get_feature_names_out())\n",
    "tfidf_w2v_data_dict_final = {'train':None, 'cv':None, 'test':None}\n",
    "\n",
    "for key,item in avg_w2v_data_dict.items():\n",
    "    print(key)\n",
    "    w2v_tfidf_data = []\n",
    "\n",
    "    for i,sentence in enumerate(tqdm(item)):\n",
    "        tfidf_weight = 0\n",
    "        sent_vec = np.zeros(shape=50)\n",
    "        for word in sentence:\n",
    "            try:\n",
    "                tfidf_value = tfidf_values_dict[key][i,tfidf_feature_names.index(word)]\n",
    "                # print(tfidf_value)\n",
    "                w2v_vector = model_w2v.wv[word]\n",
    "                sent_vec += tfidf_value * w2v_vector\n",
    "                tfidf_weight += tfidf_value\n",
    "            except:\n",
    "                pass\n",
    "\n",
    "        sent_vec = sent_vec / tfidf_weight\n",
    "        w2v_tfidf_data.append(sent_vec)\n",
    "    w2v_tfidf_data = np.array(w2v_tfidf_data)\n",
    "    print(w2v_tfidf_data.shape)\n",
    "    tfidf_w2v_data_dict_final[key] = w2v_tfidf_data"
   ],
   "metadata": {
    "trusted": true,
    "id": "l2ZavhIFgMOH"
   },
   "outputs": [],
   "execution_count": null
  },
  {
   "cell_type": "code",
   "source": [
    "# sanity check\n",
    "for key,item in tfidf_w2v_data_dict_final.items():\n",
    "    print(key)\n",
    "    print(item.shape)"
   ],
   "metadata": {
    "trusted": true,
    "id": "ZvOyCS8ggMOH"
   },
   "outputs": [],
   "execution_count": null
  },
  {
   "cell_type": "code",
   "source": [
    "tfidf_w2v_data_train = tfidf_w2v_data_dict_final['train']\n",
    "tfidf_w2v_data_cv = tfidf_w2v_data_dict_final['cv']\n",
    "tfidf_w2v_data_test = tfidf_w2v_data_dict_final['test']"
   ],
   "metadata": {
    "trusted": true,
    "id": "r1XVwMirgMOH"
   },
   "outputs": [],
   "execution_count": null
  },
  {
   "cell_type": "code",
   "source": [
    "# dropping any NA values if present\n",
    "tfidf_w2v_data_test"
   ],
   "metadata": {
    "trusted": true,
    "id": "ILEEMiCRgMOH"
   },
   "outputs": [],
   "execution_count": null
  },
  {
   "cell_type": "code",
   "source": [
    "## OVERSAMPLING\n",
    "\n",
    "# plotting class imbalance before oversampling\n",
    "plt.figure(1, figsize=(17,6))\n",
    "plt.subplot(1,2,1)\n",
    "plt.title('class distribution before oversampling')\n",
    "sns.countplot(x=df_train['Score'])\n",
    "print('Shape of data before oversampling:', tfidf_w2v_data_train.shape, '\\n\\n')\n",
    "\n",
    "# performing oversampling using smote\n",
    "# oversampling our train data\n",
    "ros = RandomOverSampler()\n",
    "tfidf_w2v_data_train, Y_tfidf_w2v_data_train = ros.fit_resample(tfidf_w2v_data_train,df_train['Score'])\n",
    "\n",
    "# plotting class dist after oversampling\n",
    "plt.subplot(1,2,2)\n",
    "plt.title('class distribution after oversampling')\n",
    "sns.countplot(x=Y_tfidf_w2v_data_train)\n",
    "plt.show()\n",
    "print('Shape of data after oversampling:', tfidf_w2v_data_train.shape)\n"
   ],
   "metadata": {
    "trusted": true,
    "id": "T--5zC17gMOH"
   },
   "outputs": [],
   "execution_count": null
  },
  {
   "cell_type": "code",
   "source": [
    "# standardization\n",
    "scaler_tfidf_w2v = StandardScaler()\n",
    "X_train_tfidf_w2v_standardised = scaler_tfidf_w2v.fit_transform(tfidf_w2v_data_train)\n",
    "X_cv_tfidf_w2v_standardised = scaler_tfidf_w2v.transform(tfidf_w2v_data_cv)\n",
    "X_test_tfidf_w2v_standardised = scaler_tfidf_w2v.transform(tfidf_w2v_data_test)\n",
    "\n",
    "y_train = Y_tfidf_w2v_data_train\n",
    "y_cv = df_cv['Score'].values\n",
    "y_test = df_test['Score'].values"
   ],
   "metadata": {
    "trusted": true,
    "id": "9Q1d0nMzgMOH"
   },
   "outputs": [],
   "execution_count": null
  },
  {
   "cell_type": "code",
   "source": [
    "# Using KNN for classification\n",
    "accuracy = []\n",
    "f1_positive = []\n",
    "f1_negative = []\n",
    "K_values = list(range(1,30,2))\n",
    "\n",
    "for k in tqdm(K_values):\n",
    "    knn = KNeighborsClassifier(n_neighbors=k)\n",
    "    knn.fit(X_train_tfidf_w2v_standardised, y_train)\n",
    "    pred = knn.predict(X_cv_tfidf_w2v_standardised)\n",
    "    f1_positive.append(f1_score(y_cv, pred, pos_label=\"positive\"))\n",
    "    f1_negative.append(f1_score(y_cv, pred, pos_label=\"negative\"))\n",
    "    accuracy.append(accuracy_score(y_cv, pred))\n",
    "\n",
    "positive_ind = f1_positive.index(max(f1_positive))\n",
    "negative_ind = f1_negative.index(max(f1_negative))\n",
    "acc_ind = accuracy.index(max(accuracy))\n",
    "print('The maximum accuracy is {a} with K value of {b}'.format(a=max(accuracy), b=K_values[acc_ind]))\n",
    "print('The maximum F1 score on CV data for positive labels is {a} with K value of {b}'.format(a=max(f1_positive), b=K_values[positive_ind]))\n",
    "print('The maximum F1 score on CV data for negative labels is {a} with K value of {b}'.format(a=max(f1_negative), b=K_values[negative_ind]))\n",
    "\n",
    "# plotting accuracy f1-positive and f1-negative for K values\n",
    "plt.figure(1, figsize=(22,5))\n",
    "plt.subplot(1,3,1)\n",
    "plt.plot(K_values, accuracy, 'o--')\n",
    "plt.title('Accuracy')\n",
    "plt.xlabel('K_Values')\n",
    "\n",
    "plt.subplot(1,3,2)\n",
    "plt.plot(K_values, f1_positive, 'o--')\n",
    "plt.title('F1_Positive')\n",
    "plt.xlabel('K_Values')\n",
    "\n",
    "plt.subplot(1,3,3)\n",
    "plt.plot(K_values, f1_negative, 'o--')\n",
    "plt.title('F1_Negative')\n",
    "plt.xlabel('K_Values')\n",
    "\n",
    "# knn on our test data for reporting\n",
    "knn = KNeighborsClassifier(n_neighbors=K_values[acc_ind])\n",
    "knn.fit(X_train_tfidf_w2v_standardised, y_train)\n",
    "pred = knn.predict(X_test_tfidf_w2v_standardised)\n",
    "\n",
    "# generating relevant martices\n",
    "confusion_mat = pd.DataFrame(confusion_matrix(y_test, pred, labels=['positive', 'negative']), columns=['pred_positive', 'pred_negative'], index=['true_positive', 'true_negative'])\n",
    "print('\\nConfusion matrix:')\n",
    "print(confusion_mat)\n",
    "print('\\nClassification Report:')\n",
    "print(classification_report(y_test, pred))\n",
    "print('\\nAccuracy on Test Data:', accuracy_score(y_test, pred))"
   ],
   "metadata": {
    "trusted": true,
    "id": "OSYhXWX6gMOH"
   },
   "outputs": [],
   "execution_count": null
  },
  {
   "cell_type": "markdown",
   "source": [
    "### ***TF-IDF Weighted Word2Vector Results:***\n",
    "\n",
    "The classification model achieved an accuracy of 86% on the test data, indicating that it correctly classified 86% of the instances.\n",
    "\n",
    "Analyzing the confusion matrix, we observe that out of the actual positive instances, the model correctly predicted 1,728 as positive (true positive), but it misclassified 132 instances as negative (false negative). Similarly, for the actual negative instances, the model correctly predicted 85 as negative (true negative), while misclassifying 155 instances as positive (false positive).\n",
    "\n",
    "The precision for the positive class is 92%, suggesting that out of all instances predicted as positive, 92% were actually positive. The recall for the positive class is 93%, indicating that the model accurately identified 93% of the positive instances. The f1-score for the positive class is 92%, which combines precision and recall into a single metric.\n",
    "\n",
    "On the other hand, the precision for the negative class is 39%, implying that only 39% of the instances predicted as negative were truly negative. The recall for the negative class is 35%, indicating that the model struggled to correctly identify the negative instances. The f1-score for the negative class is 37%.\n"
   ],
   "metadata": {
    "id": "S__3o2a4gMOH"
   }
  },
  {
   "cell_type": "code",
   "source": [
    "# visualizing tfidf weighted word2vec with TSNE\n",
    "\n",
    "title = 'TF-IDF Word2Vec'\n",
    "tsne_visualizer(data=X_train_tfidf_w2v_standardised, label=y_train, title=title)"
   ],
   "metadata": {
    "trusted": true,
    "id": "cuJ1NJ5PgMOH"
   },
   "outputs": [],
   "execution_count": null
  },
  {
   "cell_type": "markdown",
   "source": [
    "## 4. Results and Conclusion\n",
    "\n",
    "\n",
    "### Results\n",
    "![image.png](attachment:image.png)\n",
    "\n",
    "### Conclusion\n",
    "The BOW model achieved an accuracy of 86% and showed relatively good precision and recall for the positive class. However, it performed poorly in predicting the negative class, with low precision and recall scores.\n",
    "\n",
    "The TFIDF model achieved an accuracy of 88.0%, slightly outperforming the BOW model. However, it was worse in predicting the negative class as compared with BOW model.\n",
    "\n",
    "The Average Word2Vector model also achieved an accuracy of 88%, showing better precision and recall scores for the positive class compared to the previous models. it struggled with predicting the negative class but showed better precision and recall for negative class as compared to previous two models.\n",
    "\n",
    "The TFIDF Weighted Word2Vector model performed similarly to the Average W2V model with an accuracy of 86%. It showed relatively good precision and recall for the positive class, it struggled with predicting the negative class but showed better precision and recall for negative class as compared to BOW and TFIDF models.\n",
    "\n",
    "In terms of performance, the Average Word2Vector model and TF-IDF weighted Word2Vec model showed better results as compared to other two. However, all models faced challenges in accurately predicting negative instances.\n",
    "\n",
    "Further improvements can be made by exploring other evaluation metrics such as F1-Score for the negative class or testing if our train and test data are following the same distribution as in Time based splitting we observe this problem.\n",
    "\n",
    "Word2Vector is considerably better as compared to the other two vectorization and we can see the visual representation here -> https://www.kaggle.com/code/raman007/amazon-finefood-review-dimensionality-reduction  "
   ],
   "metadata": {
    "id": "S0QznnsAgMOH"
   }
  }
 ]
}
