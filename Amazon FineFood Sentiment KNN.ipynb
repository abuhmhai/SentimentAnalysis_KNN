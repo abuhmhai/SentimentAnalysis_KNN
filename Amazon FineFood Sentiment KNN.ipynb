{
 "metadata": {
  "kernelspec": {
   "language": "python",
   "display_name": "Python 3",
   "name": "python3"
  },
  "language_info": {
   "name": "python",
   "version": "3.10.10",
   "mimetype": "text/x-python",
   "codemirror_mode": {
    "name": "ipython",
    "version": 3
   },
   "pygments_lexer": "ipython3",
   "nbconvert_exporter": "python",
   "file_extension": ".py"
  },
  "kaggle": {
   "accelerator": "none",
   "dataSources": [
    {
     "sourceId": 2157,
     "sourceType": "datasetVersion",
     "datasetId": 18
    }
   ],
   "dockerImageVersionId": 30497,
   "isInternetEnabled": false,
   "language": "python",
   "sourceType": "notebook",
   "isGpuEnabled": false
  },
  "colab": {
   "name": "Amazon FineFood Sentiment Classification using KNN",
   "provenance": []
  }
 },
 "nbformat_minor": 0,
 "nbformat": 4,
 "cells": [
  {
   "metadata": {
    "ExecuteTime": {
     "end_time": "2024-05-11T08:15:39.721937Z",
     "start_time": "2024-05-11T08:15:39.718429Z"
    }
   },
   "cell_type": "code",
   "source": [
    "import os  # Import module os để làm việc với hệ thống tệp và thư mục\n",
    "import sys  # Import module sys để làm việc với biến và hàm của trình thông dịch Python\n",
    "from tempfile import NamedTemporaryFile  # Import lớp NamedTemporaryFile từ module tempfile để tạo và làm việc với các tệp tạm thời\n",
    "from zipfile import ZipFile  # Import lớp ZipFile từ module zipfile để thao tác với các tập tin nén ZIP\n",
    "import tarfile  # Import module tarfile để thao tác với các tệp nén tar\n",
    "import shutil  # Import module shutil để thực hiện các thao tác sao chép và di chuyển tệp\n"
   ],
   "outputs": [],
   "execution_count": 73
  },
  {
   "metadata": {
    "ExecuteTime": {
     "end_time": "2024-05-11T08:17:03.234024Z",
     "start_time": "2024-05-11T08:16:51.274068Z"
    }
   },
   "cell_type": "code",
   "source": [
    "import requests  # Import module requests để thực hiện các yêu cầu HTTP\n",
    "from urllib.parse import unquote  # Import hàm unquote từ module urllib.parse để giải mã URL\n",
    "from tqdm import tqdm  # Import lớp tqdm từ module tqdm để hiển thị thanh tiến trình khi tải xuống\n",
    "\n",
    "# Chuỗi URL đã mã hóa\n",
    "encoded_url = 'https%3A%2F%2Fstorage.googleapis.com%2Fkaggle-data-sets%2F18%2F2157%2Fbundle%2Farchive.zip%3FX-Goog-Algorithm%3DGOOG4-RSA-SHA256%26X-Goog-Credential%3Dgcp-kaggle-com%2540kaggle-161607.iam.gserviceaccount.com%252F20240510%252Fauto%252Fstorage%252Fgoog4_request%26X-Goog-Date%3D20240510T171529Z%26X-Goog-Expires%3D259200%26X-Goog-SignedHeaders%3Dhost%26X-Goog-Signature%3D348640283931f9c4dd02ba0bb5fd66196965d46418636da031b90b545926d07ce5879ed7be696c922ebb5a2b569a62d675549dff761f099a3e2ab79214260854c17c0f650418c8f00d42df510661af656cfd7f70852ee2c1f562763f38d1fa28686f310de50f43f9b123858b7928321fd6ed6185131e98f1949bf312e15b2c4af43abaf4c6deee5b11514e3e1d827d689e83ec88690ad80c61284691561f284f92a160cacc1fabe61159f873033aff1eb001fb5eeba273dcf05851585a4a50b10c27520a0d42b9a7eef9dbae5520f36493457590c3d489ed9b336bfe7fc49a211f3406d3808a2a5aa02de77094be743170f064fd5191a35e98f08ba5b43daccf' \n",
    "\n",
    "# Giải mã URL để có thể sử dụng nó\n",
    "decoded_url = unquote(encoded_url)\n",
    "\n",
    "# Tên của tệp sẽ được lưu trữ sau khi tải xuống\n",
    "file_name = 'reviews.zip'\n",
    "\n",
    "# Thực hiện yêu cầu tải xuống và lưu vào tệp\n",
    "response = requests.get(decoded_url, stream=True)  # Thực hiện yêu cầu GET đến URL đã giải mã\n",
    "total_size = int(response.headers.get('content-length', 0))  # Lấy kích thước của tệp từ header\n",
    "\n",
    "with open(file_name, 'wb') as file:  # Mở tệp để ghi dữ liệu dưới dạng nhị phân\n",
    "    with tqdm(total=total_size, unit='B', unit_scale=True, desc=\"Downloading\", ascii=True) as pbar:\n",
    "        for data in response.iter_content(chunk_size=4096):  # Lặp qua từng phần dữ liệu được nhận và ghi vào tệp\n",
    "            file.write(data)  # Ghi dữ liệu vào tệp\n",
    "            pbar.update(len(data))  # Cập nhật thanh tiến trình\n",
    "\n",
    "print('Data source import complete') \n"
   ],
   "outputs": [
    {
     "name": "stderr",
     "output_type": "stream",
     "text": [
      "Downloading: 100%|##########| 254M/254M [00:09<00:00, 27.0MB/s]   "
     ]
    },
    {
     "name": "stdout",
     "output_type": "stream",
     "text": [
      "Data source import complete\n"
     ]
    },
    {
     "name": "stderr",
     "output_type": "stream",
     "text": [
      "\n"
     ]
    }
   ],
   "execution_count": 74
  },
  {
   "metadata": {},
   "cell_type": "markdown",
   "source": "## Unzip "
  },
  {
   "metadata": {
    "ExecuteTime": {
     "end_time": "2024-05-11T08:17:45.106822Z",
     "start_time": "2024-05-11T08:17:06.404410Z"
    }
   },
   "cell_type": "code",
   "source": [
    "zip_file_path=\"reviews.zip\"\n",
    "extract_dir_path=\"/input\"\n",
    "with ZipFile(zip_file_path, 'r') as zip_ref:\n",
    "    zip_ref.extractall(extract_dir_path)\n",
    "    print(\"Extracting done\")"
   ],
   "outputs": [
    {
     "name": "stdout",
     "output_type": "stream",
     "text": [
      "Extracting done\n"
     ]
    }
   ],
   "execution_count": 75
  },
  {
   "cell_type": "markdown",
   "source": [
    "## Giới thiệu\n",
    "\n",
    "Tập dữ liệu Amazon Fine Food Reviews bao gồm các bài đánh giá về thực phẩm hảo hạng từ Amazon. Dữ liệu kéo dài hơn 10 năm, bao gồm tất cả ~ 500.000 bài đánh giá tính đến tháng 10 năm 2012. Các bài đánh giá bao gồm thông tin về sản phẩm và người dùng, xếp hạng và bài đánh giá bằng văn bản gốc.\n",
    "\n",
    "Tập dữ liệu chứa các cột sau:\n",
    "\n",
    "1. ProductId: ID sản phẩm của mặt hàng được đánh giá.\n",
    "2. userId: ID người dùng của người đánh giá.\n",
    "3. profileName: Tên hồ sơ của người đánh giá.\n",
    "4. Tính hữu ích: Số phiếu bầu hữu ích mà đánh giá nhận được.\n",
    "5. Score: Đánh giá về sản phẩm (1-5 sao).\n",
    "6. time: Ngày, giờ đánh giá.\n",
    "7. tóm tắt: Tóm tắt ngắn gọn về bài đánh giá.\n",
    "8. text: Toàn văn bài đánh giá.\n",
    "\n",
    "Bộ dữ liệu có thể được sử dụng cho nhiều mục đích khác nhau, chẳng hạn như:\n",
    "1. Phân tích cảm xúc: Để xác định tình cảm chung của các đánh giá (tích cực, tiêu cực hoặc trung tính).\n",
    "2. Mô hình hóa chủ đề: Để xác định các chủ đề được thảo luận trong các bài đánh giá.\n",
    "3. Đề xuất : Giới thiệu sản phẩm cho người dùng dựa trên đánh giá của họ.\n",
    "4. Phát hiện thư rác: Để xác định và loại bỏ các bài đánh giá thư rác.\n",
    "\n",
    "Bộ dữ liệu Amazon Fine Food Reviews là nguồn tài nguyên quý giá cho bất kỳ ai quan tâm đến việc tìm hiểu hành vi của người tiêu dùng và quy trình đánh giá trực tuyến. Đây là một bộ dữ liệu lớn và toàn diện có thể được sử dụng để trả lời nhiều câu hỏi nghiên cứu khác nhau."
   ],
   "metadata": {
    "id": "nREJVLISgMN-"
   }
  },
  {
   "cell_type": "markdown",
   "source": [
    "### ***Mục tiêu dự án: Kiểm tra kết quả phân tích cảm xúc trong phân loại phân cực đánh giá bằng cách sử dụng K-Nearest Neighbor (KNN) trên các biểu diễn Bag of Words, TFIDF và Word2Vector.***\n",
    "\n",
    "#### ***Mô tả:*** Dự án này nhằm mục đích phân tích cảm xúc của các bài đánh giá bằng cách triển khai hệ thống phân loại phân cực đánh giá. Chúng tôi sẽ so sánh hiệu suất của ba cách biểu diễn tính năng khác nhau, đó là Bag of Words, TFIDF và Word2Vector. Việc đánh giá sẽ được tiến hành bằng thuật toán K-lân cận gần nhất (KNN) để xác định tính hiệu quả của từng cách trình bày trong việc phân loại chính xác cảm xúc đánh giá.\n",
    "\n",
    "\n",
    "#### ***Các bước:***\n",
    "1. Nhập các thư viện cần thiết\n",
    "2. Làm sạch dữ liệu và lưu trữ các đánh giá đã được làm sạch trong cơ sở dữ liệu mới\n",
    "3. Chuyển đổi đánh giá thành vectơ (Bag of Words, Tf-Idf, Word2Vec) và phân loại cảm tính bằng KNN\n",
    "4. Kết luận"
   ],
   "metadata": {
    "id": "iyqX_sRBgMN_"
   }
  },
  {
   "cell_type": "markdown",
   "source": [
    "## 1. Importing Libraries and Data"
   ],
   "metadata": {
    "id": "3ru7UeUHgMN_"
   }
  },
  {
   "cell_type": "code",
   "source": [
    "import numpy as np  # Thư viện xử lý mảng nhiều chiều\n",
    "import pandas as pd  # Thư viện xử lý dữ liệu dạng bảng\n",
    "import matplotlib.pyplot as plt  # Thư viện vẽ đồ thị\n",
    "import seaborn as sns  # Thư viện mở rộng của Matplotlib cho việc vẽ đồ thị thống kê\n",
    "import sqlite3  # Thư viện để làm việc với cơ sở dữ liệu SQLite\n",
    "import os  # Thư viện để tương tác với hệ điều hành\n",
    "from nltk.stem.porter import PorterStemmer  # Công cụ cho việc \"stemming\" trong xử lý ngôn ngữ tự nhiên\n",
    "import nltk  # Thư viện xử lý ngôn ngữ tự nhiên\n",
    "import re  # Thư viện cho việc thực hiện các thao tác biểu thức chính quy\n",
    "import string  # Thư viện cho các thao tác xử lý chuỗi\n",
    "from nltk.corpus import stopwords  # Danh sách từ dừng tiếng Anh\n",
    "from nltk.stem import PorterStemmer  # Công cụ cho việc \"stemming\" trong xử lý ngôn ngữ tự nhiên\n",
    "from nltk.stem.wordnet import WordNetLemmatizer  # Công cụ cho việc \"lemmatization\" trong xử lý ngôn ngữ tự nhiên\n",
    "from sklearn.feature_extraction.text import CountVectorizer  # Chuyển đổi văn bản thành ma trận tần suất từ (Bag of Words)\n",
    "from sklearn.feature_extraction.text import TfidfVectorizer  # Chuyển đổi văn bản thành ma trận TF-IDF\n",
    "from sklearn.preprocessing import StandardScaler  # Tiêu chuẩn hóa dữ liệu\n",
    "import pickle  # Thư viện cho việc lưu trữ và tải mô hình\n",
    "from tqdm import tqdm  # Thư viện cho thanh tiến trình\n",
    "from sklearn.manifold import TSNE  # Giảm chiều dữ liệu để vẽ đồ thị phân cụm\n",
    "from imblearn.over_sampling import RandomOverSampler  # Phương pháp tái chọn mẫu ngẫu nhiên (Random Oversampling)\n",
    "from imblearn.over_sampling import SMOTE  # Phương pháp Synthetic Minority Over-sampling Technique (SMOTE)\n",
    "from sklearn.metrics import accuracy_score  # Đánh giá độ chính xác của mô hình\n",
    "from sklearn.model_selection import cross_val_score  # Đánh giá hiệu suất của mô hình bằng phương pháp Cross-validation\n",
    "from sklearn.metrics import confusion_matrix  # Ma trận nhầm lẫn để đánh giá hiệu suất của mô hình phân loại\n",
    "from sklearn.neighbors import KNeighborsClassifier  # Mô hình phân loại K-hàng xóm gần nhất (KNN)\n",
    "from sklearn.decomposition import TruncatedSVD  # Phương pháp giảm chiều dữ liệu SVD tronhg không gian tối thiểu\n",
    "from sklearn.decomposition import PCA  # Phương pháp giảm chiều dữ liệu Principal Component Analysis (PCA)\n",
    "from sklearn.metrics import f1_score  # Đánh giá điểm F1 cho mô hình phân loại\n",
    "from sklearn.metrics import classification_report  # Báo cáo hiệu suất của mô hình phân loại\n"
   ],
   "metadata": {
    "execution": {
     "iopub.status.busy": "2024-02-11T05:58:53.920101Z",
     "iopub.execute_input": "2024-02-11T05:58:53.921348Z",
     "iopub.status.idle": "2024-02-11T05:58:57.837639Z",
     "shell.execute_reply.started": "2024-02-11T05:58:53.921298Z",
     "shell.execute_reply": "2024-02-11T05:58:57.836506Z"
    },
    "trusted": true,
    "id": "x9lFDFdtgMN_",
    "ExecuteTime": {
     "end_time": "2024-05-11T08:23:02.173226Z",
     "start_time": "2024-05-11T08:23:02.131828Z"
    }
   },
   "outputs": [],
   "execution_count": 76
  },
  {
   "cell_type": "code",
   "source": [
    "# mở kết nối với sql sever\n",
    "con = sqlite3.connect('input/database.sqlite')\n",
    "# Truy vấn cơ sở dữ liệu để lấy dữ liệu đã lọc không bao gồm những đánh giá có điểm số 3\n",
    "# Chúng tôi không xem xét những đánh giá có điểm số 3 vì nó không phản ánh tốt sự phân loại của đánh giá\n",
    "data = pd.read_sql_query('SELECT * FROM Reviews WHERE Score != 3', con)\n",
    "print(data.shape)  # In ra kích thước của DataFrame\n",
    "data.head(3)  "
   ],
   "metadata": {
    "execution": {
     "iopub.status.busy": "2024-02-11T05:58:57.84128Z",
     "iopub.execute_input": "2024-02-11T05:58:57.841826Z",
     "iopub.status.idle": "2024-02-11T05:59:10.583546Z",
     "shell.execute_reply.started": "2024-02-11T05:58:57.841778Z",
     "shell.execute_reply": "2024-02-11T05:59:10.582398Z"
    },
    "trusted": true,
    "id": "mWbo9SrNgMN_",
    "ExecuteTime": {
     "end_time": "2024-05-11T08:25:04.141800Z",
     "start_time": "2024-05-11T08:23:49.938871Z"
    }
   },
   "outputs": [
    {
     "name": "stdout",
     "output_type": "stream",
     "text": [
      "(525814, 10)\n"
     ]
    },
    {
     "data": {
      "text/plain": [
       "   Id   ProductId          UserId                      ProfileName  \\\n",
       "0   1  B001E4KFG0  A3SGXH7AUHU8GW                       delmartian   \n",
       "1   2  B00813GRG4  A1D87F6ZCVE5NK                           dll pa   \n",
       "2   3  B000LQOCH0   ABXLMWJIXXAIN  Natalia Corres \"Natalia Corres\"   \n",
       "\n",
       "   HelpfulnessNumerator  HelpfulnessDenominator  Score        Time  \\\n",
       "0                     1                       1      5  1303862400   \n",
       "1                     0                       0      1  1346976000   \n",
       "2                     1                       1      4  1219017600   \n",
       "\n",
       "                 Summary  \\\n",
       "0  Good Quality Dog Food   \n",
       "1      Not as Advertised   \n",
       "2  \"Delight\" says it all   \n",
       "\n",
       "                                                                                                                                                                                                                                                                                                                                                                                                                                                                                                                            Text  \n",
       "0                                                                                                                                                                                                                                                        I have bought several of the Vitality canned dog food products and have found them all to be of good quality. The product looks more like a stew than a processed meat and it smells better. My Labrador is finicky and she appreciates this product better than  most.  \n",
       "1                                                                                                                                                                                                                                                                                                                                 Product arrived labeled as Jumbo Salted Peanuts...the peanuts were actually small sized unsalted. Not sure if this was an error or if the vendor intended to represent the product as \"Jumbo\".  \n",
       "2  This is a confection that has been around a few centuries.  It is a light, pillowy citrus gelatin with nuts - in this case Filberts. And it is cut into tiny squares and then liberally coated with powdered sugar.  And it is a tiny mouthful of heaven.  Not too chewy, and very flavorful.  I highly recommend this yummy treat.  If you are familiar with the story of C.S. Lewis' \"The Lion, The Witch, and The Wardrobe\" - this is the treat that seduces Edmund into selling out his Brother and Sisters to the Witch.  "
      ],
      "text/html": [
       "<div>\n",
       "<style scoped>\n",
       "    .dataframe tbody tr th:only-of-type {\n",
       "        vertical-align: middle;\n",
       "    }\n",
       "\n",
       "    .dataframe tbody tr th {\n",
       "        vertical-align: top;\n",
       "    }\n",
       "\n",
       "    .dataframe thead th {\n",
       "        text-align: right;\n",
       "    }\n",
       "</style>\n",
       "<table border=\"1\" class=\"dataframe\">\n",
       "  <thead>\n",
       "    <tr style=\"text-align: right;\">\n",
       "      <th></th>\n",
       "      <th>Id</th>\n",
       "      <th>ProductId</th>\n",
       "      <th>UserId</th>\n",
       "      <th>ProfileName</th>\n",
       "      <th>HelpfulnessNumerator</th>\n",
       "      <th>HelpfulnessDenominator</th>\n",
       "      <th>Score</th>\n",
       "      <th>Time</th>\n",
       "      <th>Summary</th>\n",
       "      <th>Text</th>\n",
       "    </tr>\n",
       "  </thead>\n",
       "  <tbody>\n",
       "    <tr>\n",
       "      <th>0</th>\n",
       "      <td>1</td>\n",
       "      <td>B001E4KFG0</td>\n",
       "      <td>A3SGXH7AUHU8GW</td>\n",
       "      <td>delmartian</td>\n",
       "      <td>1</td>\n",
       "      <td>1</td>\n",
       "      <td>5</td>\n",
       "      <td>1303862400</td>\n",
       "      <td>Good Quality Dog Food</td>\n",
       "      <td>I have bought several of the Vitality canned dog food products and have found them all to be of good quality. The product looks more like a stew than a processed meat and it smells better. My Labrador is finicky and she appreciates this product better than  most.</td>\n",
       "    </tr>\n",
       "    <tr>\n",
       "      <th>1</th>\n",
       "      <td>2</td>\n",
       "      <td>B00813GRG4</td>\n",
       "      <td>A1D87F6ZCVE5NK</td>\n",
       "      <td>dll pa</td>\n",
       "      <td>0</td>\n",
       "      <td>0</td>\n",
       "      <td>1</td>\n",
       "      <td>1346976000</td>\n",
       "      <td>Not as Advertised</td>\n",
       "      <td>Product arrived labeled as Jumbo Salted Peanuts...the peanuts were actually small sized unsalted. Not sure if this was an error or if the vendor intended to represent the product as \"Jumbo\".</td>\n",
       "    </tr>\n",
       "    <tr>\n",
       "      <th>2</th>\n",
       "      <td>3</td>\n",
       "      <td>B000LQOCH0</td>\n",
       "      <td>ABXLMWJIXXAIN</td>\n",
       "      <td>Natalia Corres \"Natalia Corres\"</td>\n",
       "      <td>1</td>\n",
       "      <td>1</td>\n",
       "      <td>4</td>\n",
       "      <td>1219017600</td>\n",
       "      <td>\"Delight\" says it all</td>\n",
       "      <td>This is a confection that has been around a few centuries.  It is a light, pillowy citrus gelatin with nuts - in this case Filberts. And it is cut into tiny squares and then liberally coated with powdered sugar.  And it is a tiny mouthful of heaven.  Not too chewy, and very flavorful.  I highly recommend this yummy treat.  If you are familiar with the story of C.S. Lewis' \"The Lion, The Witch, and The Wardrobe\" - this is the treat that seduces Edmund into selling out his Brother and Sisters to the Witch.</td>\n",
       "    </tr>\n",
       "  </tbody>\n",
       "</table>\n",
       "</div>"
      ]
     },
     "execution_count": 77,
     "metadata": {},
     "output_type": "execute_result"
    }
   ],
   "execution_count": 77
  },
  {
   "cell_type": "markdown",
   "source": [
    "Sử dụng cột điểm được cung cấp để có được sự phân cực của đánh giá.\n",
    "1. đánh giá có điểm 4 và 5 sẽ được coi là tích cực\n",
    "2. đánh giá có điểm 1 và 2 sẽ được coi là tiêu cực\n",
    "3. chúng tôi đã loại bỏ các đánh giá có giá trị 3 vì đây không phải là chỉ báo tốt về tính phân cực của đánh giá nó nói về sự trung lập"
   ],
   "metadata": {
    "id": "tO5YNAYHgMOA"
   }
  },
  {
   "cell_type": "code",
   "source": [
    "# convert score values to sentiment\n",
    "def score_to_sentiment(x):\n",
    "    if x > 3:\n",
    "        return 'positive'\n",
    "    else:\n",
    "        return 'negative'\n",
    "\n",
    "data['Score'] = data['Score'].apply(score_to_sentiment)"
   ],
   "metadata": {
    "execution": {
     "iopub.status.busy": "2024-02-11T05:59:10.585281Z",
     "iopub.execute_input": "2024-02-11T05:59:10.586024Z",
     "iopub.status.idle": "2024-02-11T05:59:10.763077Z",
     "shell.execute_reply.started": "2024-02-11T05:59:10.585982Z",
     "shell.execute_reply": "2024-02-11T05:59:10.762214Z"
    },
    "trusted": true,
    "id": "ob12z746gMOA",
    "ExecuteTime": {
     "end_time": "2024-05-11T08:29:21.430222Z",
     "start_time": "2024-05-11T08:29:20.793014Z"
    }
   },
   "outputs": [],
   "execution_count": 78
  },
  {
   "cell_type": "markdown",
   "source": [
    "## 2. Làm sạch dữ liệu\n",
    "\n",
    "Các bước:\n",
    "1. Sắp xếp dữ liệu theo ProductID\n",
    "2. Chống trùng lặp\n",
    "3. Tử số về mức độ hữu ích phải luôn nhỏ hơn mẫu số về mức độ hữu ích\n",
    "4. Làm sạch thẻ HTML và dấu câu"
   ],
   "metadata": {
    "id": "V8CAT-X5gMOA"
   }
  },
  {
   "cell_type": "code",
   "source": [
    "# Bước 1: Sắp xếp dữ liệu theo ProductID\n",
    "sorted_data = data.sort_values(by='ProductId', axis=0, ascending=True, kind='quicksort', na_position='last')\n",
    "\n",
    "# Bước 2: Loại bỏ các bản sao\n",
    "final = sorted_data.drop_duplicates(subset={\"UserId\",\"ProfileName\",\"Time\",\"Text\"}, keep='first', inplace=False)\n",
    "\n",
    "# Bước 3: Chỉ giữ lại các bản ghi mà tỷ lệ sự hữu ích luôn nhỏ hơn hoặc bằng số lượng sự hữu ích\n",
    "final = final[final['HelpfulnessNumerator'] <= final['HelpfulnessDenominator']]\n",
    "#Kiểm tra tính hợp lệ của cột Helpfulness: Đảm bảo rằng tỷ lệ số lượng sự hữu ích (HelpfulnessNumerator) luôn nhỏ hơn hoặc bằng tỷ lệ số lượng sự hữu ích (HelpfulnessDenominator).\n",
    "\n",
    "print('Shape of our data remaining:', final.shape)  # In ra shape của dữ liệu còn lại\n",
    "\n",
    "#    HelpfulnessNumerator: Đây là số lượng phiếu bầu mà một bài đánh giá đã nhận được và được xem là \"hữu ích\".\n",
    " #   HelpfulnessDenominator: Đây là tổng số phiếu bầu đã được đưa ra cho một bài đánh giá, bao gồm cả phiếu bầu \"hữu ích\" và \"không hữu ích\".\n",
    "\n",
    "\n",
    "print('Percentage of Data Remaining:', (final.shape[0] / data.shape[0]) * 100)  # In ra phần trăm dữ liệu còn lại\n"
   ],
   "metadata": {
    "execution": {
     "iopub.status.busy": "2024-02-11T05:59:10.765367Z",
     "iopub.execute_input": "2024-02-11T05:59:10.765922Z",
     "iopub.status.idle": "2024-02-11T05:59:13.874146Z",
     "shell.execute_reply.started": "2024-02-11T05:59:10.765893Z",
     "shell.execute_reply": "2024-02-11T05:59:13.872936Z"
    },
    "trusted": true,
    "id": "LuB9W9hPgMOA",
    "ExecuteTime": {
     "end_time": "2024-05-11T08:43:02.059207Z",
     "start_time": "2024-05-11T08:42:59.406602Z"
    }
   },
   "outputs": [
    {
     "name": "stdout",
     "output_type": "stream",
     "text": [
      "Shape of our data remaining: (364171, 10)\n",
      "Percentage of Data Remaining: 69.25852107399194\n"
     ]
    }
   ],
   "execution_count": 82
  },
  {
   "cell_type": "code",
   "source": [
    "# hãy kiểm tra xem các đánh giá tích cực và tiêu cực được phân phối như thế nào\n",
    "plt.bar(final['Score'].value_counts().index, final['Score'].value_counts().values)\n",
    "plt.xlabel('index')\n",
    "plt.ylabel('Score')\n",
    "plt.show()\n"
   ],
   "metadata": {
    "execution": {
     "iopub.status.busy": "2024-02-11T05:59:13.876198Z",
     "iopub.execute_input": "2024-02-11T05:59:13.87676Z",
     "iopub.status.idle": "2024-02-11T05:59:14.184985Z",
     "shell.execute_reply.started": "2024-02-11T05:59:13.876709Z",
     "shell.execute_reply": "2024-02-11T05:59:14.183728Z"
    },
    "trusted": true,
    "id": "TEBVkWLNgMOA",
    "ExecuteTime": {
     "end_time": "2024-05-11T08:43:18.704423Z",
     "start_time": "2024-05-11T08:43:18.577965Z"
    }
   },
   "outputs": [
    {
     "data": {
      "text/plain": [
       "<Figure size 640x480 with 1 Axes>"
      ],
      "image/png": "[encoded data removed]"
     },
     "metadata": {},
     "output_type": "display_data"
    }
   ],
   "execution_count": 83
  },
  {
   "cell_type": "code",
   "source": [
    "# Tìm các câu chứa thẻ HTML và dấu câu\n",
    "import re\n",
    "i = 0\n",
    "# Duyệt qua từng câu trong cột \"Text\"\n",
    "for sent in final['Text'].values:\n",
    "    # Kiểm tra nếu câu chứa cả thẻ HTML và dấu câu\n",
    "    if (len(re.findall('<.*?>', sent))) and (len(re.findall('[?|!|\\'|\"|#]', sent))):\n",
    "        print('Vị trí:', i)\n",
    "        print(sent)\n",
    "        # Dừng vòng lặp\n",
    "        break\n",
    "    i += 1\n"
   ],
   "metadata": {
    "execution": {
     "iopub.status.busy": "2024-02-11T05:59:14.186417Z",
     "iopub.execute_input": "2024-02-11T05:59:14.186737Z",
     "iopub.status.idle": "2024-02-11T05:59:14.195198Z",
     "shell.execute_reply.started": "2024-02-11T05:59:14.18671Z",
     "shell.execute_reply": "2024-02-11T05:59:14.193799Z"
    },
    "trusted": true,
    "id": "3f2KLc41gMOA",
    "ExecuteTime": {
     "end_time": "2024-05-11T08:45:14.369691Z",
     "start_time": "2024-05-11T08:45:14.365710Z"
    }
   },
   "outputs": [
    {
     "name": "stdout",
     "output_type": "stream",
     "text": [
      "Vị trí: 6\n",
      "I set aside at least an hour each day to read to my son (3 y/o). At this point, I consider myself a connoisseur of children's books and this is one of the best. Santa Clause put this under the tree. Since then, we've read it perpetually and he loves it.<br /><br />First, this book taught him the months of the year.<br /><br />Second, it's a pleasure to read. Well suited to 1.5 y/o old to 4+.<br /><br />Very few children's books are worth owning. Most should be borrowed from the library. This book, however, deserves a permanent spot on your shelf. Sendak's best.\n"
     ]
    }
   ],
   "execution_count": 84
  },
  {
   "cell_type": "code",
   "source": [
    "# Nhập thư viện nltk và tải tập dừng từ tiếng Anh\n",
    "import nltk\n",
    "nltk.download('stopwords')\n",
    "\n",
    "# Khởi tạo tập từ dừng\n",
    "stop = set(stopwords.words('english'))  # Tập từ dừng trong tiếng Anh\n",
    "sno = nltk.stem.SnowballStemmer('english')  # Khởi tạo bộ gốc Snowball cho tiếng Anh\n",
    "\n",
    "# Hàm để loại bỏ thẻ HTML khỏi câu\n",
    "def cleanhtml(sentence):\n",
    "    cleanr = re.compile('<.*?>')  # Mẫu để loại bỏ thẻ HTML\n",
    "    cleantext = re.sub(cleanr, ' ', sentence)  # Loại bỏ thẻ HTML từ câu\n",
    "    return cleantext\n",
    "\n",
    "# Hàm để loại bỏ dấu câu hoặc ký tự đặc biệt khỏi câu\n",
    "def cleanpunc(sentence):\n",
    "    cleaned = re.sub(r'[?|!|\\'|\"|#|.|,|)|(|\\|/]', r'', sentence)  # Loại bỏ dấu câu và ký tự đặc biệt từ câu\n",
    "    return cleaned\n",
    "\n",
    "# Áp dụng các hàm làm sạch văn bản cho một câu cụ thể và in ra kết quả\n",
    "res = cleanhtml(final['Text'].values[6])  # Loại bỏ thẻ HTML từ câu\n",
    "res = cleanpunc(res)  # Loại bỏ dấu câu và ký tự đặc biệt từ câu\n",
    "print(res)\n"
   ],
   "metadata": {
    "execution": {
     "iopub.status.busy": "2024-02-11T05:59:14.197155Z",
     "iopub.execute_input": "2024-02-11T05:59:14.197847Z",
     "iopub.status.idle": "2024-02-11T05:59:14.214819Z",
     "shell.execute_reply.started": "2024-02-11T05:59:14.197799Z",
     "shell.execute_reply": "2024-02-11T05:59:14.213842Z"
    },
    "trusted": true,
    "id": "TsGmsPZ_gMOA",
    "ExecuteTime": {
     "end_time": "2024-05-11T08:46:31.768393Z",
     "start_time": "2024-05-11T08:46:30.919368Z"
    }
   },
   "outputs": [
    {
     "name": "stdout",
     "output_type": "stream",
     "text": [
      "I set aside at least an hour each day to read to my son 3 yo At this point I consider myself a connoisseur of childrens books and this is one of the best Santa Clause put this under the tree Since then weve read it perpetually and he loves it  First this book taught him the months of the year  Second its a pleasure to read Well suited to 15 yo old to 4+  Very few childrens books are worth owning Most should be borrowed from the library This book however deserves a permanent spot on your shelf Sendaks best\n"
     ]
    },
    {
     "name": "stderr",
     "output_type": "stream",
     "text": [
      "[nltk_data] Downloading package stopwords to\n",
      "[nltk_data]     C:\\Users\\Administrator\\AppData\\Roaming\\nltk_data...\n",
      "[nltk_data]   Package stopwords is already up-to-date!\n"
     ]
    }
   ],
   "execution_count": 85
  },
  {
   "metadata": {},
   "cell_type": "markdown",
   "source": [
    "## Làm sạch html, dấu câu, từ dừng và bắt nguồn từng từ trong mỗi bài đánh giá\n",
    "Trong đây sau khi làm sạch dấu câu các thứ sẽ import vào sqlite để lưu danh sách "
   ]
  },
  {
   "cell_type": "code",
   "source": [
    "\n",
    "# làm sạch html, dấu câu, từ dừng và bắt nguồn từng từ trong mỗi bài đánh giá\n",
    "# xin lưu ý rằng đối với Word2Vec, sẽ không bao gồm tất cả các bước này để xử lý trước.\n",
    "# lưu trữ những đánh giá cuối cùng này trong cơ sở dữ liệu Final.sqlite\n",
    "\n",
    "if not os.path.isfile('final.sqlite'):\n",
    "    # Khởi tạo danh sách để lưu các bài đánh giá đã được làm sạch\n",
    "    cleaned_reviews = []\n",
    "    cleaned_reviews_w2v = []\n",
    "    \n",
    "    # Duyệt qua từng câu trong cột \"Text\" của DataFrame final\n",
    "    for i, sent in enumerate(tqdm(final['Text'].values)):\n",
    "        filtered_sentence = []  # Danh sách để lưu các từ đã được làm sạch\n",
    "        filtered_sentence_w2v = []  # Danh sách để lưu các từ dành cho Word2Vec\n",
    "        sent = cleanhtml(sent)  # Loại bỏ thẻ HTML từ câu\n",
    "        \n",
    "        # Duyệt qua mỗi từ trong câu\n",
    "        for word in sent.split():\n",
    "            # Loại bỏ dấu câu và chia thành các từ riêng biệt\n",
    "            for cleaned_words in cleanpunc(word).split():\n",
    "                # Kiểm tra xem từ đó chỉ chứa các ký tự chữ cái và có độ dài lớn hơn 2 không\n",
    "                if (cleaned_words.isalpha()) and (len(cleaned_words) > 2):\n",
    "                    # Thêm từ đã làm sạch vào danh sách filtered_sentence_w2v\n",
    "                    filtered_sentence_w2v.append(cleaned_words.lower())\n",
    "                    # Kiểm tra xem từ đã làm sạch không nằm trong tập từ dừng\n",
    "                    if cleaned_words.lower() not in stop:\n",
    "                        # Stem từ và chuyển thành byte\n",
    "                        stem_word = (sno.stem(cleaned_words.lower())).encode('utf8')\n",
    "                        # Thêm từ đã làm sạch và gốc từ đã stem vào danh sách filtered_sentence\n",
    "                        filtered_sentence.append(stem_word)\n",
    "        \n",
    "        # Chuyển danh sách các từ đã làm sạch thành một câu và lưu vào cleaned_reviews\n",
    "        filtered_sentence = b' '.join(filtered_sentence)\n",
    "        # Chuyển danh sách các từ dành cho Word2Vec thành một câu và lưu vào cleaned_reviews_w2v\n",
    "        filtered_sentence_w2v = ' '.join(filtered_sentence_w2v)\n",
    "        cleaned_reviews.append(filtered_sentence)\n",
    "        cleaned_reviews_w2v.append(filtered_sentence_w2v)\n",
    "    \n",
    "    # Thêm cột mới \"CleanedText\" chứa các bài đánh giá đã được làm sạch vào DataFrame final\n",
    "    final['CleanedText'] = cleaned_reviews\n",
    "    # Chuyển dữ liệu của cột \"CleanedText\" thành kiểu str\n",
    "    final['CleanedText'] = final['CleanedText'].str.decode(\"utf-8\")\n",
    "    # Thêm cột mới \"CleanedText_w2v\" chứa các bài đánh giá đã được làm sạch cho Word2Vec vào DataFrame final\n",
    "    final['CleanedText_w2v'] = cleaned_reviews_w2v\n",
    "\n",
    "    # Lưu trữ DataFrame final vào cơ sở dữ liệu final.sqlite\n",
    "    conn = sqlite3.connect('final.sqlite')\n",
    "    c = conn.cursor()\n",
    "    conn.text_factory = str\n",
    "    final.to_sql('Reviews', conn,  schema=None, if_exists='replace', \\\n",
    "                 index=True, index_label=None, chunksize=None, dtype=None)\n",
    "    conn.close()\n",
    "    print('Done..!!')\n",
    "else:\n",
    "    print('File already Exist')\n"
   ],
   "metadata": {
    "execution": {
     "iopub.status.busy": "2024-02-11T05:59:14.21643Z",
     "iopub.execute_input": "2024-02-11T05:59:14.217063Z",
     "iopub.status.idle": "2024-02-11T06:07:04.031922Z",
     "shell.execute_reply.started": "2024-02-11T05:59:14.217032Z",
     "shell.execute_reply": "2024-02-11T06:07:04.0305Z"
    },
    "trusted": true,
    "id": "kypm-pXfgMOA",
    "ExecuteTime": {
     "end_time": "2024-05-11T08:48:31.744777Z",
     "start_time": "2024-05-11T08:48:31.723312Z"
    }
   },
   "outputs": [
    {
     "name": "stdout",
     "output_type": "stream",
     "text": [
      "File already Exist\n"
     ]
    }
   ],
   "execution_count": 86
  },
  {
   "cell_type": "code",
   "source": [
    "# Tạo một hàm để trực quan hóa kết quả của TSNE\n",
    "def tsne_visualizer(data, label, title):\n",
    "    # Import thư viện TSNE từ sklearn.manifold\n",
    "    from sklearn.manifold import TSNE\n",
    "\n",
    "    # Tạo mô hình TSNE với 2 thành phần và 2000 lượt lặp\n",
    "    tsne_model = TSNE(n_components=2, n_iter=2000)\n",
    "    tsne_data = tsne_model.fit_transform(data)  # Áp dụng TSNE cho dữ liệu đầu vào\n",
    "\n",
    "    # Tạo DataFrame để lưu trữ dữ liệu TSNE\n",
    "    tsne_df = pd.DataFrame(data=np.vstack((tsne_data.T, label)).T, columns=['1st_component', '2nd_component', 'label'])\n",
    "\n",
    "    # Trực quan hóa dữ liệu sử dụng seaborn\n",
    "    sns.scatterplot(data=tsne_df, x='1st_component', y='2nd_component', hue='label')\n",
    "    plt.title(title)\n",
    "    plt.show()\n",
    "\n",
    "#tsne_visualizer(data=bow_standerdised_data, label=df_final['Score'].values)\n"
   ],
   "metadata": {
    "execution": {
     "iopub.status.busy": "2024-02-11T06:07:04.033845Z",
     "iopub.execute_input": "2024-02-11T06:07:04.034229Z",
     "iopub.status.idle": "2024-02-11T06:07:04.042444Z",
     "shell.execute_reply.started": "2024-02-11T06:07:04.034199Z",
     "shell.execute_reply": "2024-02-11T06:07:04.041057Z"
    },
    "trusted": true,
    "id": "or3uyP0tgMOB",
    "ExecuteTime": {
     "end_time": "2024-05-11T08:51:21.379981Z",
     "start_time": "2024-05-11T08:51:21.375845Z"
    }
   },
   "outputs": [],
   "execution_count": 89
  },
  {
   "cell_type": "markdown",
   "source": [
    "## 3. Chuyển đổi đánh giá thành vectơ và phân loại cảm xúc bằng KNN\n",
    "\n",
    "### ***Mục tiêu:*** Chuyển đổi từng đánh giá hoặc câu thành một vectơ và sử dụng K Nearest Neighbor để phân loại."
   ],
   "metadata": {
    "id": "d1WD_BIAgMOB"
   }
  },
  {
   "cell_type": "markdown",
   "source": [
    "Trong phần này, chúng tôi sẽ chuyển đổi các đánh giá đã được làm sạch của mình thành vectơ bằng cách sử dụng ***Bag Of Words, TF-IDF, Average Word2Vec và TF-IDF Weighted*** Word2Vec để chúng tôi có thể biểu diễn chúng trong mặt phẳng n chiều và sau đó sử dụng Knearest Hàng xóm để phân loại các đánh giá tích cực và tiêu cực.\n",
    "\n",
    "\n",
    "Dưới đây là các bước chúng tôi sẽ thực hiện cho từng kỹ thuật vector hóa:\n",
    "1. Vector hóa: BOW, TF-IDF, Avg Word2Vec, Word2Vec có trọng số TF-IDF\n",
    "2. Lấy mẫu quá mức: Lấy mẫu ngẫu nhiên\n",
    "3. Tiêu chuẩn hóa\n",
    "4. Giảm kích thước: PCA ; (sẽ bị bỏ qua đối với Word2Vec)\n",
    "5. K-NN và Báo cáo phân loại\n",
    "- Bag of Words (BOW): Biểu diễn mỗi đánh giá dưới dạng vectơ, trong đó mỗi phần tử tương ứng với số lần xuất hiện của từ trong từ điển.\n",
    "\n",
    "- ![BOW.png](BOW.png)\n",
    "- Term Frequency-Inverse Document Frequency (TF-IDF): Biểu diễn mỗi đánh giá dưới dạng vectơ, trong đó giá trị của mỗi phần tử phản ánh mức độ quan trọng của từ trong đánh giá và tài liệu toàn bộ.\n",
    "- ![TF_IDF.gif](TF_IDF.gif)\n",
    "- Average Word2Vec: Biểu diễn mỗi đánh giá dưới dạng vectơ, trong đó mỗi phần tử là trung bình của các vectơ nhúng từ (Word2Vec) của các từ trong đánh giá.\n",
    "    - Ý tưởng cơ bản của word2vec có thể được gói gọn trong các ý sau:\n",
    "        - Hai từ xuất hiện trong những văn cảnh giống nhau thường có ý nghĩa gần với nhau.\n",
    "                - Ta có thể đoán được một từ nếu biết các từ xung quanh nó trong câu. Ví dụ, với câu “Hà Nội là … của Việt Nam” thì từ trong dấu ba chấm khả năng cao là “thủ đô”. \n",
    "        - Với câu hoàn chỉnh “Hà Nội là thủ đô của Việt Nam”, mô hình word2vec sẽ xây dựng ra embeding của các từ sao cho xác suất để từ trong dấu ba chấm là “thủ đô” là cao nhất.\n",
    "    - Có hai cách khác nhau xây dựng mô hình word2vec:\n",
    "\n",
    "        - Skip-gram: Dự đoán những từ ngữ cảnh nếu biết trước từ đích.\n",
    "\n",
    "        - CBOW (Continuous Bag of Words): Dựa vào những từ ngữ cảnh để dự đoán từ đích.\n",
    "\n",
    "\n",
    "\n",
    "- TF-IDF Weighted Word2Vec: Biểu diễn mỗi đánh giá dưới dạng vectơ, trong đó mỗi phần tử là trung bình có trọng số của các vectơ nhúng từ (Word2Vec) của các từ trong đánh giá, với trọng số được xác định bằng TF-IDF."
   ],
   "metadata": {
    "id": "2GFt2ljOgMOB"
   }
  },
  {
   "cell_type": "code",
   "source": [
    "# đọc các dữ liệu đã làm sạch trong final\n",
    "\n",
    "if os.path.isfile('final.sqlite'):\n",
    "    conn = sqlite3.connect('final.sqlite')\n",
    "    final = pd.read_sql_query(\"\"\" SELECT * FROM Reviews \"\"\", conn)\n",
    "    conn.close()\n",
    "else:\n",
    "    print(\"File Not Available in the location\")"
   ],
   "metadata": {
    "execution": {
     "iopub.status.busy": "2024-02-11T06:07:04.049458Z",
     "iopub.execute_input": "2024-02-11T06:07:04.050085Z",
     "iopub.status.idle": "2024-02-11T06:07:08.856257Z",
     "shell.execute_reply.started": "2024-02-11T06:07:04.050031Z",
     "shell.execute_reply": "2024-02-11T06:07:08.855036Z"
    },
    "trusted": true,
    "id": "maS1dymwgMOB",
    "ExecuteTime": {
     "end_time": "2024-05-11T09:06:54.419388Z",
     "start_time": "2024-05-11T09:06:41.602465Z"
    }
   },
   "outputs": [],
   "execution_count": 90
  },
  {
   "cell_type": "markdown",
   "source": [
    "## (A) Bag Of Words"
   ],
   "metadata": {
    "id": "nSPtyoOMgMOB"
   }
  },
  {
   "cell_type": "markdown",
   "source": [
    "### Phân chia dựa trên thời gian\n",
    "Phân tách dựa trên thời gian đề cập đến việc thực hành phân chia dữ liệu hoặc mẫu dựa trên tiêu chí thời gian. Mục tiêu chính của việc phân tách dựa trên thời gian là đảm bảo rằng thứ tự thời gian của dữ liệu được giữ nguyên trong quá trình phân tách. Bằng cách sử dụng tính năng phân tách dựa trên thời gian, các mô hình học máy có thể được đào tạo và đánh giá dựa trên dữ liệu gần giống với kịch bản trong thế giới thực mà chúng sẽ được triển khai. Cách tiếp cận này giúp nắm bắt các mô hình thời gian và sự phụ thuộc, đồng thời cung cấp ước tính đáng tin cậy về hiệu suất của mô hình trong các ứng dụng thực tế.\n",
    "\n",
    "Các bước:\n",
    "1. Sắp xếp dữ liệu theo thời gian\n",
    "2. Tách dữ liệu đã sắp xếp của tôi thành dữ liệu huấn luyện, dữ liệu xác thực và dữ liệu kiểm tra. sẽ lấy 70% dữ liệu đầu tiên để train và validation, phần còn lại để test"
   ],
   "metadata": {
    "id": "LMgZRlAIgMOB"
   }
  },
  {
   "cell_type": "code",
   "source": [
    "# sắp xếp dữ liệu theo thời gian vì nó là một biểu diễn tốt hơn của trường hợp sử dụng thực tế\n",
    "\n",
    "# hãy thao tác trên 7000 điểm dữ liệu vì hạn chế bộ nhớ\n",
    "df_final = final.sort_values(by='Time')[:7000]\n",
    "print('hình dạng của tập dữ liệu cuối cùng :', df_final.shape)\n",
    "print(\"=\"*20)\n",
    "\n",
    "# lấy 70 phần trăm dữ liệu của chúng tôi cho train và 30 phần trăm cho test\n",
    "# của 70 phần trăm dữ liệu, chúng tôi sẽ sử dụng 80 phần trăm cho train và 20 phần trăm cho cross validation\n",
    "n_train = int(np.ceil(df_final.shape[0] * 0.70))\n",
    "n_cv = int(n_train * 0.80)\n",
    "\n",
    "df_train = df_final[:n_cv]\n",
    "df_cv = df_final[n_cv:n_train]\n",
    "df_test = df_final[n_train:]\n",
    "\n",
    "# kiểm tra phân phối lớp của mỗi phần dữ liệu\n",
    "df_lst = [('\\tDữ liệu Train', df_train), ('\\tDữ liệu Cross Validation', df_cv), ('\\tDữ liệu Test ', df_test)]\n",
    "for df_name, df in df_lst:\n",
    "    print(df_name)\n",
    "    print('Shape của dữ liệu:', df.shape)\n",
    "    print('Phân phối lớp: \\t')\n",
    "    print(df['Score'].value_counts())\n",
    "    print('='*20)\n",
    "\n",
    "#vẽ biểu đồ số lượng điểm dữ liệu trong mỗi lớp\n",
    "sns.countplot(df_final['Score'])\n",
    "plt.show()\n"
   ],
   "metadata": {
    "execution": {
     "iopub.status.busy": "2024-02-11T06:07:08.857856Z",
     "iopub.execute_input": "2024-02-11T06:07:08.858247Z",
     "iopub.status.idle": "2024-02-11T06:07:09.262536Z",
     "shell.execute_reply.started": "2024-02-11T06:07:08.858214Z",
     "shell.execute_reply": "2024-02-11T06:07:09.261074Z"
    },
    "trusted": true,
    "id": "Z5JLvSHJgMOB",
    "ExecuteTime": {
     "end_time": "2024-05-11T09:11:32.305860Z",
     "start_time": "2024-05-11T09:11:31.869797Z"
    }
   },
   "outputs": [
    {
     "name": "stdout",
     "output_type": "stream",
     "text": [
      "hình dạng của tập dữ liệu cuối cùng : (7000, 13)\n",
      "====================\n",
      "\tDữ liệu Train\n",
      "Shape của dữ liệu: (3920, 13)\n",
      "Phân phối lớp: \t\n",
      "Score\n",
      "positive    3491\n",
      "negative     429\n",
      "Name: count, dtype: int64\n",
      "====================\n",
      "\tDữ liệu Cross Validation\n",
      "Shape của dữ liệu: (980, 13)\n",
      "Phân phối lớp: \t\n",
      "Score\n",
      "positive    839\n",
      "negative    141\n",
      "Name: count, dtype: int64\n",
      "====================\n",
      "\tDữ liệu Test \n",
      "Shape của dữ liệu: (2100, 13)\n",
      "Phân phối lớp: \t\n",
      "Score\n",
      "positive    1860\n",
      "negative     240\n",
      "Name: count, dtype: int64\n",
      "====================\n"
     ]
    },
    {
     "data": {
      "text/plain": [
       "<Figure size 640x480 with 1 Axes>"
      ],
      "image/png": "[encoded data removed]"
     },
     "metadata": {},
     "output_type": "display_data"
    }
   ],
   "execution_count": 96
  },
  {
   "cell_type": "markdown",
   "source": " ### Vector hóa using Bag Of Words",
   "metadata": {
    "id": "TNEEYxomgMOB"
   }
  },
  {
   "cell_type": "code",
   "source": [
    "# Bag of Words\n",
    "vectorizer_bow = CountVectorizer()\n",
    "train_bow = vectorizer_bow.fit_transform(df_train['CleanedText'].values) # Chuyển đổi văn bản thành BOW\n",
    "cv_bow = vectorizer_bow.transform(df_cv['CleanedText'].values)\n",
    "test_bow = vectorizer_bow.transform(df_test['CleanedText'].values)\n",
    "\n",
    "print(\"Kích thước của vectơ Bag of Words (train):\", train_bow.shape)\n",
    "print(\"Kích thước của vectơ Bag of Words (cross-validation):\", cv_bow.shape)\n",
    "print(\"Kích thước của vectơ Bag of Words (test):\", test_bow.shape)\n"
   ],
   "metadata": {
    "execution": {
     "iopub.status.busy": "2024-02-11T06:07:09.264192Z",
     "iopub.execute_input": "2024-02-11T06:07:09.26463Z",
     "iopub.status.idle": "2024-02-11T06:07:09.711569Z",
     "shell.execute_reply.started": "2024-02-11T06:07:09.264597Z",
     "shell.execute_reply": "2024-02-11T06:07:09.710435Z"
    },
    "trusted": true,
    "id": "TKnfejNTgMOB",
    "ExecuteTime": {
     "end_time": "2024-05-11T09:12:52.874884Z",
     "start_time": "2024-05-11T09:12:52.393501Z"
    }
   },
   "outputs": [
    {
     "name": "stdout",
     "output_type": "stream",
     "text": [
      "Kích thước của vectơ Bag of Words (train): (3920, 11312)\n",
      "Kích thước của vectơ Bag of Words (cross-validation): (980, 11312)\n",
      "Kích thước của vectơ Bag of Words (test): (2100, 11312)\n"
     ]
    }
   ],
   "execution_count": 97
  },
  {
   "cell_type": "markdown",
   "source": [
    "### Oversampling\n",
    "Các bộ dữ liệu không cân bằng, trong đó các lớp không được thể hiện như nhau, có thể đặt ra những thách thức trong các nhiệm vụ học máy. Số lượng đánh giá tiêu cực thấp đáng kể so với đánh giá tích cực và chúng tôi sẽ sử dụng Random Over Sampling để giải quyết vấn đề này.\n",
    "\n",
    "RandomOverSampler: RandomOverSampler hoạt động bằng cách sao chép ngẫu nhiên các ví dụ từ lớp thiểu số cho đến khi nó đạt kích thước tương tự như lớp đa số. Kỹ thuật lấy mẫu tổng hợp này giúp giảm thiểu vấn đề mất cân bằng lớp, cho phép mô hình học hỏi từ cách biểu diễn dữ liệu cân bằng hơn."
   ],
   "metadata": {
    "id": "1-0snTy-gMOB"
   }
  },
  {
   "cell_type": "code",
   "source": [
    "# vẽ biểu đồ mất cân bằng lớp trước khi thực hiện oversampling\n",
    "plt.figure(1, figsize=(17,6))  # Tạo một hình vẽ mới với kích thước 17x6\n",
    "plt.subplot(1,2,1)  # Tạo một subplot với 1 hàng, 2 cột, và sử dụng ô thứ nhất\n",
    "sns.countplot(x=df_train['Score'])  # Vẽ biểu đồ đếm số lượng mẫu trong mỗi lớp của dữ liệu huấn luyện trước khi thực hiện oversampling\n",
    "plt.title('Phân phối lớp trước khi oversampling')  #\n",
    "print('Hình dạng của dữ liệu trước khi oversampling:', train_bow.shape, '\\n\\n') \n",
    "\n",
    "# thực hiện oversampling bằng cách sử dụng SMOTE\n",
    "# oversampling dữ liệu huấn luyện của chúng tôi\n",
    "ros = RandomOverSampler()  # Khởi tạo một instance của RandomOverSampler\n",
    "X_train_bow, Y_train_bow = ros.fit_resample(train_bow,df_train['Score'])  # Thực hiện oversampling dữ liệu huấn luyện bằng phương pháp Random Over-Sampling (ROS)\n",
    "\n",
    "# vẽ biểu đồ phân phối lớp sau khi oversampling\n",
    "plt.subplot(1,2,2)  # Chuyển sang ô subplot thứ hai\n",
    "sns.countplot(x=Y_train_bow)  # Vẽ biểu đồ đếm số lượng mẫu trong mỗi lớp sau khi thực hiện oversampling\n",
    "plt.title('Phân phối lớp sau khi oversampling')  \n",
    "plt.show()  \n",
    "print('Hình dạng của dữ liệu sau khi oversampling:', X_train_bow.shape)  # In ra hình dạng của dữ liệu sau khi thực hiện oversampling\n"
   ],
   "metadata": {
    "execution": {
     "iopub.status.busy": "2024-02-11T06:07:09.712893Z",
     "iopub.execute_input": "2024-02-11T06:07:09.713224Z",
     "iopub.status.idle": "2024-02-11T06:07:10.260432Z",
     "shell.execute_reply.started": "2024-02-11T06:07:09.713195Z",
     "shell.execute_reply": "2024-02-11T06:07:10.258962Z"
    },
    "trusted": true,
    "id": "q5E1-OPdgMOB",
    "ExecuteTime": {
     "end_time": "2024-05-11T09:13:59.795817Z",
     "start_time": "2024-05-11T09:13:59.453204Z"
    }
   },
   "outputs": [
    {
     "name": "stdout",
     "output_type": "stream",
     "text": [
      "Hình dạng của dữ liệu trước khi oversampling: (3920, 11312) \n",
      "\n",
      "\n"
     ]
    },
    {
     "data": {
      "text/plain": [
       "<Figure size 1700x600 with 2 Axes>"
      ],
      "image/png": "[encoded data removed]"
     },
     "metadata": {},
     "output_type": "display_data"
    },
    {
     "name": "stdout",
     "output_type": "stream",
     "text": [
      "Hình dạng của dữ liệu sau khi oversampling: (6982, 11312)\n"
     ]
    }
   ],
   "execution_count": 98
  },
  {
   "cell_type": "markdown",
   "source": "### Standardization (Tiêu chuẩn hoá)",
   "metadata": {
    "id": "34mkrpN4gMOB"
   }
  },
  {
   "cell_type": "code",
   "source": [
    "# Tạo một đối tượng StandardScaler để chuẩn hóa dữ liệu vectơ Bag of Words của tập huấn luyện\n",
    "scaler_bow = StandardScaler()\n",
    "\n",
    "# Chuẩn hóa dữ liệu vectơ Bag of Words của tập huấn luyện và chuyển đổi sang mảng numpy\n",
    "X_train_bow_standardised = scaler_bow.fit_transform(X_train_bow.toarray())\n",
    "\n",
    "# Sử dụng cùng một đối tượng StandardScaler để chuẩn hóa dữ liệu vectơ Bag of Words của tập cross-validation và chuyển đổi sang mảng numpy\n",
    "X_cv_bow_standardised = scaler_bow.transform(cv_bow.toarray())\n",
    "\n",
    "# Sử dụng cùng một đối tượng StandardScaler để chuẩn hóa dữ liệu vectơ Bag of Words của tập test và chuyển đổi sang mảng numpy\n",
    "X_test_bow_standardised = scaler_bow.transform(test_bow.toarray())\n"
   ],
   "metadata": {
    "execution": {
     "iopub.status.busy": "2024-02-11T06:07:10.262613Z",
     "iopub.execute_input": "2024-02-11T06:07:10.263549Z",
     "iopub.status.idle": "2024-02-11T06:07:13.436947Z",
     "shell.execute_reply.started": "2024-02-11T06:07:10.263501Z",
     "shell.execute_reply": "2024-02-11T06:07:13.435736Z"
    },
    "trusted": true,
    "id": "UeY7dsjsgMOB",
    "ExecuteTime": {
     "end_time": "2024-05-11T09:15:49.464788Z",
     "start_time": "2024-05-11T09:15:45.664189Z"
    }
   },
   "outputs": [],
   "execution_count": 100
  },
  {
   "cell_type": "markdown",
   "source": [
    "### Giảm Kích Thước (Dimensionality Reduction)\n",
    "\n",
    "Giảm kích thước là một kỹ thuật quan trọng trong học máy, được sử dụng để giải quyết vấn đề về kích thước của dữ liệu bằng cách giảm số lượng tính năng hoặc biến trong tập dữ liệu. Đối với các bộ dữ liệu có số chiều lớn, việc xử lý và phân tích có thể trở nên phức tạp và tốn kém. Đồng thời, việc giảm kích thước cũng giúp tăng hiệu suất tính toán và giảm thiểu hiện tượng trang bị quá mức.\n",
    "\n",
    "Phương pháp giảm kích thước có thể trích xuất các tính năng quan trọng hoặc tạo ra các biểu diễn dữ liệu mới có số chiều thấp hơn, đồng thời vẫn giữ lại được phần lớn thông tin quan trọng từ dữ liệu gốc.\n",
    "\n",
    "Trong trường hợp của chúng ta, quá trình vector hóa BOW đã tạo ra các vectơ có kích thước khoảng 11K. Để giảm kích thước và làm cho quá trình tính toán hiệu quả hơn, chúng ta sử dụng phương pháp PCA (Principal Component Analysis)."
   ],
   "metadata": {
    "id": "QziF7q5pgMOB"
   }
  },
  {
   "metadata": {},
   "cell_type": "markdown",
   "source": [
    "## PCA\n",
    "PCA (Principal Component Analysis) là một phương pháp thống kê được sử dụng để giảm kích thước của dữ liệu bằng cách chuyển đổi các biến ban đầu thành một tập hợp nhỏ hơn các biến mới, gọi là các thành phần chính, sao cho các thành phần này giữ lại được phần lớn thông tin quan trọng từ dữ liệu gốc.\n",
    "\n",
    "![PCA.png](PCA.png)\n",
    "\n",
    "Cụ thể, PCA hoạt động bằng cách tìm ra các trục mới (các thành phần chính) trong không gian đa chiều của dữ liệu sao cho phương sai của dữ liệu trên các trục mới là lớn nhất. Các trục mới này được sắp xếp theo độ quan trọng giảm dần, từ trục có phương sai lớn nhất đến trục có phương sai nhỏ nhất.\n"
   ]
  },
  {
   "cell_type": "code",
   "source": [
    "# Giảm chiều dữ liệu sử dụng phương pháp PCA hoặc Truncated SVD\n",
    "\n",
    "# Sử dụng PCA với số thành phần chính (components) là 3000\n",
    "pca = PCA(n_components=3000)\n",
    "pca.fit(X_train_bow_standardised)  # Huấn luyện PCA trên dữ liệu huấn luyện đã chuẩn hóa\n",
    "explained_variance = pca.explained_variance_ratio_  # Lấy tỷ lệ phương sai được giải thích bởi mỗi thành phần chính\n",
    "print(len(explained_variance))  # In ra số lượng tỷ lệ phương sai được giải thích\n",
    "\n",
    "# Xác định số chiều cần thiết để giải thích 95% tổng phương sai\n",
    "dim_req_var = sum(np.cumsum(explained_variance) <= 0.95)\n",
    "print('Số chiều cần thiết để giải thích 95% tổng phương sai:', dim_req_var)\n",
    "print('Phương sai được giải thích:', np.cumsum(explained_variance)[dim_req_var])\n",
    "\n",
    "# Vẽ biểu đồ hiển thị phương sai tích lũy theo số chiều\n",
    "plt.figure(figsize=(15,5))\n",
    "plt.grid()\n",
    "plt.plot(list(range(len(explained_variance))), np.cumsum(explained_variance))\n",
    "plt.axvline(x=dim_req_var, color='g', label='Đường 95% phương sai')\n",
    "plt.xlabel('Số chiều')\n",
    "plt.ylabel('Phần trăm Phương sai Tích lũy')\n",
    "plt.legend()\n",
    "plt.show()\n",
    "\n",
    "# Sử dụng PCA để giảm chiều dữ liệu cho dữ liệu huấn luyện, dữ liệu cross validation và dữ liệu kiểm tra\n",
    "X_train_bow_pca = pca.transform(X_train_bow_standardised)[:, :dim_req_var]\n",
    "X_cv_bow_pca = pca.transform(X_cv_bow_standardised)[:, :dim_req_var]\n",
    "X_test_bow_pca = pca.transform(X_test_bow_standardised)[:, :dim_req_var]\n",
    "\n",
    "# Xác định nhãn cho dữ liệu huấn luyện, dữ liệu cross validation và dữ liệu kiểm tra\n",
    "y_train = Y_train_bow\n",
    "y_cv = df_cv['Score'].values\n",
    "y_test = df_test['Score'].values\n"
   ],
   "metadata": {
    "execution": {
     "iopub.status.busy": "2024-02-11T06:07:13.440629Z",
     "iopub.execute_input": "2024-02-11T06:07:13.441237Z",
     "iopub.status.idle": "2024-02-11T06:09:45.927836Z",
     "shell.execute_reply.started": "2024-02-11T06:07:13.441202Z",
     "shell.execute_reply": "2024-02-11T06:09:45.926234Z"
    },
    "trusted": true,
    "id": "ixuw-YRSgMOB"
   },
   "outputs": [],
   "execution_count": null
  },
  {
   "cell_type": "markdown",
   "source": [
    "### K-Nearest Neighbors\n",
    "\n",
    "K-Nearest Neighbors (KNN) là một thuật toán phổ biến và trực quan được sử dụng cho cả nhiệm vụ phân loại và hồi quy trong học máy. Đây là một thuật toán phi tham số, nghĩa là nó không đưa ra các giả định về phân bổ dữ liệu cơ bản. KNN đưa ra dự đoán dựa trên sự tương đồng giữa các phiên bản trong không gian đặc trưng. Chúng tôi sẽ sử dụng khoảng cách Euclide làm thước đo khoảng cách cho trường hợp sử dụng này.\n",
    "\n",
    "1. Thuật toán K-Nearest Neighbors (KNN) sẽ được thực thi với một phạm vi k giá trị, cụ thể từ 1 đến 29 với kích thước bước là 2, đảm bảo chỉ xem xét các giá trị lẻ.\n",
    "2. Sau đó, mô hình KNN sẽ được huấn luyện bằng cách sử dụng dữ liệu huấn luyện và dữ liệu xác thực sẽ được sử dụng để đánh giá độ chính xác, điểm f1 (dương) và điểm f1 (âm) cho mỗi giá trị của k.\n",
    "3. Giá trị k liên quan đến độ chính xác cao nhất sẽ được chọn và k tối ưu này sẽ được sử dụng để tạo ra số liệu độ chính xác cuối cùng. Ngoài ra, một báo cáo phân loại toàn diện và ma trận nhầm lẫn sẽ được tạo bằng dữ liệu thử nghiệm."
   ],
   "metadata": {
    "id": "TMZFIKo4gMOB"
   }
  },
  {
   "cell_type": "code",
   "source": [
    "# Sử dụng KNN để phân loại dữ liệu\n",
    "accuracy = []\n",
    "f1_positive = []\n",
    "f1_negative = []\n",
    "K_values = list(range(1,30,2))\n",
    "\n",
    "# Vòng lặp qua các giá trị K để tìm ra giá trị tốt nhất\n",
    "for k in tqdm(K_values):\n",
    "    knn = KNeighborsClassifier(n_neighbors=k)\n",
    "    knn.fit(X_train_bow_pca, y_train)\n",
    "    pred = knn.predict(X_cv_bow_pca)\n",
    "    f1_positive.append(f1_score(y_cv, pred, pos_label=\"positive\"))\n",
    "    f1_negative.append(f1_score(y_cv, pred, pos_label=\"negative\"))\n",
    "    accuracy.append(accuracy_score(y_cv, pred))\n",
    "\n",
    "positive_ind = f1_positive.index(max(f1_positive))\n",
    "negative_ind = f1_negative.index(max(f1_negative))\n",
    "acc_ind = accuracy.index(max(accuracy))\n",
    "\n",
    "# In ra kết quả tốt nhất đạt được\n",
    "print('Độ chính xác tối đa là {a} với giá trị K là {b}'.format(a=max(accuracy), b=K_values[acc_ind]))\n",
    "print('F1 score tối đa trên dữ liệu CV cho nhãn positive là {a} với giá trị K là {b}'.format(a=max(f1_positive), b=K_values[positive_ind]))\n",
    "print('F1 score tối đa trên dữ liệu CV cho nhãn negative là {a} với giá trị K là {b}'.format(a=max(f1_negative), b=K_values[negative_ind]))\n",
    "\n",
    "# Vẽ biểu đồ hiển thị accuracy, F1-score cho các giá trị K\n",
    "plt.figure(1, figsize=(22,5))\n",
    "plt.subplot(1,3,1)\n",
    "plt.plot(K_values, accuracy, 'o--')\n",
    "plt.title('Accuracy')\n",
    "plt.xlabel('K_Values')\n",
    "\n",
    "plt.subplot(1,3,2)\n",
    "plt.plot(K_values, f1_positive, 'o--')\n",
    "plt.title('F1_Positive')\n",
    "plt.xlabel('K_Values')\n",
    "\n",
    "plt.subplot(1,3,3)\n",
    "plt.plot(K_values, f1_negative, 'o--')\n",
    "plt.title('F1_Negative')\n",
    "plt.xlabel('K_Values')\n",
    "\n",
    "# Huấn luyện mô hình KNN trên dữ liệu kiểm tra và tạo các ma trận liên quan\n",
    "knn = KNeighborsClassifier(n_neighbors=K_values[acc_ind])\n",
    "knn.fit(X_train_bow_pca, y_train)\n",
    "pred = knn.predict(X_test_bow_pca)\n",
    "\n",
    "# Tạo confusion matrix và báo cáo phân loại để đánh giá hiệu suất\n",
    "confusion_mat = pd.DataFrame(confusion_matrix(y_test, pred, labels=['positive', 'negative']), columns=['pred_positive', 'pred_negative'], index=['true_positive', 'true_negative'])\n",
    "print('\\nConfusion matrix:')\n",
    "print(confusion_mat)\n",
    "print('\\nClassification Report:')\n",
    "print(classification_report(y_test, pred))\n",
    "print('\\nAccuracy on Test Data:', accuracy_score(y_test, pred))\n",
    "\n",
    "#Precision là tỷ lệ giữa số lượng dự đoán chính xác của một lớp và tổng số dự đoán của lớp đó\n",
    "#Recall là tỷ lệ giữa số lượng dự đoán chính xác của một lớp và tổng số điểm thực sự thuộc lớp đó trong dữ liệu.\n",
    "#F1-score là một trung bình điều hòa giữa precision và recall. \n",
    "# Trong trường hợp này, precision và recall cho nhãn negative khá thấp, chỉ khoảng 21% và 9% tương ứng."
   ],
   "metadata": {
    "execution": {
     "iopub.status.busy": "2024-02-11T06:09:45.930196Z",
     "iopub.execute_input": "2024-02-11T06:09:45.931313Z",
     "iopub.status.idle": "2024-02-11T06:09:59.868037Z",
     "shell.execute_reply.started": "2024-02-11T06:09:45.931258Z",
     "shell.execute_reply": "2024-02-11T06:09:59.867072Z"
    },
    "trusted": true,
    "id": "atSHt0mKgMOB"
   },
   "outputs": [],
   "execution_count": null
  },
  {
   "cell_type": "markdown",
   "source": [
    "### ***Bow Result:***\n",
    "mô hình phân loại đã đạt được độ chính xác 86% trên tập dữ liệu, cho thấy rằng nó đã phân loại chính xác 86% trường hợp, mặc dù độ chính xác cho thấy mô hình đã hoạt động tốt, hãy xem xét sự sai lệch.\n",
    "\n",
    "Khi xem xét ma trận nhầm lẫn, chúng tôi nhận thấy rằng trong số các trường hợp dương tính thực tế, mô hình đã dự đoán chính xác 1.787 là dương tính (dương tính thật), nhưng lại phân loại sai 75 là âm tính (âm tính giả). Ngoài ra, trong số các trường hợp âm tính thực tế, mô hình đã dự đoán chính xác 26 là âm tính (âm tính thật), trong khi phân loại sai 214 là dương tính (dương tính giả).\n",
    "\n",
    "Độ chính xác của lớp dương tính là 89%, cho thấy rằng trong số tất cả các trường hợp được dự đoán là dương tính thì 89% thực sự là dương tính. Tỷ lệ thu hồi đối với lớp tích cực là 96%, cho thấy mô hình đã xác định chính xác 96% trường hợp tích cực. Điểm f1 cho lớp tích cực là 93%, kết hợp độ chính xác và khả năng thu hồi thành một số liệu duy nhất và điều này cho thấy rằng mô hình dự đoán lớp tích cực thực sự tốt.\n",
    "\n",
    "Mặt khác, độ chính xác của lớp âm tương đối thấp ở mức 28%, ngụ ý rằng chỉ 28% trường hợp được dự đoán là âm là thực sự âm. Tỷ lệ thu hồi đối với lớp phủ định là 12%, cho thấy mô hình đã gặp khó khăn trong việc xác định chính xác các trường hợp phủ định. Điểm f1 cho lớp phủ định là 17%. Điều này cho thấy rằng mô hình của chúng tôi rất kém trong việc dự đoán loại hoặc đánh giá tiêu cực."
   ],
   "metadata": {
    "id": "CPweyojBgMOC"
   }
  },
  {
   "cell_type": "markdown",
   "source": "Để chẩn đoán sự cố, chúng tôi có thể sử dụng nhiều kỹ thuật khác nhau nhưng hãy trực quan hóa dữ liệu đào tạo của chúng tôi ở dạng 2D để hiểu rõ hơn mức độ phân tách giữa các đánh giá tích cực và tiêu cực.",
   "metadata": {
    "id": "FfQdbInAgMOC"
   }
  },
  {
   "cell_type": "code",
   "source": [
    "# visualizing BOW with TSNE\n",
    "\n",
    "title = 'Bag of Words'\n",
    "tsne_visualizer(data=X_train_bow_pca, label=y_train, title=title)"
   ],
   "metadata": {
    "execution": {
     "iopub.status.busy": "2024-02-11T06:09:59.869042Z",
     "iopub.execute_input": "2024-02-11T06:09:59.869708Z",
     "iopub.status.idle": "2024-02-11T06:11:39.209744Z",
     "shell.execute_reply.started": "2024-02-11T06:09:59.869607Z",
     "shell.execute_reply": "2024-02-11T06:11:39.208461Z"
    },
    "trusted": true,
    "id": "eMFkm_c5gMOC"
   },
   "outputs": [],
   "execution_count": null
  },
  {
   "cell_type": "markdown",
   "source": [
    "## (B) TF-IDF"
   ],
   "metadata": {
    "id": "l-hcUV9wgMOC"
   }
  },
  {
   "cell_type": "code",
   "source": [
    "# TF-IDF\n",
    "vectorizer_tfidf = TfidfVectorizer()\n",
    "train_tfidf = vectorizer_tfidf.fit_transform(df_train['CleanedText'].values)\n",
    "cv_tfidf = vectorizer_tfidf.transform(df_cv['CleanedText'].values)\n",
    "test_tfidf = vectorizer_tfidf.transform(df_test['CleanedText'].values)\n",
    "\n",
    "print(train_tfidf.shape)\n",
    "print(cv_tfidf.shape)\n",
    "print(test_tfidf.shape)"
   ],
   "metadata": {
    "execution": {
     "iopub.status.busy": "2024-02-11T06:11:39.211557Z",
     "iopub.execute_input": "2024-02-11T06:11:39.212797Z",
     "iopub.status.idle": "2024-02-11T06:11:39.663587Z",
     "shell.execute_reply.started": "2024-02-11T06:11:39.212749Z",
     "shell.execute_reply": "2024-02-11T06:11:39.662392Z"
    },
    "trusted": true,
    "id": "zNHm3KI4gMOC"
   },
   "outputs": [],
   "execution_count": null
  },
  {
   "cell_type": "code",
   "source": [
    "## OVERSAMPLING\n",
    "\n",
    "# plotting class imbalance before oversampling\n",
    "plt.figure(1, figsize=(17,6))\n",
    "plt.subplot(1,2,1)\n",
    "sns.countplot(x=df_train['Score'])\n",
    "plt.title('class distribution before oversampling')\n",
    "print('Shape of data before oversampling:', train_tfidf.shape, '\\n\\n')\n",
    "\n",
    "# performing oversampling using smote\n",
    "# oversampling our train data\n",
    "ros = RandomOverSampler()\n",
    "X_train_tfidf, Y_train_tfidf = ros.fit_resample(train_tfidf,df_train['Score'])\n",
    "\n",
    "# plotting class dist after oversampling\n",
    "plt.subplot(1,2,2)\n",
    "sns.countplot(x=Y_train_tfidf)\n",
    "plt.title('class distribution after oversampling')\n",
    "plt.show()\n",
    "print('Shape of data after oversampling:', X_train_tfidf.shape)\n"
   ],
   "metadata": {
    "execution": {
     "iopub.status.busy": "2024-02-11T06:11:39.664915Z",
     "iopub.execute_input": "2024-02-11T06:11:39.665275Z",
     "iopub.status.idle": "2024-02-11T06:11:40.186538Z",
     "shell.execute_reply.started": "2024-02-11T06:11:39.665243Z",
     "shell.execute_reply": "2024-02-11T06:11:40.185204Z"
    },
    "trusted": true,
    "id": "SRvYDuaAgMOC"
   },
   "outputs": [],
   "execution_count": null
  },
  {
   "cell_type": "code",
   "source": [
    "# standardization\n",
    "scaler_tfidf = StandardScaler()\n",
    "X_train_tfidf_standardised = scaler_tfidf.fit_transform(X_train_tfidf.toarray())\n",
    "X_cv_tfidf_standardised = scaler_tfidf.transform(cv_tfidf.toarray())\n",
    "X_test_tfidf_standardised = scaler_tfidf.transform(test_tfidf.toarray())"
   ],
   "metadata": {
    "execution": {
     "iopub.status.busy": "2024-02-11T06:11:40.187867Z",
     "iopub.execute_input": "2024-02-11T06:11:40.188212Z",
     "iopub.status.idle": "2024-02-11T06:11:43.063597Z",
     "shell.execute_reply.started": "2024-02-11T06:11:40.188181Z",
     "shell.execute_reply": "2024-02-11T06:11:43.062164Z"
    },
    "trusted": true,
    "id": "G1okpthXgMOC"
   },
   "outputs": [],
   "execution_count": null
  },
  {
   "cell_type": "code",
   "source": [
    "# dim reduction using PCA. We can also use truncated SVD\n",
    "\n",
    "pca = PCA(n_components=3000)\n",
    "pca.fit(X_train_tfidf_standardised)\n",
    "explained_variance = pca.explained_variance_ratio_\n",
    "print(len(explained_variance))\n",
    "\n",
    "\n",
    "dim_req_var = sum(np.cumsum(explained_variance) <=0.95)\n",
    "print('Dimensions required for 95 percent explained variance:', dim_req_var)\n",
    "print('Variance Explained:', np.cumsum(explained_variance)[dim_req_var])\n",
    "\n",
    "plt.figure(figsize=(15,5))\n",
    "plt.grid()\n",
    "plt.plot(list(range(len(explained_variance))),np.cumsum(explained_variance))\n",
    "plt.axvline(x = dim_req_var, color = 'g', label='95 pecent var line')\n",
    "plt.xlabel('Dimensions')\n",
    "plt.ylabel('Cumulative Percentage Variance Explained')\n",
    "plt.legend()\n",
    "plt.show()\n",
    "\n",
    "\n",
    "X_train_tfidf_pca = pca.transform(X_train_tfidf_standardised)[:, :dim_req_var]\n",
    "X_cv_tfidf_pca = pca.transform(X_cv_tfidf_standardised)[:, :dim_req_var]\n",
    "X_test_tfidf_pca = pca.transform(X_test_tfidf_standardised)[:, :dim_req_var]\n",
    "\n",
    "y_train = Y_train_tfidf\n",
    "y_cv = df_cv['Score'].values\n",
    "y_test = df_test['Score'].values"
   ],
   "metadata": {
    "execution": {
     "iopub.status.busy": "2024-02-11T06:11:43.065306Z",
     "iopub.execute_input": "2024-02-11T06:11:43.065815Z",
     "iopub.status.idle": "2024-02-11T06:14:13.388561Z",
     "shell.execute_reply.started": "2024-02-11T06:11:43.065771Z",
     "shell.execute_reply": "2024-02-11T06:14:13.386905Z"
    },
    "trusted": true,
    "id": "xVrk6UDmgMOF"
   },
   "outputs": [],
   "execution_count": null
  },
  {
   "cell_type": "code",
   "source": [
    "# Using KNN for classification\n",
    "accuracy = []\n",
    "f1_positive = []\n",
    "f1_negative = []\n",
    "K_values = list(range(1,30,2))\n",
    "\n",
    "for k in tqdm(K_values):\n",
    "    knn = KNeighborsClassifier(n_neighbors=k)\n",
    "    knn.fit(X_train_tfidf_pca, y_train)\n",
    "    pred = knn.predict(X_cv_tfidf_pca)\n",
    "    f1_positive.append(f1_score(y_cv, pred, pos_label=\"positive\"))\n",
    "    f1_negative.append(f1_score(y_cv, pred, pos_label=\"negative\"))\n",
    "    accuracy.append(accuracy_score(y_cv, pred))\n",
    "\n",
    "positive_ind = f1_positive.index(max(f1_positive))\n",
    "negative_ind = f1_negative.index(max(f1_negative))\n",
    "acc_ind = accuracy.index(max(accuracy))\n",
    "print('The maximum accuracy is {a} with K value of {b}'.format(a=max(accuracy), b=K_values[acc_ind]))\n",
    "print('The maximum F1 score on CV data for positive labels is {a} with K value of {b}'.format(a=max(f1_positive), b=K_values[positive_ind]))\n",
    "print('The maximum F1 score on CV data for negative labels is {a} with K value of {b}'.format(a=max(f1_negative), b=K_values[negative_ind]))\n",
    "\n",
    "# plotting accuracy f1-positive and f1-negative for K values\n",
    "plt.figure(1, figsize=(22,5))\n",
    "plt.subplot(1,3,1)\n",
    "plt.plot(K_values, accuracy, 'o--')\n",
    "plt.title('Accuracy')\n",
    "plt.xlabel('K_Values')\n",
    "\n",
    "plt.subplot(1,3,2)\n",
    "plt.plot(K_values, f1_positive, 'o--')\n",
    "plt.title('F1_Positive')\n",
    "plt.xlabel('K_Values')\n",
    "\n",
    "plt.subplot(1,3,3)\n",
    "plt.plot(K_values, f1_negative, 'o--')\n",
    "plt.title('F1_Negative')\n",
    "plt.xlabel('K_Values')\n",
    "\n",
    "# knn on our test data for reporting\n",
    "# plase note that we can fit it on best value of our negativef1 score as well\n",
    "# in order to boost the precision and recall for our negative reviews\n",
    "knn = KNeighborsClassifier(n_neighbors=K_values[acc_ind])\n",
    "knn.fit(X_train_tfidf_pca, y_train)\n",
    "pred = knn.predict(X_test_tfidf_pca)\n",
    "\n",
    "# generating relevant martices\n",
    "confusion_mat = pd.DataFrame(confusion_matrix(y_test, pred, labels=['positive', 'negative']), columns=['pred_positive', 'pred_negative'], index=['true_positive', 'true_negative'])\n",
    "print('\\nConfusion matrix:')\n",
    "print(confusion_mat)\n",
    "print('\\nClassification Report:')\n",
    "print(classification_report(y_test, pred))\n",
    "print('\\nAccuracy on Test Data:', accuracy_score(y_test, pred))"
   ],
   "metadata": {
    "execution": {
     "iopub.status.busy": "2024-02-11T06:14:13.391537Z",
     "iopub.execute_input": "2024-02-11T06:14:13.392569Z",
     "iopub.status.idle": "2024-02-11T06:14:29.747263Z",
     "shell.execute_reply.started": "2024-02-11T06:14:13.392501Z",
     "shell.execute_reply": "2024-02-11T06:14:29.746356Z"
    },
    "trusted": true,
    "id": "pLqlB2YogMOF"
   },
   "outputs": [],
   "execution_count": null
  },
  {
   "cell_type": "markdown",
   "source": [
    "### ***Kết quả TFIDF:***\n",
    "Mô hình phân loại đạt được độ chính xác 88,0% trên dữ liệu thử nghiệm, cho thấy nó đã phân loại chính xác 88,0% số trường hợp.\n",
    "\n",
    "Kiểm tra ma trận nhầm lẫn, chúng tôi nhận thấy rằng trong số các trường hợp dương tính thực tế, mô hình đã dự đoán chính xác 1.835 là dương tính (dương tính thật), nhưng nó đã phân loại sai 25 trường hợp là âm tính (âm tính giả). Tương tự, đối với các trường hợp âm tính thực tế, mô hình đã dự đoán chính xác 4 là âm tính (âm tính thật), nhưng nó đã phân loại sai 236 trường hợp là dương tính (dương tính giả).\n",
    "\n",
    "Độ chính xác của lớp dương tính là 89%, cho thấy rằng trong số tất cả các trường hợp được dự đoán là dương tính thì 89% thực sự là dương tính. Tỷ lệ thu hồi đối với lớp tích cực là 99%, cho thấy mô hình đã xác định chính xác 99% trường hợp tích cực. Điểm f1 cho lớp tích cực là 93%, kết hợp độ chính xác và khả năng thu hồi thành một số liệu duy nhất.\n",
    "\n",
    "Mặt khác, độ chính xác của lớp âm thực sự thấp ở mức 14%, ngụ ý rằng chỉ 14% trường hợp được dự đoán là âm là thực sự âm. Tỷ lệ thu hồi đối với lớp phủ định là 2%, cho thấy mô hình đã gặp khó khăn trong việc xác định chính xác các trường hợp phủ định. Điểm f1 cho lớp phủ định là 3%. Nhìn chung, mô hình này về cơ bản hoạt động như một mô hình kém, phân loại từng điểm là tích cực và hoạt động kém hơn mô hình BOW.\n",
    "\n",
    "Chúng ta có thể sử dụng thước đo khác như Điểm F1 cho lớp phủ định để xác định K tốt nhất nhằm tăng cường dự đoán về lớp phủ định."
   ],
   "metadata": {
    "id": "P9cLls-xgMOF"
   }
  },
  {
   "cell_type": "markdown",
   "source": "Để chẩn đoán sự cố, chúng tôi có thể sử dụng nhiều kỹ thuật khác nhau nhưng hãy trực quan hóa dữ liệu đào tạo của chúng tôi ở dạng 2D để hiểu rõ hơn mức độ phân tách giữa các đánh giá tích cực và tiêu cực.",
   "metadata": {
    "id": "PIkgruvLgMOG"
   }
  },
  {
   "cell_type": "code",
   "source": [
    "# visualizing TFIDF train data with TSNE\n",
    "\n",
    "title = 'TF-IDF'\n",
    "tsne_visualizer(data=X_train_tfidf_pca, label=y_train, title=title)"
   ],
   "metadata": {
    "execution": {
     "iopub.status.busy": "2024-02-11T06:14:29.748787Z",
     "iopub.execute_input": "2024-02-11T06:14:29.74942Z",
     "iopub.status.idle": "2024-02-11T06:16:13.083827Z",
     "shell.execute_reply.started": "2024-02-11T06:14:29.749373Z",
     "shell.execute_reply": "2024-02-11T06:16:13.081872Z"
    },
    "trusted": true,
    "id": "LwKbFi0hgMOG"
   },
   "outputs": [],
   "execution_count": null
  },
  {
   "cell_type": "markdown",
   "source": [
    "## Chuyển đổi văn bản sang vectơ với Word2Vec\n",
    "***Word2Vec:*** Word2Vec là một thuật toán được sử dụng rộng rãi trong xử lý ngôn ngữ tự nhiên (NLP) để tìm hiểu cách nhúng từ, là những cách biểu thị dày đặc của các từ bằng số. Nó dựa trên ý tưởng rằng những từ có nghĩa tương tự nhau thường xuất hiện trong những ngữ cảnh tương tự nhau. Word2Vec nắm bắt các mối quan hệ này bằng cách học cách dự đoán một từ dựa trên các từ lân cận của nó hoặc dự đoán các từ lân cận dựa trên một từ nhất định. Có hai cách chúng tôi sẽ sử dụng Word2Vec để chuyển đổi câu của mình\n",
    "\n",
    "1. ***Word2Vec trung bình:*** Trong trường hợp Word2Vec trung bình, mục tiêu là tạo biểu diễn vectơ có độ dài cố định cho tài liệu bằng cách lấy trung bình các vectơ từ của tất cả các từ trong tài liệu.\n",
    "\n",
    "2. ***Word2Vec có trọng số TF-IDF:*** Word2Vec có trọng số TF-IDF kết hợp các khái niệm của TF-IDF và Word2Vec để tạo các phần nhúng từ nắm bắt cả ý nghĩa ngữ nghĩa của các từ và tầm quan trọng của chúng trong kho tài liệu. Nó cải tiến mô hình Word2Vec truyền thống bằng cách kết hợp sơ đồ trọng số tần số tài liệu nghịch đảo tần số (TF-IDF)."
   ],
   "metadata": {
    "id": "Ea5genGZgMOG"
   }
  },
  {
   "cell_type": "markdown",
   "source": [
    "## (C) Average Word2Vec"
   ],
   "metadata": {
    "id": "loSBoXdDgMOG"
   }
  },
  {
   "cell_type": "code",
   "source": [
    "from gensim.models import Word2Vec\n",
    "from gensim.models import KeyedVectors"
   ],
   "metadata": {
    "execution": {
     "iopub.status.busy": "2024-02-11T06:16:13.085466Z",
     "iopub.execute_input": "2024-02-11T06:16:13.085904Z",
     "iopub.status.idle": "2024-02-11T06:16:13.367611Z",
     "shell.execute_reply.started": "2024-02-11T06:16:13.085871Z",
     "shell.execute_reply": "2024-02-11T06:16:13.366409Z"
    },
    "trusted": true,
    "id": "nCM5UH71gMOG",
    "ExecuteTime": {
     "end_time": "2024-05-11T08:03:22.986629Z",
     "start_time": "2024-05-11T08:03:22.688839Z"
    }
   },
   "outputs": [
    {
     "ename": "ImportError",
     "evalue": "cannot import name 'triu' from 'scipy.linalg.special_matrices' (C:\\Users\\Administrator\\final\\Lib\\site-packages\\scipy\\linalg\\special_matrices.py)",
     "output_type": "error",
     "traceback": [
      "\u001B[1;31m---------------------------------------------------------------------------\u001B[0m",
      "\u001B[1;31mImportError\u001B[0m                               Traceback (most recent call last)",
      "Cell \u001B[1;32mIn[54], line 1\u001B[0m\n\u001B[1;32m----> 1\u001B[0m \u001B[38;5;28;01mfrom\u001B[39;00m \u001B[38;5;21;01mgensim\u001B[39;00m\u001B[38;5;21;01m.\u001B[39;00m\u001B[38;5;21;01mmodels\u001B[39;00m \u001B[38;5;28;01mimport\u001B[39;00m Word2Vec\n\u001B[0;32m      2\u001B[0m \u001B[38;5;28;01mfrom\u001B[39;00m \u001B[38;5;21;01mgensim\u001B[39;00m\u001B[38;5;21;01m.\u001B[39;00m\u001B[38;5;21;01mmodels\u001B[39;00m \u001B[38;5;28;01mimport\u001B[39;00m KeyedVectors\n",
      "File \u001B[1;32m~\\final\\Lib\\site-packages\\gensim\\__init__.py:5\u001B[0m\n\u001B[0;32m      1\u001B[0m \u001B[38;5;124;03m\"\"\"This package contains interfaces and functionality to compute pair-wise document similarities within a corpus\u001B[39;00m\n\u001B[0;32m      2\u001B[0m \u001B[38;5;124;03mof documents.\u001B[39;00m\n\u001B[0;32m      3\u001B[0m \u001B[38;5;124;03m\"\"\"\u001B[39;00m\n\u001B[1;32m----> 5\u001B[0m \u001B[38;5;28;01mfrom\u001B[39;00m \u001B[38;5;21;01mgensim\u001B[39;00m \u001B[38;5;28;01mimport\u001B[39;00m parsing, corpora, matutils, interfaces, models, similarities, summarization, utils  \u001B[38;5;66;03m# noqa:F401\u001B[39;00m\n\u001B[0;32m      6\u001B[0m \u001B[38;5;28;01mimport\u001B[39;00m \u001B[38;5;21;01mlogging\u001B[39;00m\n\u001B[0;32m      8\u001B[0m __version__ \u001B[38;5;241m=\u001B[39m \u001B[38;5;124m'\u001B[39m\u001B[38;5;124m3.8.0\u001B[39m\u001B[38;5;124m'\u001B[39m\n",
      "File \u001B[1;32m~\\final\\Lib\\site-packages\\gensim\\corpora\\__init__.py:6\u001B[0m\n\u001B[0;32m      1\u001B[0m \u001B[38;5;124;03m\"\"\"\u001B[39;00m\n\u001B[0;32m      2\u001B[0m \u001B[38;5;124;03mThis package contains implementations of various streaming corpus I/O format.\u001B[39;00m\n\u001B[0;32m      3\u001B[0m \u001B[38;5;124;03m\"\"\"\u001B[39;00m\n\u001B[0;32m      5\u001B[0m \u001B[38;5;66;03m# bring corpus classes directly into package namespace, to save some typing\u001B[39;00m\n\u001B[1;32m----> 6\u001B[0m \u001B[38;5;28;01mfrom\u001B[39;00m \u001B[38;5;21;01m.\u001B[39;00m\u001B[38;5;21;01mindexedcorpus\u001B[39;00m \u001B[38;5;28;01mimport\u001B[39;00m IndexedCorpus  \u001B[38;5;66;03m# noqa:F401 must appear before the other classes\u001B[39;00m\n\u001B[0;32m      8\u001B[0m \u001B[38;5;28;01mfrom\u001B[39;00m \u001B[38;5;21;01m.\u001B[39;00m\u001B[38;5;21;01mmmcorpus\u001B[39;00m \u001B[38;5;28;01mimport\u001B[39;00m MmCorpus  \u001B[38;5;66;03m# noqa:F401\u001B[39;00m\n\u001B[0;32m      9\u001B[0m \u001B[38;5;28;01mfrom\u001B[39;00m \u001B[38;5;21;01m.\u001B[39;00m\u001B[38;5;21;01mbleicorpus\u001B[39;00m \u001B[38;5;28;01mimport\u001B[39;00m BleiCorpus  \u001B[38;5;66;03m# noqa:F401\u001B[39;00m\n",
      "File \u001B[1;32m~\\final\\Lib\\site-packages\\gensim\\corpora\\indexedcorpus.py:15\u001B[0m\n\u001B[0;32m     11\u001B[0m \u001B[38;5;28;01mimport\u001B[39;00m \u001B[38;5;21;01msix\u001B[39;00m\n\u001B[0;32m     13\u001B[0m \u001B[38;5;28;01mimport\u001B[39;00m \u001B[38;5;21;01mnumpy\u001B[39;00m\n\u001B[1;32m---> 15\u001B[0m \u001B[38;5;28;01mfrom\u001B[39;00m \u001B[38;5;21;01mgensim\u001B[39;00m \u001B[38;5;28;01mimport\u001B[39;00m interfaces, utils\n\u001B[0;32m     17\u001B[0m logger \u001B[38;5;241m=\u001B[39m logging\u001B[38;5;241m.\u001B[39mgetLogger(\u001B[38;5;18m__name__\u001B[39m)\n\u001B[0;32m     20\u001B[0m \u001B[38;5;28;01mclass\u001B[39;00m \u001B[38;5;21;01mIndexedCorpus\u001B[39;00m(interfaces\u001B[38;5;241m.\u001B[39mCorpusABC):\n",
      "File \u001B[1;32m~\\final\\Lib\\site-packages\\gensim\\interfaces.py:21\u001B[0m\n\u001B[0;32m     17\u001B[0m \u001B[38;5;28;01mfrom\u001B[39;00m \u001B[38;5;21;01m__future__\u001B[39;00m \u001B[38;5;28;01mimport\u001B[39;00m with_statement\n\u001B[0;32m     19\u001B[0m \u001B[38;5;28;01mimport\u001B[39;00m \u001B[38;5;21;01mlogging\u001B[39;00m\n\u001B[1;32m---> 21\u001B[0m \u001B[38;5;28;01mfrom\u001B[39;00m \u001B[38;5;21;01mgensim\u001B[39;00m \u001B[38;5;28;01mimport\u001B[39;00m utils, matutils\n\u001B[0;32m     22\u001B[0m \u001B[38;5;28;01mfrom\u001B[39;00m \u001B[38;5;21;01msix\u001B[39;00m\u001B[38;5;21;01m.\u001B[39;00m\u001B[38;5;21;01mmoves\u001B[39;00m \u001B[38;5;28;01mimport\u001B[39;00m \u001B[38;5;28mrange\u001B[39m\n\u001B[0;32m     25\u001B[0m logger \u001B[38;5;241m=\u001B[39m logging\u001B[38;5;241m.\u001B[39mgetLogger(\u001B[38;5;18m__name__\u001B[39m)\n",
      "File \u001B[1;32m~\\final\\Lib\\site-packages\\gensim\\matutils.py:24\u001B[0m\n\u001B[0;32m     22\u001B[0m \u001B[38;5;28;01mimport\u001B[39;00m \u001B[38;5;21;01mscipy\u001B[39;00m\u001B[38;5;21;01m.\u001B[39;00m\u001B[38;5;21;01mlinalg\u001B[39;00m\n\u001B[0;32m     23\u001B[0m \u001B[38;5;28;01mfrom\u001B[39;00m \u001B[38;5;21;01mscipy\u001B[39;00m\u001B[38;5;21;01m.\u001B[39;00m\u001B[38;5;21;01mlinalg\u001B[39;00m\u001B[38;5;21;01m.\u001B[39;00m\u001B[38;5;21;01mlapack\u001B[39;00m \u001B[38;5;28;01mimport\u001B[39;00m get_lapack_funcs\n\u001B[1;32m---> 24\u001B[0m \u001B[38;5;28;01mfrom\u001B[39;00m \u001B[38;5;21;01mscipy\u001B[39;00m\u001B[38;5;21;01m.\u001B[39;00m\u001B[38;5;21;01mlinalg\u001B[39;00m\u001B[38;5;21;01m.\u001B[39;00m\u001B[38;5;21;01mspecial_matrices\u001B[39;00m \u001B[38;5;28;01mimport\u001B[39;00m triu\n\u001B[0;32m     25\u001B[0m \u001B[38;5;28;01mfrom\u001B[39;00m \u001B[38;5;21;01mscipy\u001B[39;00m\u001B[38;5;21;01m.\u001B[39;00m\u001B[38;5;21;01mspecial\u001B[39;00m \u001B[38;5;28;01mimport\u001B[39;00m psi  \u001B[38;5;66;03m# gamma function utils\u001B[39;00m\n\u001B[0;32m     27\u001B[0m \u001B[38;5;28;01mfrom\u001B[39;00m \u001B[38;5;21;01msix\u001B[39;00m \u001B[38;5;28;01mimport\u001B[39;00m iteritems, itervalues, string_types\n",
      "\u001B[1;31mImportError\u001B[0m: cannot import name 'triu' from 'scipy.linalg.special_matrices' (C:\\Users\\Administrator\\final\\Lib\\site-packages\\scipy\\linalg\\special_matrices.py)"
     ]
    }
   ],
   "execution_count": 54
  },
  {
   "cell_type": "code",
   "source": [
    "# we have already cleaned our reviews for Word2Vec\n",
    "# now generate the data-structure suitable for the input of Word2Vec model\n",
    "# required data structure => [[this], [is], [a], [review]]\n",
    "\n",
    "def datastructure_generator_w2v(df):\n",
    "    list_of_reviews = []\n",
    "    for sent in tqdm(df['CleanedText_w2v'].values):\n",
    "        list_of_reviews.append(sent.split())\n",
    "    return list_of_reviews"
   ],
   "metadata": {
    "execution": {
     "iopub.status.busy": "2024-02-11T06:16:13.369168Z",
     "iopub.execute_input": "2024-02-11T06:16:13.369596Z",
     "iopub.status.idle": "2024-02-11T06:16:13.376019Z",
     "shell.execute_reply.started": "2024-02-11T06:16:13.369565Z",
     "shell.execute_reply": "2024-02-11T06:16:13.374798Z"
    },
    "trusted": true,
    "id": "pHysOj_QgMOG",
    "ExecuteTime": {
     "end_time": "2024-05-11T08:03:28.500497Z",
     "start_time": "2024-05-11T08:03:28.496018Z"
    }
   },
   "outputs": [],
   "execution_count": 55
  },
  {
   "cell_type": "code",
   "source": [
    "# constructing required structures\n",
    "\n",
    "list_of_sent =  datastructure_generator_w2v(final)\n",
    "list_of_sent_train =  datastructure_generator_w2v(df_train)\n",
    "list_of_sent_cv = datastructure_generator_w2v(df_cv)\n",
    "list_of_sent_test = datastructure_generator_w2v(df_test)\n",
    "avg_w2v_data_dict = {'train':list_of_sent_train, 'cv':list_of_sent_cv, 'test':list_of_sent_test}\n",
    "\n",
    "list_of_sent_idf_train = df_train['CleanedText_w2v']\n",
    "list_of_sent_idf_cv = df_cv['CleanedText_w2v']\n",
    "list_of_sent_idf_test = df_test['CleanedText_w2v']\n",
    "\n",
    "print('Done..!!')"
   ],
   "metadata": {
    "execution": {
     "iopub.status.busy": "2024-02-11T06:16:13.378049Z",
     "iopub.execute_input": "2024-02-11T06:16:13.378505Z",
     "iopub.status.idle": "2024-02-11T06:16:19.487718Z",
     "shell.execute_reply.started": "2024-02-11T06:16:13.37847Z",
     "shell.execute_reply": "2024-02-11T06:16:19.486931Z"
    },
    "trusted": true,
    "id": "RaLm3t19gMOG",
    "ExecuteTime": {
     "end_time": "2024-05-11T08:03:34.143519Z",
     "start_time": "2024-05-11T08:03:28.690955Z"
    }
   },
   "outputs": [
    {
     "name": "stderr",
     "output_type": "stream",
     "text": [
      "100%|██████████| 364171/364171 [00:04<00:00, 75378.82it/s] \n",
      "100%|██████████| 3920/3920 [00:00<00:00, 91406.61it/s]\n",
      "100%|██████████| 980/980 [00:00<00:00, 140383.13it/s]\n",
      "100%|██████████| 2100/2100 [00:00<00:00, 161980.96it/s]"
     ]
    },
    {
     "name": "stdout",
     "output_type": "stream",
     "text": [
      "Done..!!\n"
     ]
    },
    {
     "name": "stderr",
     "output_type": "stream",
     "text": [
      "\n"
     ]
    }
   ],
   "execution_count": 56
  },
  {
   "cell_type": "code",
   "source": [
    "# training Word2Vec model on our data\n",
    "# this may take time to execute\n",
    "model_w2v=Word2Vec(list_of_sent,min_count=5,vector_size=50, workers=2)"
   ],
   "metadata": {
    "execution": {
     "iopub.status.busy": "2024-02-11T06:16:19.489478Z",
     "iopub.execute_input": "2024-02-11T06:16:19.489836Z",
     "iopub.status.idle": "2024-02-11T06:18:43.999179Z",
     "shell.execute_reply.started": "2024-02-11T06:16:19.489807Z",
     "shell.execute_reply": "2024-02-11T06:18:43.99797Z"
    },
    "trusted": true,
    "id": "2qpNRgJEgMOG",
    "ExecuteTime": {
     "end_time": "2024-05-11T08:03:35.627933Z",
     "start_time": "2024-05-11T08:03:35.613970Z"
    }
   },
   "outputs": [
    {
     "ename": "NameError",
     "evalue": "name 'Word2Vec' is not defined",
     "output_type": "error",
     "traceback": [
      "\u001B[1;31m---------------------------------------------------------------------------\u001B[0m",
      "\u001B[1;31mNameError\u001B[0m                                 Traceback (most recent call last)",
      "Cell \u001B[1;32mIn[57], line 3\u001B[0m\n\u001B[0;32m      1\u001B[0m \u001B[38;5;66;03m# training Word2Vec model on our data\u001B[39;00m\n\u001B[0;32m      2\u001B[0m \u001B[38;5;66;03m# this may take time to execute\u001B[39;00m\n\u001B[1;32m----> 3\u001B[0m model_w2v\u001B[38;5;241m=\u001B[39m\u001B[43mWord2Vec\u001B[49m(list_of_sent,min_count\u001B[38;5;241m=\u001B[39m\u001B[38;5;241m5\u001B[39m,vector_size\u001B[38;5;241m=\u001B[39m\u001B[38;5;241m50\u001B[39m, workers\u001B[38;5;241m=\u001B[39m\u001B[38;5;241m2\u001B[39m)\n",
      "\u001B[1;31mNameError\u001B[0m: name 'Word2Vec' is not defined"
     ]
    }
   ],
   "execution_count": 57
  },
  {
   "cell_type": "code",
   "source": [
    "# construct avg w2v\n",
    "\n",
    "vocabulary_w2v = model_w2v.wv.key_to_index.keys()\n",
    "avg_w2v_data_dict_final = {'train':None, 'cv':None, 'test':None}\n",
    "\n",
    "for key,item in avg_w2v_data_dict.items():\n",
    "    print(key)\n",
    "    review_vectors_w2v = []\n",
    "\n",
    "    for sentence in tqdm(item):\n",
    "        word_count = 0\n",
    "        sent_vec = np.zeros(shape=50)\n",
    "        for word in sentence:\n",
    "            if word in vocabulary_w2v:\n",
    "                sent_vec += model_w2v.wv[word]\n",
    "                word_count += 1\n",
    "\n",
    "        if word_count != 0:\n",
    "            sent_vec = sent_vec/word_count\n",
    "        review_vectors_w2v.append(sent_vec)\n",
    "    review_vectors_w2v = np.array(review_vectors_w2v)\n",
    "    print(review_vectors_w2v.shape)\n",
    "    avg_w2v_data_dict_final[key] = review_vectors_w2v"
   ],
   "metadata": {
    "execution": {
     "iopub.status.busy": "2024-02-11T06:18:44.009218Z",
     "iopub.execute_input": "2024-02-11T06:18:44.009674Z",
     "iopub.status.idle": "2024-02-11T06:18:46.36598Z",
     "shell.execute_reply.started": "2024-02-11T06:18:44.00964Z",
     "shell.execute_reply": "2024-02-11T06:18:46.364846Z"
    },
    "trusted": true,
    "id": "iWMl8-5RgMOG",
    "ExecuteTime": {
     "end_time": "2024-05-11T08:03:37.138104Z",
     "start_time": "2024-05-11T08:03:37.106012Z"
    }
   },
   "outputs": [
    {
     "ename": "NameError",
     "evalue": "name 'model_w2v' is not defined",
     "output_type": "error",
     "traceback": [
      "\u001B[1;31m---------------------------------------------------------------------------\u001B[0m",
      "\u001B[1;31mNameError\u001B[0m                                 Traceback (most recent call last)",
      "Cell \u001B[1;32mIn[58], line 3\u001B[0m\n\u001B[0;32m      1\u001B[0m \u001B[38;5;66;03m# construct avg w2v\u001B[39;00m\n\u001B[1;32m----> 3\u001B[0m vocabulary_w2v \u001B[38;5;241m=\u001B[39m \u001B[43mmodel_w2v\u001B[49m\u001B[38;5;241m.\u001B[39mwv\u001B[38;5;241m.\u001B[39mkey_to_index\u001B[38;5;241m.\u001B[39mkeys()\n\u001B[0;32m      4\u001B[0m avg_w2v_data_dict_final \u001B[38;5;241m=\u001B[39m {\u001B[38;5;124m'\u001B[39m\u001B[38;5;124mtrain\u001B[39m\u001B[38;5;124m'\u001B[39m:\u001B[38;5;28;01mNone\u001B[39;00m, \u001B[38;5;124m'\u001B[39m\u001B[38;5;124mcv\u001B[39m\u001B[38;5;124m'\u001B[39m:\u001B[38;5;28;01mNone\u001B[39;00m, \u001B[38;5;124m'\u001B[39m\u001B[38;5;124mtest\u001B[39m\u001B[38;5;124m'\u001B[39m:\u001B[38;5;28;01mNone\u001B[39;00m}\n\u001B[0;32m      6\u001B[0m \u001B[38;5;28;01mfor\u001B[39;00m key,item \u001B[38;5;129;01min\u001B[39;00m avg_w2v_data_dict\u001B[38;5;241m.\u001B[39mitems():\n",
      "\u001B[1;31mNameError\u001B[0m: name 'model_w2v' is not defined"
     ]
    }
   ],
   "execution_count": 58
  },
  {
   "cell_type": "code",
   "source": [
    "# sanity check\n",
    "for key,item in avg_w2v_data_dict_final.items():\n",
    "    print(key)\n",
    "    print(item.shape)"
   ],
   "metadata": {
    "execution": {
     "iopub.status.busy": "2024-02-11T06:18:46.368273Z",
     "iopub.execute_input": "2024-02-11T06:18:46.368629Z",
     "iopub.status.idle": "2024-02-11T06:18:46.375027Z",
     "shell.execute_reply.started": "2024-02-11T06:18:46.368602Z",
     "shell.execute_reply": "2024-02-11T06:18:46.373826Z"
    },
    "trusted": true,
    "id": "zkVfHXL8gMOG",
    "ExecuteTime": {
     "end_time": "2024-05-11T08:03:39.453872Z",
     "start_time": "2024-05-11T08:03:39.438391Z"
    }
   },
   "outputs": [
    {
     "ename": "NameError",
     "evalue": "name 'avg_w2v_data_dict_final' is not defined",
     "output_type": "error",
     "traceback": [
      "\u001B[1;31m---------------------------------------------------------------------------\u001B[0m",
      "\u001B[1;31mNameError\u001B[0m                                 Traceback (most recent call last)",
      "Cell \u001B[1;32mIn[59], line 2\u001B[0m\n\u001B[0;32m      1\u001B[0m \u001B[38;5;66;03m# sanity check\u001B[39;00m\n\u001B[1;32m----> 2\u001B[0m \u001B[38;5;28;01mfor\u001B[39;00m key,item \u001B[38;5;129;01min\u001B[39;00m \u001B[43mavg_w2v_data_dict_final\u001B[49m\u001B[38;5;241m.\u001B[39mitems():\n\u001B[0;32m      3\u001B[0m     \u001B[38;5;28mprint\u001B[39m(key)\n\u001B[0;32m      4\u001B[0m     \u001B[38;5;28mprint\u001B[39m(item\u001B[38;5;241m.\u001B[39mshape)\n",
      "\u001B[1;31mNameError\u001B[0m: name 'avg_w2v_data_dict_final' is not defined"
     ]
    }
   ],
   "execution_count": 59
  },
  {
   "cell_type": "code",
   "source": [
    "# creating reference for ease of access\n",
    "avg_w2v_data_train = avg_w2v_data_dict_final['train']\n",
    "avg_w2v_data_cv = avg_w2v_data_dict_final['cv']\n",
    "avg_w2v_data_test = avg_w2v_data_dict_final['test']"
   ],
   "metadata": {
    "execution": {
     "iopub.status.busy": "2024-02-11T06:18:46.376976Z",
     "iopub.execute_input": "2024-02-11T06:18:46.377477Z",
     "iopub.status.idle": "2024-02-11T06:18:46.38753Z",
     "shell.execute_reply.started": "2024-02-11T06:18:46.377434Z",
     "shell.execute_reply": "2024-02-11T06:18:46.386583Z"
    },
    "trusted": true,
    "id": "2ld_PvXTgMOG",
    "ExecuteTime": {
     "end_time": "2024-05-11T08:03:41.968519Z",
     "start_time": "2024-05-11T08:03:41.950235Z"
    }
   },
   "outputs": [
    {
     "ename": "NameError",
     "evalue": "name 'avg_w2v_data_dict_final' is not defined",
     "output_type": "error",
     "traceback": [
      "\u001B[1;31m---------------------------------------------------------------------------\u001B[0m",
      "\u001B[1;31mNameError\u001B[0m                                 Traceback (most recent call last)",
      "Cell \u001B[1;32mIn[60], line 2\u001B[0m\n\u001B[0;32m      1\u001B[0m \u001B[38;5;66;03m# creating reference for ease of access\u001B[39;00m\n\u001B[1;32m----> 2\u001B[0m avg_w2v_data_train \u001B[38;5;241m=\u001B[39m \u001B[43mavg_w2v_data_dict_final\u001B[49m[\u001B[38;5;124m'\u001B[39m\u001B[38;5;124mtrain\u001B[39m\u001B[38;5;124m'\u001B[39m]\n\u001B[0;32m      3\u001B[0m avg_w2v_data_cv \u001B[38;5;241m=\u001B[39m avg_w2v_data_dict_final[\u001B[38;5;124m'\u001B[39m\u001B[38;5;124mcv\u001B[39m\u001B[38;5;124m'\u001B[39m]\n\u001B[0;32m      4\u001B[0m avg_w2v_data_test \u001B[38;5;241m=\u001B[39m avg_w2v_data_dict_final[\u001B[38;5;124m'\u001B[39m\u001B[38;5;124mtest\u001B[39m\u001B[38;5;124m'\u001B[39m]\n",
      "\u001B[1;31mNameError\u001B[0m: name 'avg_w2v_data_dict_final' is not defined"
     ]
    }
   ],
   "execution_count": 60
  },
  {
   "cell_type": "code",
   "source": [
    "## OVERSAMPLING\n",
    "\n",
    "# plotting class imbalance before oversampling\n",
    "plt.figure(1, figsize=(17,6))\n",
    "plt.subplot(1,2,1)\n",
    "plt.title('class distribution before oversampling')\n",
    "sns.countplot(x=df_train['Score'])\n",
    "print('Shape of data before oversampling:', avg_w2v_data_train.shape, '\\n\\n')\n",
    "\n",
    "# performing oversampling using smote\n",
    "# oversampling our train data\n",
    "ros = RandomOverSampler()\n",
    "avg_w2v_data_train, Y_avg_w2v_data_train = ros.fit_resample(avg_w2v_data_train,df_train['Score'])\n",
    "\n",
    "# plotting class dist after oversampling\n",
    "plt.subplot(1,2,2)\n",
    "plt.title('class distribution after oversampling')\n",
    "sns.countplot(x=Y_avg_w2v_data_train)\n",
    "plt.show()\n",
    "print('Shape of data after oversampling:', avg_w2v_data_train.shape)\n"
   ],
   "metadata": {
    "execution": {
     "iopub.status.busy": "2024-02-11T06:18:46.388723Z",
     "iopub.execute_input": "2024-02-11T06:18:46.38911Z",
     "iopub.status.idle": "2024-02-11T06:18:46.92104Z",
     "shell.execute_reply.started": "2024-02-11T06:18:46.389077Z",
     "shell.execute_reply": "2024-02-11T06:18:46.919945Z"
    },
    "trusted": true,
    "id": "jZ8pgQmXgMOG",
    "ExecuteTime": {
     "end_time": "2024-05-11T08:03:45.823796Z",
     "start_time": "2024-05-11T08:03:43.324412Z"
    }
   },
   "outputs": [
    {
     "ename": "NameError",
     "evalue": "name 'avg_w2v_data_train' is not defined",
     "output_type": "error",
     "traceback": [
      "\u001B[1;31m---------------------------------------------------------------------------\u001B[0m",
      "\u001B[1;31mNameError\u001B[0m                                 Traceback (most recent call last)",
      "Cell \u001B[1;32mIn[61], line 8\u001B[0m\n\u001B[0;32m      6\u001B[0m plt\u001B[38;5;241m.\u001B[39mtitle(\u001B[38;5;124m'\u001B[39m\u001B[38;5;124mclass distribution before oversampling\u001B[39m\u001B[38;5;124m'\u001B[39m)\n\u001B[0;32m      7\u001B[0m sns\u001B[38;5;241m.\u001B[39mcountplot(x\u001B[38;5;241m=\u001B[39mdf_train[\u001B[38;5;124m'\u001B[39m\u001B[38;5;124mScore\u001B[39m\u001B[38;5;124m'\u001B[39m])\n\u001B[1;32m----> 8\u001B[0m \u001B[38;5;28mprint\u001B[39m(\u001B[38;5;124m'\u001B[39m\u001B[38;5;124mShape of data before oversampling:\u001B[39m\u001B[38;5;124m'\u001B[39m, \u001B[43mavg_w2v_data_train\u001B[49m\u001B[38;5;241m.\u001B[39mshape, \u001B[38;5;124m'\u001B[39m\u001B[38;5;130;01m\\n\u001B[39;00m\u001B[38;5;130;01m\\n\u001B[39;00m\u001B[38;5;124m'\u001B[39m)\n\u001B[0;32m     10\u001B[0m \u001B[38;5;66;03m# performing oversampling using smote\u001B[39;00m\n\u001B[0;32m     11\u001B[0m \u001B[38;5;66;03m# oversampling our train data\u001B[39;00m\n\u001B[0;32m     12\u001B[0m ros \u001B[38;5;241m=\u001B[39m RandomOverSampler()\n",
      "\u001B[1;31mNameError\u001B[0m: name 'avg_w2v_data_train' is not defined"
     ]
    },
    {
     "data": {
      "text/plain": [
       "<Figure size 1700x600 with 1 Axes>"
      ],
      "image/png": "[encoded data removed]"
     },
     "metadata": {},
     "output_type": "display_data"
    }
   ],
   "execution_count": 61
  },
  {
   "cell_type": "code",
   "source": [
    "# standardization\n",
    "scaler_avg_w2v = StandardScaler()\n",
    "X_train_avg_w2v_standardised = scaler_avg_w2v.fit_transform(avg_w2v_data_train)\n",
    "X_cv_avg_w2v_standardised = scaler_avg_w2v.transform(avg_w2v_data_cv)\n",
    "X_test_avg_w2v_standardised = scaler_avg_w2v.transform(avg_w2v_data_test)\n",
    "\n",
    "y_train = Y_avg_w2v_data_train\n",
    "y_cv = df_cv['Score'].values\n",
    "y_test = df_test['Score'].values"
   ],
   "metadata": {
    "execution": {
     "iopub.status.busy": "2024-02-11T06:18:46.922728Z",
     "iopub.execute_input": "2024-02-11T06:18:46.923063Z",
     "iopub.status.idle": "2024-02-11T06:18:46.93605Z",
     "shell.execute_reply.started": "2024-02-11T06:18:46.923034Z",
     "shell.execute_reply": "2024-02-11T06:18:46.935064Z"
    },
    "trusted": true,
    "id": "U4KYbZzCgMOG",
    "ExecuteTime": {
     "end_time": "2024-05-11T08:03:45.824728Z",
     "start_time": "2024-05-11T08:03:45.824728Z"
    }
   },
   "outputs": [],
   "execution_count": null
  },
  {
   "cell_type": "code",
   "source": [
    "# Using KNN for classification\n",
    "accuracy = []\n",
    "f1_positive = []\n",
    "f1_negative = []\n",
    "K_values = list(range(1,30,2))\n",
    "\n",
    "for k in tqdm(K_values):\n",
    "    knn = KNeighborsClassifier(n_neighbors=k)\n",
    "    knn.fit(X_train_avg_w2v_standardised, y_train)\n",
    "    pred = knn.predict(X_cv_avg_w2v_standardised)\n",
    "    f1_positive.append(f1_score(y_cv, pred, pos_label=\"positive\"))\n",
    "    f1_negative.append(f1_score(y_cv, pred, pos_label=\"negative\"))\n",
    "    accuracy.append(accuracy_score(y_cv, pred))\n",
    "\n",
    "positive_ind = f1_positive.index(max(f1_positive))\n",
    "negative_ind = f1_negative.index(max(f1_negative))\n",
    "acc_ind = accuracy.index(max(accuracy))\n",
    "print('The maximum accuracy is {a} with K value of {b}'.format(a=max(accuracy), b=K_values[acc_ind]))\n",
    "print('The maximum F1 score on CV data for positive labels is {a} with K value of {b}'.format(a=max(f1_positive), b=K_values[positive_ind]))\n",
    "print('The maximum F1 score on CV data for negative labels is {a} with K value of {b}'.format(a=max(f1_negative), b=K_values[negative_ind]))\n",
    "\n",
    "# plotting accuracy f1-positive and f1-negative for K values\n",
    "plt.figure(1, figsize=(22,5))\n",
    "plt.subplot(1,3,1)\n",
    "plt.plot(K_values, accuracy, 'o--')\n",
    "plt.title('Accuracy')\n",
    "plt.xlabel('K_Values')\n",
    "\n",
    "plt.subplot(1,3,2)\n",
    "plt.plot(K_values, f1_positive, 'o--')\n",
    "plt.title('F1_Positive')\n",
    "plt.xlabel('K_Values')\n",
    "\n",
    "plt.subplot(1,3,3)\n",
    "plt.plot(K_values, f1_negative, 'o--')\n",
    "plt.title('F1_Negative')\n",
    "plt.xlabel('K_Values')\n",
    "\n",
    "# knn on our test data for reporting\n",
    "# plase note that we can fit it on best value of our negativef1 score as well\n",
    "# in order to boost the precision and recall for our negative reviews\n",
    "knn = KNeighborsClassifier(n_neighbors=K_values[acc_ind])\n",
    "knn.fit(X_train_avg_w2v_standardised, y_train)\n",
    "pred = knn.predict(X_test_avg_w2v_standardised)\n",
    "\n",
    "# generating relevant martices\n",
    "confusion_mat = pd.DataFrame(confusion_matrix(y_test, pred, labels=['positive', 'negative']), columns=['pred_positive', 'pred_negative'], index=['true_positive', 'true_negative'])\n",
    "print('\\nConfusion matrix:')\n",
    "print(confusion_mat)\n",
    "print('\\nClassification Report:')\n",
    "print(classification_report(y_test, pred))\n",
    "print('\\nAccuracy on Test Data:', accuracy_score(y_test, pred))"
   ],
   "metadata": {
    "execution": {
     "iopub.status.busy": "2024-02-11T06:18:46.937488Z",
     "iopub.execute_input": "2024-02-11T06:18:46.938039Z",
     "iopub.status.idle": "2024-02-11T06:18:50.215727Z",
     "shell.execute_reply.started": "2024-02-11T06:18:46.938007Z",
     "shell.execute_reply": "2024-02-11T06:18:50.214686Z"
    },
    "trusted": true,
    "id": "uqTy24sZgMOG",
    "ExecuteTime": {
     "end_time": "2024-05-11T08:03:49.508955Z",
     "start_time": "2024-05-11T08:03:49.430394Z"
    }
   },
   "outputs": [
    {
     "name": "stderr",
     "output_type": "stream",
     "text": [
      "  0%|          | 0/15 [00:00<?, ?it/s]\n"
     ]
    },
    {
     "ename": "NameError",
     "evalue": "name 'X_train_avg_w2v_standardised' is not defined",
     "output_type": "error",
     "traceback": [
      "\u001B[1;31m---------------------------------------------------------------------------\u001B[0m",
      "\u001B[1;31mNameError\u001B[0m                                 Traceback (most recent call last)",
      "Cell \u001B[1;32mIn[62], line 9\u001B[0m\n\u001B[0;32m      7\u001B[0m \u001B[38;5;28;01mfor\u001B[39;00m k \u001B[38;5;129;01min\u001B[39;00m tqdm(K_values):\n\u001B[0;32m      8\u001B[0m     knn \u001B[38;5;241m=\u001B[39m KNeighborsClassifier(n_neighbors\u001B[38;5;241m=\u001B[39mk)\n\u001B[1;32m----> 9\u001B[0m     knn\u001B[38;5;241m.\u001B[39mfit(\u001B[43mX_train_avg_w2v_standardised\u001B[49m, y_train)\n\u001B[0;32m     10\u001B[0m     pred \u001B[38;5;241m=\u001B[39m knn\u001B[38;5;241m.\u001B[39mpredict(X_cv_avg_w2v_standardised)\n\u001B[0;32m     11\u001B[0m     f1_positive\u001B[38;5;241m.\u001B[39mappend(f1_score(y_cv, pred, pos_label\u001B[38;5;241m=\u001B[39m\u001B[38;5;124m\"\u001B[39m\u001B[38;5;124mpositive\u001B[39m\u001B[38;5;124m\"\u001B[39m))\n",
      "\u001B[1;31mNameError\u001B[0m: name 'X_train_avg_w2v_standardised' is not defined"
     ]
    }
   ],
   "execution_count": 62
  },
  {
   "cell_type": "markdown",
   "source": [
    "### ***Kết quả Word2Vector trung bình:***\n",
    "\n",
    "Mô hình phân loại đạt được độ chính xác 88% trên dữ liệu thử nghiệm, cho thấy nó đã phân loại chính xác 88% trường hợp.\n",
    "\n",
    "Phân tích ma trận nhầm lẫn, chúng tôi nhận thấy rằng trong số các trường hợp tích cực thực tế, mô hình đã dự đoán chính xác 1.762 trường hợp là dương tính (dương tính thực sự), nhưng nó đã phân loại sai 98 trường hợp là âm tính (âm tính giả). Tương tự, đối với các trường hợp âm tính thực tế, mô hình dự đoán chính xác 78 trường hợp là âm tính (âm tính thực), trong khi phân loại sai 162 trường hợp là dương tính (dương tính giả).\n",
    "\n",
    "Độ chính xác của lớp dương tính là 92%, cho thấy rằng trong số tất cả các trường hợp được dự đoán là dương tính thì 92% thực sự là dương tính. Tỷ lệ thu hồi đối với lớp tích cực là 95%, cho thấy mô hình đã xác định chính xác 95% trường hợp tích cực. Điểm f1 cho lớp tích cực là 93%, kết hợp độ chính xác và khả năng thu hồi thành một số liệu duy nhất.\n",
    "\n",
    "Mặt khác, độ chính xác của lớp âm là 44%, ngụ ý rằng chỉ 44% trường hợp được dự đoán là âm là thực sự âm. Tỷ lệ thu hồi đối với lớp phủ định là 33%, cho thấy mô hình đã gặp khó khăn trong việc xác định chính xác các trường hợp phủ định. Điểm f1 cho lớp phủ định là 38%.\n",
    "\n",
    "Nhìn chung, mô hình này hoạt động tốt hơn các mô hình trước đây của chúng tôi. Chúng ta có thể thấy rằng các đánh giá cũng được phân tách rõ ràng hơn trong hình ảnh trực quan bên dưới."
   ],
   "metadata": {
    "id": "oYkcNcMNgMOG"
   }
  },
  {
   "cell_type": "code",
   "source": [
    "# visualizing average word2vec with TSNE\n",
    "\n",
    "title = 'Average Word2Vec'\n",
    "tsne_visualizer(data=X_train_avg_w2v_standardised, label=y_train, title=title)"
   ],
   "metadata": {
    "execution": {
     "iopub.status.busy": "2024-02-11T06:18:50.217093Z",
     "iopub.execute_input": "2024-02-11T06:18:50.217913Z",
     "iopub.status.idle": "2024-02-11T06:20:15.163727Z",
     "shell.execute_reply.started": "2024-02-11T06:18:50.21787Z",
     "shell.execute_reply": "2024-02-11T06:20:15.162317Z"
    },
    "trusted": true,
    "id": "iAlEfXzpgMOG",
    "ExecuteTime": {
     "end_time": "2024-05-11T08:05:21.860151Z",
     "start_time": "2024-05-11T08:05:21.846497Z"
    }
   },
   "outputs": [
    {
     "ename": "NameError",
     "evalue": "name 'X_train_avg_w2v_standardised' is not defined",
     "output_type": "error",
     "traceback": [
      "\u001B[1;31m---------------------------------------------------------------------------\u001B[0m",
      "\u001B[1;31mNameError\u001B[0m                                 Traceback (most recent call last)",
      "Cell \u001B[1;32mIn[63], line 4\u001B[0m\n\u001B[0;32m      1\u001B[0m \u001B[38;5;66;03m# visualizing average word2vec with TSNE\u001B[39;00m\n\u001B[0;32m      3\u001B[0m title \u001B[38;5;241m=\u001B[39m \u001B[38;5;124m'\u001B[39m\u001B[38;5;124mAverage Word2Vec\u001B[39m\u001B[38;5;124m'\u001B[39m\n\u001B[1;32m----> 4\u001B[0m tsne_visualizer(data\u001B[38;5;241m=\u001B[39m\u001B[43mX_train_avg_w2v_standardised\u001B[49m, label\u001B[38;5;241m=\u001B[39my_train, title\u001B[38;5;241m=\u001B[39mtitle)\n",
      "\u001B[1;31mNameError\u001B[0m: name 'X_train_avg_w2v_standardised' is not defined"
     ]
    }
   ],
   "execution_count": 63
  },
  {
   "cell_type": "markdown",
   "source": [
    "## TF-IDF Weighted Word2Vec"
   ],
   "metadata": {
    "id": "dDEBrG31gMOG"
   }
  },
  {
   "cell_type": "code",
   "source": [
    "# generating tfidf values\n",
    "vectorizer_tfidf_w2v = TfidfVectorizer()\n",
    "tfidf_data_w2v_train = vectorizer_tfidf_w2v.fit_transform(list_of_sent_idf_train)\n",
    "tfidf_data_w2v_cv = vectorizer_tfidf_w2v.transform(list_of_sent_idf_cv)\n",
    "tfidf_data_w2v_test = vectorizer_tfidf_w2v.transform(list_of_sent_idf_test)\n",
    "\n",
    "tfidf_values_dict = {'train':tfidf_data_w2v_train, 'cv':tfidf_data_w2v_cv, 'test':tfidf_data_w2v_test}"
   ],
   "metadata": {
    "execution": {
     "iopub.status.busy": "2024-02-11T06:20:15.165107Z",
     "iopub.execute_input": "2024-02-11T06:20:15.165835Z"
    },
    "trusted": true,
    "id": "RuEsf9vEgMOG",
    "ExecuteTime": {
     "end_time": "2024-05-11T08:05:26.134440Z",
     "start_time": "2024-05-11T08:05:25.030758Z"
    }
   },
   "outputs": [],
   "execution_count": 64
  },
  {
   "cell_type": "code",
   "source": [
    "# constructing tf-idf weighted Word2Vec\n",
    "\n",
    "tfidf_feature_names = list(vectorizer_tfidf_w2v.get_feature_names_out())\n",
    "tfidf_w2v_data_dict_final = {'train':None, 'cv':None, 'test':None}\n",
    "\n",
    "for key,item in avg_w2v_data_dict.items():\n",
    "    print(key)\n",
    "    w2v_tfidf_data = []\n",
    "\n",
    "    for i,sentence in enumerate(tqdm(item)):\n",
    "        tfidf_weight = 0\n",
    "        sent_vec = np.zeros(shape=50)\n",
    "        for word in sentence:\n",
    "            try:\n",
    "                tfidf_value = tfidf_values_dict[key][i,tfidf_feature_names.index(word)]\n",
    "                # print(tfidf_value)\n",
    "                w2v_vector = model_w2v.wv[word]\n",
    "                sent_vec += tfidf_value * w2v_vector\n",
    "                tfidf_weight += tfidf_value\n",
    "            except:\n",
    "                pass\n",
    "\n",
    "        sent_vec = sent_vec / tfidf_weight\n",
    "        w2v_tfidf_data.append(sent_vec)\n",
    "    w2v_tfidf_data = np.array(w2v_tfidf_data)\n",
    "    print(w2v_tfidf_data.shape)\n",
    "    tfidf_w2v_data_dict_final[key] = w2v_tfidf_data"
   ],
   "metadata": {
    "trusted": true,
    "id": "l2ZavhIFgMOH",
    "ExecuteTime": {
     "end_time": "2024-05-11T08:06:26.549745Z",
     "start_time": "2024-05-11T08:05:26.929425Z"
    }
   },
   "outputs": [
    {
     "name": "stdout",
     "output_type": "stream",
     "text": [
      "train\n"
     ]
    },
    {
     "name": "stderr",
     "output_type": "stream",
     "text": [
      "  0%|          | 0/3920 [00:00<?, ?it/s]C:\\Users\\Administrator\\AppData\\Local\\Temp\\ipykernel_15088\\3835260673.py:23: RuntimeWarning: invalid value encountered in divide\n",
      "  sent_vec = sent_vec / tfidf_weight\n",
      "100%|██████████| 3920/3920 [00:34<00:00, 112.55it/s]\n"
     ]
    },
    {
     "name": "stdout",
     "output_type": "stream",
     "text": [
      "(3920, 50)\n",
      "cv\n"
     ]
    },
    {
     "name": "stderr",
     "output_type": "stream",
     "text": [
      "100%|██████████| 980/980 [00:09<00:00, 107.08it/s]\n"
     ]
    },
    {
     "name": "stdout",
     "output_type": "stream",
     "text": [
      "(980, 50)\n",
      "test\n"
     ]
    },
    {
     "name": "stderr",
     "output_type": "stream",
     "text": [
      "100%|██████████| 2100/2100 [00:15<00:00, 139.88it/s]"
     ]
    },
    {
     "name": "stdout",
     "output_type": "stream",
     "text": [
      "(2100, 50)\n"
     ]
    },
    {
     "name": "stderr",
     "output_type": "stream",
     "text": [
      "\n"
     ]
    }
   ],
   "execution_count": 65
  },
  {
   "cell_type": "code",
   "source": [
    "# sanity check\n",
    "for key,item in tfidf_w2v_data_dict_final.items():\n",
    "    print(key)\n",
    "    print(item.shape)"
   ],
   "metadata": {
    "trusted": true,
    "id": "ZvOyCS8ggMOH",
    "ExecuteTime": {
     "end_time": "2024-05-11T08:06:26.556387Z",
     "start_time": "2024-05-11T08:06:26.550741Z"
    }
   },
   "outputs": [
    {
     "name": "stdout",
     "output_type": "stream",
     "text": [
      "train\n",
      "(3920, 50)\n",
      "cv\n",
      "(980, 50)\n",
      "test\n",
      "(2100, 50)\n"
     ]
    }
   ],
   "execution_count": 66
  },
  {
   "cell_type": "code",
   "source": [
    "\n",
    "tfidf_w2v_data_train = tfidf_w2v_data_dict_final['train']\n",
    "tfidf_w2v_data_cv = tfidf_w2v_data_dict_final['cv']\n",
    "tfidf_w2v_data_test = tfidf_w2v_data_dict_final['test']"
   ],
   "metadata": {
    "trusted": true,
    "id": "r1XVwMirgMOH",
    "ExecuteTime": {
     "end_time": "2024-05-11T08:08:12.854135Z",
     "start_time": "2024-05-11T08:08:12.845644Z"
    }
   },
   "outputs": [],
   "execution_count": 67
  },
  {
   "cell_type": "code",
   "source": [
    "# dropping any NA values if present\n",
    "tfidf_w2v_data_test"
   ],
   "metadata": {
    "trusted": true,
    "id": "ILEEMiCRgMOH",
    "ExecuteTime": {
     "end_time": "2024-05-11T08:08:15.239586Z",
     "start_time": "2024-05-11T08:08:15.234819Z"
    }
   },
   "outputs": [
    {
     "data": {
      "text/plain": [
       "array([[nan, nan, nan, ..., nan, nan, nan],\n",
       "       [nan, nan, nan, ..., nan, nan, nan],\n",
       "       [nan, nan, nan, ..., nan, nan, nan],\n",
       "       ...,\n",
       "       [nan, nan, nan, ..., nan, nan, nan],\n",
       "       [nan, nan, nan, ..., nan, nan, nan],\n",
       "       [nan, nan, nan, ..., nan, nan, nan]])"
      ]
     },
     "execution_count": 68,
     "metadata": {},
     "output_type": "execute_result"
    }
   ],
   "execution_count": 68
  },
  {
   "cell_type": "code",
   "source": [
    "## OVERSAMPLING\n",
    "\n",
    "# plotting class imbalance before oversampling\n",
    "plt.figure(1, figsize=(17,6))\n",
    "plt.subplot(1,2,1)\n",
    "plt.title('class distribution before oversampling')\n",
    "sns.countplot(x=df_train['Score'])\n",
    "print('Shape of data before oversampling:', tfidf_w2v_data_train.shape, '\\n\\n')\n",
    "\n",
    "# performing oversampling using smote\n",
    "# oversampling our train data\n",
    "ros = RandomOverSampler()\n",
    "tfidf_w2v_data_train, Y_tfidf_w2v_data_train = ros.fit_resample(tfidf_w2v_data_train,df_train['Score'])\n",
    "\n",
    "# plotting class dist after oversampling\n",
    "plt.subplot(1,2,2)\n",
    "plt.title('class distribution after oversampling')\n",
    "sns.countplot(x=Y_tfidf_w2v_data_train)\n",
    "plt.show()\n",
    "print('Shape of data after oversampling:', tfidf_w2v_data_train.shape)\n"
   ],
   "metadata": {
    "trusted": true,
    "id": "T--5zC17gMOH",
    "ExecuteTime": {
     "end_time": "2024-05-11T08:08:15.807689Z",
     "start_time": "2024-05-11T08:08:15.347310Z"
    }
   },
   "outputs": [
    {
     "name": "stdout",
     "output_type": "stream",
     "text": [
      "Shape of data before oversampling: (3920, 50) \n",
      "\n",
      "\n"
     ]
    },
    {
     "data": {
      "text/plain": [
       "<Figure size 1700x600 with 2 Axes>"
      ],
      "image/png": "[encoded data removed]"
     },
     "metadata": {},
     "output_type": "display_data"
    },
    {
     "name": "stdout",
     "output_type": "stream",
     "text": [
      "Shape of data after oversampling: (6982, 50)\n"
     ]
    }
   ],
   "execution_count": 69
  },
  {
   "cell_type": "code",
   "source": [
    "# standardization\n",
    "scaler_tfidf_w2v = StandardScaler()\n",
    "X_train_tfidf_w2v_standardised = scaler_tfidf_w2v.fit_transform(tfidf_w2v_data_train)\n",
    "X_cv_tfidf_w2v_standardised = scaler_tfidf_w2v.transform(tfidf_w2v_data_cv)\n",
    "X_test_tfidf_w2v_standardised = scaler_tfidf_w2v.transform(tfidf_w2v_data_test)\n",
    "\n",
    "y_train = Y_tfidf_w2v_data_train\n",
    "y_cv = df_cv['Score'].values\n",
    "y_test = df_test['Score'].values"
   ],
   "metadata": {
    "trusted": true,
    "id": "9Q1d0nMzgMOH",
    "ExecuteTime": {
     "end_time": "2024-05-11T08:08:15.867869Z",
     "start_time": "2024-05-11T08:08:15.808683Z"
    }
   },
   "outputs": [
    {
     "name": "stderr",
     "output_type": "stream",
     "text": [
      "C:\\Users\\Administrator\\final\\Lib\\site-packages\\sklearn\\utils\\extmath.py:1137: RuntimeWarning: invalid value encountered in divide\n",
      "  updated_mean = (last_sum + new_sum) / updated_sample_count\n",
      "C:\\Users\\Administrator\\final\\Lib\\site-packages\\sklearn\\utils\\extmath.py:1142: RuntimeWarning: invalid value encountered in divide\n",
      "  T = new_sum / new_sample_count\n",
      "C:\\Users\\Administrator\\final\\Lib\\site-packages\\sklearn\\utils\\extmath.py:1162: RuntimeWarning: invalid value encountered in divide\n",
      "  new_unnormalized_variance -= correction**2 / new_sample_count\n"
     ]
    }
   ],
   "execution_count": 70
  },
  {
   "cell_type": "code",
   "source": [
    "# Using KNN for classification\n",
    "accuracy = []\n",
    "f1_positive = []\n",
    "f1_negative = []\n",
    "K_values = list(range(1,30,2))\n",
    "\n",
    "for k in tqdm(K_values):\n",
    "    knn = KNeighborsClassifier(n_neighbors=k)\n",
    "    knn.fit(X_train_tfidf_w2v_standardised, y_train)\n",
    "    pred = knn.predict(X_cv_tfidf_w2v_standardised)\n",
    "    f1_positive.append(f1_score(y_cv, pred, pos_label=\"positive\"))\n",
    "    f1_negative.append(f1_score(y_cv, pred, pos_label=\"negative\"))\n",
    "    accuracy.append(accuracy_score(y_cv, pred))\n",
    "\n",
    "positive_ind = f1_positive.index(max(f1_positive))\n",
    "negative_ind = f1_negative.index(max(f1_negative))\n",
    "acc_ind = accuracy.index(max(accuracy))\n",
    "print('The maximum accuracy is {a} with K value of {b}'.format(a=max(accuracy), b=K_values[acc_ind]))\n",
    "print('The maximum F1 score on CV data for positive labels is {a} with K value of {b}'.format(a=max(f1_positive), b=K_values[positive_ind]))\n",
    "print('The maximum F1 score on CV data for negative labels is {a} with K value of {b}'.format(a=max(f1_negative), b=K_values[negative_ind]))\n",
    "\n",
    "# plotting accuracy f1-positive and f1-negative for K values\n",
    "plt.figure(1, figsize=(22,5))\n",
    "plt.subplot(1,3,1)\n",
    "plt.plot(K_values, accuracy, 'o--')\n",
    "plt.title('Accuracy')\n",
    "plt.xlabel('K_Values')\n",
    "\n",
    "plt.subplot(1,3,2)\n",
    "plt.plot(K_values, f1_positive, 'o--')\n",
    "plt.title('F1_Positive')\n",
    "plt.xlabel('K_Values')\n",
    "\n",
    "plt.subplot(1,3,3)\n",
    "plt.plot(K_values, f1_negative, 'o--')\n",
    "plt.title('F1_Negative')\n",
    "plt.xlabel('K_Values')\n",
    "\n",
    "# knn on our test data for reporting\n",
    "knn = KNeighborsClassifier(n_neighbors=K_values[acc_ind])\n",
    "knn.fit(X_train_tfidf_w2v_standardised, y_train)\n",
    "pred = knn.predict(X_test_tfidf_w2v_standardised)\n",
    "\n",
    "# generating relevant martices\n",
    "confusion_mat = pd.DataFrame(confusion_matrix(y_test, pred, labels=['positive', 'negative']), columns=['pred_positive', 'pred_negative'], index=['true_positive', 'true_negative'])\n",
    "print('\\nConfusion matrix:')\n",
    "print(confusion_mat)\n",
    "print('\\nClassification Report:')\n",
    "print(classification_report(y_test, pred))\n",
    "print('\\nAccuracy on Test Data:', accuracy_score(y_test, pred))"
   ],
   "metadata": {
    "trusted": true,
    "id": "OSYhXWX6gMOH",
    "ExecuteTime": {
     "end_time": "2024-05-11T08:08:17.238124Z",
     "start_time": "2024-05-11T08:08:15.867869Z"
    }
   },
   "outputs": [
    {
     "name": "stderr",
     "output_type": "stream",
     "text": [
      "  0%|          | 0/15 [00:00<?, ?it/s]\n"
     ]
    },
    {
     "ename": "ValueError",
     "evalue": "Input X contains NaN.\nKNeighborsClassifier does not accept missing values encoded as NaN natively. For supervised learning, you might want to consider sklearn.ensemble.HistGradientBoostingClassifier and Regressor which accept missing values encoded as NaNs natively. Alternatively, it is possible to preprocess the data, for instance by using an imputer transformer in a pipeline or drop samples with missing values. See https://scikit-learn.org/stable/modules/impute.html You can find a list of all estimators that handle NaN values at the following page: https://scikit-learn.org/stable/modules/impute.html#estimators-that-handle-nan-values",
     "output_type": "error",
     "traceback": [
      "\u001B[1;31m---------------------------------------------------------------------------\u001B[0m",
      "\u001B[1;31mValueError\u001B[0m                                Traceback (most recent call last)",
      "Cell \u001B[1;32mIn[71], line 9\u001B[0m\n\u001B[0;32m      7\u001B[0m \u001B[38;5;28;01mfor\u001B[39;00m k \u001B[38;5;129;01min\u001B[39;00m tqdm(K_values):\n\u001B[0;32m      8\u001B[0m     knn \u001B[38;5;241m=\u001B[39m KNeighborsClassifier(n_neighbors\u001B[38;5;241m=\u001B[39mk)\n\u001B[1;32m----> 9\u001B[0m     \u001B[43mknn\u001B[49m\u001B[38;5;241;43m.\u001B[39;49m\u001B[43mfit\u001B[49m\u001B[43m(\u001B[49m\u001B[43mX_train_tfidf_w2v_standardised\u001B[49m\u001B[43m,\u001B[49m\u001B[43m \u001B[49m\u001B[43my_train\u001B[49m\u001B[43m)\u001B[49m\n\u001B[0;32m     10\u001B[0m     pred \u001B[38;5;241m=\u001B[39m knn\u001B[38;5;241m.\u001B[39mpredict(X_cv_tfidf_w2v_standardised)\n\u001B[0;32m     11\u001B[0m     f1_positive\u001B[38;5;241m.\u001B[39mappend(f1_score(y_cv, pred, pos_label\u001B[38;5;241m=\u001B[39m\u001B[38;5;124m\"\u001B[39m\u001B[38;5;124mpositive\u001B[39m\u001B[38;5;124m\"\u001B[39m))\n",
      "File \u001B[1;32m~\\final\\Lib\\site-packages\\sklearn\\base.py:1474\u001B[0m, in \u001B[0;36m_fit_context.<locals>.decorator.<locals>.wrapper\u001B[1;34m(estimator, *args, **kwargs)\u001B[0m\n\u001B[0;32m   1467\u001B[0m     estimator\u001B[38;5;241m.\u001B[39m_validate_params()\n\u001B[0;32m   1469\u001B[0m \u001B[38;5;28;01mwith\u001B[39;00m config_context(\n\u001B[0;32m   1470\u001B[0m     skip_parameter_validation\u001B[38;5;241m=\u001B[39m(\n\u001B[0;32m   1471\u001B[0m         prefer_skip_nested_validation \u001B[38;5;129;01mor\u001B[39;00m global_skip_validation\n\u001B[0;32m   1472\u001B[0m     )\n\u001B[0;32m   1473\u001B[0m ):\n\u001B[1;32m-> 1474\u001B[0m     \u001B[38;5;28;01mreturn\u001B[39;00m \u001B[43mfit_method\u001B[49m\u001B[43m(\u001B[49m\u001B[43mestimator\u001B[49m\u001B[43m,\u001B[49m\u001B[43m \u001B[49m\u001B[38;5;241;43m*\u001B[39;49m\u001B[43margs\u001B[49m\u001B[43m,\u001B[49m\u001B[43m \u001B[49m\u001B[38;5;241;43m*\u001B[39;49m\u001B[38;5;241;43m*\u001B[39;49m\u001B[43mkwargs\u001B[49m\u001B[43m)\u001B[49m\n",
      "File \u001B[1;32m~\\final\\Lib\\site-packages\\sklearn\\neighbors\\_classification.py:238\u001B[0m, in \u001B[0;36mKNeighborsClassifier.fit\u001B[1;34m(self, X, y)\u001B[0m\n\u001B[0;32m    216\u001B[0m \u001B[38;5;129m@_fit_context\u001B[39m(\n\u001B[0;32m    217\u001B[0m     \u001B[38;5;66;03m# KNeighborsClassifier.metric is not validated yet\u001B[39;00m\n\u001B[0;32m    218\u001B[0m     prefer_skip_nested_validation\u001B[38;5;241m=\u001B[39m\u001B[38;5;28;01mFalse\u001B[39;00m\n\u001B[0;32m    219\u001B[0m )\n\u001B[0;32m    220\u001B[0m \u001B[38;5;28;01mdef\u001B[39;00m \u001B[38;5;21mfit\u001B[39m(\u001B[38;5;28mself\u001B[39m, X, y):\n\u001B[0;32m    221\u001B[0m \u001B[38;5;250m    \u001B[39m\u001B[38;5;124;03m\"\"\"Fit the k-nearest neighbors classifier from the training dataset.\u001B[39;00m\n\u001B[0;32m    222\u001B[0m \n\u001B[0;32m    223\u001B[0m \u001B[38;5;124;03m    Parameters\u001B[39;00m\n\u001B[1;32m   (...)\u001B[0m\n\u001B[0;32m    236\u001B[0m \u001B[38;5;124;03m        The fitted k-nearest neighbors classifier.\u001B[39;00m\n\u001B[0;32m    237\u001B[0m \u001B[38;5;124;03m    \"\"\"\u001B[39;00m\n\u001B[1;32m--> 238\u001B[0m     \u001B[38;5;28;01mreturn\u001B[39;00m \u001B[38;5;28;43mself\u001B[39;49m\u001B[38;5;241;43m.\u001B[39;49m\u001B[43m_fit\u001B[49m\u001B[43m(\u001B[49m\u001B[43mX\u001B[49m\u001B[43m,\u001B[49m\u001B[43m \u001B[49m\u001B[43my\u001B[49m\u001B[43m)\u001B[49m\n",
      "File \u001B[1;32m~\\final\\Lib\\site-packages\\sklearn\\neighbors\\_base.py:476\u001B[0m, in \u001B[0;36mNeighborsBase._fit\u001B[1;34m(self, X, y)\u001B[0m\n\u001B[0;32m    474\u001B[0m \u001B[38;5;28;01mif\u001B[39;00m \u001B[38;5;28mself\u001B[39m\u001B[38;5;241m.\u001B[39m_get_tags()[\u001B[38;5;124m\"\u001B[39m\u001B[38;5;124mrequires_y\u001B[39m\u001B[38;5;124m\"\u001B[39m]:\n\u001B[0;32m    475\u001B[0m     \u001B[38;5;28;01mif\u001B[39;00m \u001B[38;5;129;01mnot\u001B[39;00m \u001B[38;5;28misinstance\u001B[39m(X, (KDTree, BallTree, NeighborsBase)):\n\u001B[1;32m--> 476\u001B[0m         X, y \u001B[38;5;241m=\u001B[39m \u001B[38;5;28;43mself\u001B[39;49m\u001B[38;5;241;43m.\u001B[39;49m\u001B[43m_validate_data\u001B[49m\u001B[43m(\u001B[49m\n\u001B[0;32m    477\u001B[0m \u001B[43m            \u001B[49m\u001B[43mX\u001B[49m\u001B[43m,\u001B[49m\u001B[43m \u001B[49m\u001B[43my\u001B[49m\u001B[43m,\u001B[49m\u001B[43m \u001B[49m\u001B[43maccept_sparse\u001B[49m\u001B[38;5;241;43m=\u001B[39;49m\u001B[38;5;124;43m\"\u001B[39;49m\u001B[38;5;124;43mcsr\u001B[39;49m\u001B[38;5;124;43m\"\u001B[39;49m\u001B[43m,\u001B[49m\u001B[43m \u001B[49m\u001B[43mmulti_output\u001B[49m\u001B[38;5;241;43m=\u001B[39;49m\u001B[38;5;28;43;01mTrue\u001B[39;49;00m\u001B[43m,\u001B[49m\u001B[43m \u001B[49m\u001B[43morder\u001B[49m\u001B[38;5;241;43m=\u001B[39;49m\u001B[38;5;124;43m\"\u001B[39;49m\u001B[38;5;124;43mC\u001B[39;49m\u001B[38;5;124;43m\"\u001B[39;49m\n\u001B[0;32m    478\u001B[0m \u001B[43m        \u001B[49m\u001B[43m)\u001B[49m\n\u001B[0;32m    480\u001B[0m     \u001B[38;5;28;01mif\u001B[39;00m is_classifier(\u001B[38;5;28mself\u001B[39m):\n\u001B[0;32m    481\u001B[0m         \u001B[38;5;66;03m# Classification targets require a specific format\u001B[39;00m\n\u001B[0;32m    482\u001B[0m         \u001B[38;5;28;01mif\u001B[39;00m y\u001B[38;5;241m.\u001B[39mndim \u001B[38;5;241m==\u001B[39m \u001B[38;5;241m1\u001B[39m \u001B[38;5;129;01mor\u001B[39;00m y\u001B[38;5;241m.\u001B[39mndim \u001B[38;5;241m==\u001B[39m \u001B[38;5;241m2\u001B[39m \u001B[38;5;129;01mand\u001B[39;00m y\u001B[38;5;241m.\u001B[39mshape[\u001B[38;5;241m1\u001B[39m] \u001B[38;5;241m==\u001B[39m \u001B[38;5;241m1\u001B[39m:\n",
      "File \u001B[1;32m~\\final\\Lib\\site-packages\\sklearn\\base.py:650\u001B[0m, in \u001B[0;36mBaseEstimator._validate_data\u001B[1;34m(self, X, y, reset, validate_separately, cast_to_ndarray, **check_params)\u001B[0m\n\u001B[0;32m    648\u001B[0m         y \u001B[38;5;241m=\u001B[39m check_array(y, input_name\u001B[38;5;241m=\u001B[39m\u001B[38;5;124m\"\u001B[39m\u001B[38;5;124my\u001B[39m\u001B[38;5;124m\"\u001B[39m, \u001B[38;5;241m*\u001B[39m\u001B[38;5;241m*\u001B[39mcheck_y_params)\n\u001B[0;32m    649\u001B[0m     \u001B[38;5;28;01melse\u001B[39;00m:\n\u001B[1;32m--> 650\u001B[0m         X, y \u001B[38;5;241m=\u001B[39m \u001B[43mcheck_X_y\u001B[49m\u001B[43m(\u001B[49m\u001B[43mX\u001B[49m\u001B[43m,\u001B[49m\u001B[43m \u001B[49m\u001B[43my\u001B[49m\u001B[43m,\u001B[49m\u001B[43m \u001B[49m\u001B[38;5;241;43m*\u001B[39;49m\u001B[38;5;241;43m*\u001B[39;49m\u001B[43mcheck_params\u001B[49m\u001B[43m)\u001B[49m\n\u001B[0;32m    651\u001B[0m     out \u001B[38;5;241m=\u001B[39m X, y\n\u001B[0;32m    653\u001B[0m \u001B[38;5;28;01mif\u001B[39;00m \u001B[38;5;129;01mnot\u001B[39;00m no_val_X \u001B[38;5;129;01mand\u001B[39;00m check_params\u001B[38;5;241m.\u001B[39mget(\u001B[38;5;124m\"\u001B[39m\u001B[38;5;124mensure_2d\u001B[39m\u001B[38;5;124m\"\u001B[39m, \u001B[38;5;28;01mTrue\u001B[39;00m):\n",
      "File \u001B[1;32m~\\final\\Lib\\site-packages\\sklearn\\utils\\validation.py:1263\u001B[0m, in \u001B[0;36mcheck_X_y\u001B[1;34m(X, y, accept_sparse, accept_large_sparse, dtype, order, copy, force_all_finite, ensure_2d, allow_nd, multi_output, ensure_min_samples, ensure_min_features, y_numeric, estimator)\u001B[0m\n\u001B[0;32m   1258\u001B[0m         estimator_name \u001B[38;5;241m=\u001B[39m _check_estimator_name(estimator)\n\u001B[0;32m   1259\u001B[0m     \u001B[38;5;28;01mraise\u001B[39;00m \u001B[38;5;167;01mValueError\u001B[39;00m(\n\u001B[0;32m   1260\u001B[0m         \u001B[38;5;124mf\u001B[39m\u001B[38;5;124m\"\u001B[39m\u001B[38;5;132;01m{\u001B[39;00mestimator_name\u001B[38;5;132;01m}\u001B[39;00m\u001B[38;5;124m requires y to be passed, but the target y is None\u001B[39m\u001B[38;5;124m\"\u001B[39m\n\u001B[0;32m   1261\u001B[0m     )\n\u001B[1;32m-> 1263\u001B[0m X \u001B[38;5;241m=\u001B[39m \u001B[43mcheck_array\u001B[49m\u001B[43m(\u001B[49m\n\u001B[0;32m   1264\u001B[0m \u001B[43m    \u001B[49m\u001B[43mX\u001B[49m\u001B[43m,\u001B[49m\n\u001B[0;32m   1265\u001B[0m \u001B[43m    \u001B[49m\u001B[43maccept_sparse\u001B[49m\u001B[38;5;241;43m=\u001B[39;49m\u001B[43maccept_sparse\u001B[49m\u001B[43m,\u001B[49m\n\u001B[0;32m   1266\u001B[0m \u001B[43m    \u001B[49m\u001B[43maccept_large_sparse\u001B[49m\u001B[38;5;241;43m=\u001B[39;49m\u001B[43maccept_large_sparse\u001B[49m\u001B[43m,\u001B[49m\n\u001B[0;32m   1267\u001B[0m \u001B[43m    \u001B[49m\u001B[43mdtype\u001B[49m\u001B[38;5;241;43m=\u001B[39;49m\u001B[43mdtype\u001B[49m\u001B[43m,\u001B[49m\n\u001B[0;32m   1268\u001B[0m \u001B[43m    \u001B[49m\u001B[43morder\u001B[49m\u001B[38;5;241;43m=\u001B[39;49m\u001B[43morder\u001B[49m\u001B[43m,\u001B[49m\n\u001B[0;32m   1269\u001B[0m \u001B[43m    \u001B[49m\u001B[43mcopy\u001B[49m\u001B[38;5;241;43m=\u001B[39;49m\u001B[43mcopy\u001B[49m\u001B[43m,\u001B[49m\n\u001B[0;32m   1270\u001B[0m \u001B[43m    \u001B[49m\u001B[43mforce_all_finite\u001B[49m\u001B[38;5;241;43m=\u001B[39;49m\u001B[43mforce_all_finite\u001B[49m\u001B[43m,\u001B[49m\n\u001B[0;32m   1271\u001B[0m \u001B[43m    \u001B[49m\u001B[43mensure_2d\u001B[49m\u001B[38;5;241;43m=\u001B[39;49m\u001B[43mensure_2d\u001B[49m\u001B[43m,\u001B[49m\n\u001B[0;32m   1272\u001B[0m \u001B[43m    \u001B[49m\u001B[43mallow_nd\u001B[49m\u001B[38;5;241;43m=\u001B[39;49m\u001B[43mallow_nd\u001B[49m\u001B[43m,\u001B[49m\n\u001B[0;32m   1273\u001B[0m \u001B[43m    \u001B[49m\u001B[43mensure_min_samples\u001B[49m\u001B[38;5;241;43m=\u001B[39;49m\u001B[43mensure_min_samples\u001B[49m\u001B[43m,\u001B[49m\n\u001B[0;32m   1274\u001B[0m \u001B[43m    \u001B[49m\u001B[43mensure_min_features\u001B[49m\u001B[38;5;241;43m=\u001B[39;49m\u001B[43mensure_min_features\u001B[49m\u001B[43m,\u001B[49m\n\u001B[0;32m   1275\u001B[0m \u001B[43m    \u001B[49m\u001B[43mestimator\u001B[49m\u001B[38;5;241;43m=\u001B[39;49m\u001B[43mestimator\u001B[49m\u001B[43m,\u001B[49m\n\u001B[0;32m   1276\u001B[0m \u001B[43m    \u001B[49m\u001B[43minput_name\u001B[49m\u001B[38;5;241;43m=\u001B[39;49m\u001B[38;5;124;43m\"\u001B[39;49m\u001B[38;5;124;43mX\u001B[39;49m\u001B[38;5;124;43m\"\u001B[39;49m\u001B[43m,\u001B[49m\n\u001B[0;32m   1277\u001B[0m \u001B[43m\u001B[49m\u001B[43m)\u001B[49m\n\u001B[0;32m   1279\u001B[0m y \u001B[38;5;241m=\u001B[39m _check_y(y, multi_output\u001B[38;5;241m=\u001B[39mmulti_output, y_numeric\u001B[38;5;241m=\u001B[39my_numeric, estimator\u001B[38;5;241m=\u001B[39mestimator)\n\u001B[0;32m   1281\u001B[0m check_consistent_length(X, y)\n",
      "File \u001B[1;32m~\\final\\Lib\\site-packages\\sklearn\\utils\\validation.py:1049\u001B[0m, in \u001B[0;36mcheck_array\u001B[1;34m(array, accept_sparse, accept_large_sparse, dtype, order, copy, force_all_finite, ensure_2d, allow_nd, ensure_min_samples, ensure_min_features, estimator, input_name)\u001B[0m\n\u001B[0;32m   1043\u001B[0m     \u001B[38;5;28;01mraise\u001B[39;00m \u001B[38;5;167;01mValueError\u001B[39;00m(\n\u001B[0;32m   1044\u001B[0m         \u001B[38;5;124m\"\u001B[39m\u001B[38;5;124mFound array with dim \u001B[39m\u001B[38;5;132;01m%d\u001B[39;00m\u001B[38;5;124m. \u001B[39m\u001B[38;5;132;01m%s\u001B[39;00m\u001B[38;5;124m expected <= 2.\u001B[39m\u001B[38;5;124m\"\u001B[39m\n\u001B[0;32m   1045\u001B[0m         \u001B[38;5;241m%\u001B[39m (array\u001B[38;5;241m.\u001B[39mndim, estimator_name)\n\u001B[0;32m   1046\u001B[0m     )\n\u001B[0;32m   1048\u001B[0m \u001B[38;5;28;01mif\u001B[39;00m force_all_finite:\n\u001B[1;32m-> 1049\u001B[0m     \u001B[43m_assert_all_finite\u001B[49m\u001B[43m(\u001B[49m\n\u001B[0;32m   1050\u001B[0m \u001B[43m        \u001B[49m\u001B[43marray\u001B[49m\u001B[43m,\u001B[49m\n\u001B[0;32m   1051\u001B[0m \u001B[43m        \u001B[49m\u001B[43minput_name\u001B[49m\u001B[38;5;241;43m=\u001B[39;49m\u001B[43minput_name\u001B[49m\u001B[43m,\u001B[49m\n\u001B[0;32m   1052\u001B[0m \u001B[43m        \u001B[49m\u001B[43mestimator_name\u001B[49m\u001B[38;5;241;43m=\u001B[39;49m\u001B[43mestimator_name\u001B[49m\u001B[43m,\u001B[49m\n\u001B[0;32m   1053\u001B[0m \u001B[43m        \u001B[49m\u001B[43mallow_nan\u001B[49m\u001B[38;5;241;43m=\u001B[39;49m\u001B[43mforce_all_finite\u001B[49m\u001B[43m \u001B[49m\u001B[38;5;241;43m==\u001B[39;49m\u001B[43m \u001B[49m\u001B[38;5;124;43m\"\u001B[39;49m\u001B[38;5;124;43mallow-nan\u001B[39;49m\u001B[38;5;124;43m\"\u001B[39;49m\u001B[43m,\u001B[49m\n\u001B[0;32m   1054\u001B[0m \u001B[43m    \u001B[49m\u001B[43m)\u001B[49m\n\u001B[0;32m   1056\u001B[0m \u001B[38;5;28;01mif\u001B[39;00m copy:\n\u001B[0;32m   1057\u001B[0m     \u001B[38;5;28;01mif\u001B[39;00m _is_numpy_namespace(xp):\n\u001B[0;32m   1058\u001B[0m         \u001B[38;5;66;03m# only make a copy if `array` and `array_orig` may share memory`\u001B[39;00m\n",
      "File \u001B[1;32m~\\final\\Lib\\site-packages\\sklearn\\utils\\validation.py:126\u001B[0m, in \u001B[0;36m_assert_all_finite\u001B[1;34m(X, allow_nan, msg_dtype, estimator_name, input_name)\u001B[0m\n\u001B[0;32m    123\u001B[0m \u001B[38;5;28;01mif\u001B[39;00m first_pass_isfinite:\n\u001B[0;32m    124\u001B[0m     \u001B[38;5;28;01mreturn\u001B[39;00m\n\u001B[1;32m--> 126\u001B[0m \u001B[43m_assert_all_finite_element_wise\u001B[49m\u001B[43m(\u001B[49m\n\u001B[0;32m    127\u001B[0m \u001B[43m    \u001B[49m\u001B[43mX\u001B[49m\u001B[43m,\u001B[49m\n\u001B[0;32m    128\u001B[0m \u001B[43m    \u001B[49m\u001B[43mxp\u001B[49m\u001B[38;5;241;43m=\u001B[39;49m\u001B[43mxp\u001B[49m\u001B[43m,\u001B[49m\n\u001B[0;32m    129\u001B[0m \u001B[43m    \u001B[49m\u001B[43mallow_nan\u001B[49m\u001B[38;5;241;43m=\u001B[39;49m\u001B[43mallow_nan\u001B[49m\u001B[43m,\u001B[49m\n\u001B[0;32m    130\u001B[0m \u001B[43m    \u001B[49m\u001B[43mmsg_dtype\u001B[49m\u001B[38;5;241;43m=\u001B[39;49m\u001B[43mmsg_dtype\u001B[49m\u001B[43m,\u001B[49m\n\u001B[0;32m    131\u001B[0m \u001B[43m    \u001B[49m\u001B[43mestimator_name\u001B[49m\u001B[38;5;241;43m=\u001B[39;49m\u001B[43mestimator_name\u001B[49m\u001B[43m,\u001B[49m\n\u001B[0;32m    132\u001B[0m \u001B[43m    \u001B[49m\u001B[43minput_name\u001B[49m\u001B[38;5;241;43m=\u001B[39;49m\u001B[43minput_name\u001B[49m\u001B[43m,\u001B[49m\n\u001B[0;32m    133\u001B[0m \u001B[43m\u001B[49m\u001B[43m)\u001B[49m\n",
      "File \u001B[1;32m~\\final\\Lib\\site-packages\\sklearn\\utils\\validation.py:175\u001B[0m, in \u001B[0;36m_assert_all_finite_element_wise\u001B[1;34m(X, xp, allow_nan, msg_dtype, estimator_name, input_name)\u001B[0m\n\u001B[0;32m    158\u001B[0m \u001B[38;5;28;01mif\u001B[39;00m estimator_name \u001B[38;5;129;01mand\u001B[39;00m input_name \u001B[38;5;241m==\u001B[39m \u001B[38;5;124m\"\u001B[39m\u001B[38;5;124mX\u001B[39m\u001B[38;5;124m\"\u001B[39m \u001B[38;5;129;01mand\u001B[39;00m has_nan_error:\n\u001B[0;32m    159\u001B[0m     \u001B[38;5;66;03m# Improve the error message on how to handle missing values in\u001B[39;00m\n\u001B[0;32m    160\u001B[0m     \u001B[38;5;66;03m# scikit-learn.\u001B[39;00m\n\u001B[0;32m    161\u001B[0m     msg_err \u001B[38;5;241m+\u001B[39m\u001B[38;5;241m=\u001B[39m (\n\u001B[0;32m    162\u001B[0m         \u001B[38;5;124mf\u001B[39m\u001B[38;5;124m\"\u001B[39m\u001B[38;5;130;01m\\n\u001B[39;00m\u001B[38;5;132;01m{\u001B[39;00mestimator_name\u001B[38;5;132;01m}\u001B[39;00m\u001B[38;5;124m does not accept missing values\u001B[39m\u001B[38;5;124m\"\u001B[39m\n\u001B[0;32m    163\u001B[0m         \u001B[38;5;124m\"\u001B[39m\u001B[38;5;124m encoded as NaN natively. For supervised learning, you might want\u001B[39m\u001B[38;5;124m\"\u001B[39m\n\u001B[1;32m   (...)\u001B[0m\n\u001B[0;32m    173\u001B[0m         \u001B[38;5;124m\"\u001B[39m\u001B[38;5;124m#estimators-that-handle-nan-values\u001B[39m\u001B[38;5;124m\"\u001B[39m\n\u001B[0;32m    174\u001B[0m     )\n\u001B[1;32m--> 175\u001B[0m \u001B[38;5;28;01mraise\u001B[39;00m \u001B[38;5;167;01mValueError\u001B[39;00m(msg_err)\n",
      "\u001B[1;31mValueError\u001B[0m: Input X contains NaN.\nKNeighborsClassifier does not accept missing values encoded as NaN natively. For supervised learning, you might want to consider sklearn.ensemble.HistGradientBoostingClassifier and Regressor which accept missing values encoded as NaNs natively. Alternatively, it is possible to preprocess the data, for instance by using an imputer transformer in a pipeline or drop samples with missing values. See https://scikit-learn.org/stable/modules/impute.html You can find a list of all estimators that handle NaN values at the following page: https://scikit-learn.org/stable/modules/impute.html#estimators-that-handle-nan-values"
     ]
    }
   ],
   "execution_count": 71
  },
  {
   "cell_type": "markdown",
   "source": [
    "### ***TF-IDF Weighted Word2Vector Results:***\n",
    "\n",
    "The classification model achieved an accuracy of 86% on the test data, indicating that it correctly classified 86% of the instances.\n",
    "\n",
    "Analyzing the confusion matrix, we observe that out of the actual positive instances, the model correctly predicted 1,728 as positive (true positive), but it misclassified 132 instances as negative (false negative). Similarly, for the actual negative instances, the model correctly predicted 85 as negative (true negative), while misclassifying 155 instances as positive (false positive).\n",
    "\n",
    "The precision for the positive class is 92%, suggesting that out of all instances predicted as positive, 92% were actually positive. The recall for the positive class is 93%, indicating that the model accurately identified 93% of the positive instances. The f1-score for the positive class is 92%, which combines precision and recall into a single metric.\n",
    "\n",
    "On the other hand, the precision for the negative class is 39%, implying that only 39% of the instances predicted as negative were truly negative. The recall for the negative class is 35%, indicating that the model struggled to correctly identify the negative instances. The f1-score for the negative class is 37%.\n"
   ],
   "metadata": {
    "id": "S__3o2a4gMOH"
   }
  },
  {
   "cell_type": "code",
   "source": [
    "# visualizing tfidf weighted word2vec with TSNE\n",
    "\n",
    "title = 'TF-IDF Word2Vec'\n",
    "tsne_visualizer(data=X_train_tfidf_w2v_standardised, label=y_train, title=title)"
   ],
   "metadata": {
    "trusted": true,
    "id": "cuJ1NJ5PgMOH",
    "ExecuteTime": {
     "end_time": "2024-05-11T08:08:36.903883Z",
     "start_time": "2024-05-11T08:08:36.590188Z"
    }
   },
   "outputs": [
    {
     "ename": "ValueError",
     "evalue": "Input X contains NaN.\nTSNE does not accept missing values encoded as NaN natively. For supervised learning, you might want to consider sklearn.ensemble.HistGradientBoostingClassifier and Regressor which accept missing values encoded as NaNs natively. Alternatively, it is possible to preprocess the data, for instance by using an imputer transformer in a pipeline or drop samples with missing values. See https://scikit-learn.org/stable/modules/impute.html You can find a list of all estimators that handle NaN values at the following page: https://scikit-learn.org/stable/modules/impute.html#estimators-that-handle-nan-values",
     "output_type": "error",
     "traceback": [
      "\u001B[1;31m---------------------------------------------------------------------------\u001B[0m",
      "\u001B[1;31mValueError\u001B[0m                                Traceback (most recent call last)",
      "Cell \u001B[1;32mIn[72], line 4\u001B[0m\n\u001B[0;32m      1\u001B[0m \u001B[38;5;66;03m# visualizing tfidf weighted word2vec with TSNE\u001B[39;00m\n\u001B[0;32m      3\u001B[0m title \u001B[38;5;241m=\u001B[39m \u001B[38;5;124m'\u001B[39m\u001B[38;5;124mTF-IDF Word2Vec\u001B[39m\u001B[38;5;124m'\u001B[39m\n\u001B[1;32m----> 4\u001B[0m \u001B[43mtsne_visualizer\u001B[49m\u001B[43m(\u001B[49m\u001B[43mdata\u001B[49m\u001B[38;5;241;43m=\u001B[39;49m\u001B[43mX_train_tfidf_w2v_standardised\u001B[49m\u001B[43m,\u001B[49m\u001B[43m \u001B[49m\u001B[43mlabel\u001B[49m\u001B[38;5;241;43m=\u001B[39;49m\u001B[43my_train\u001B[49m\u001B[43m,\u001B[49m\u001B[43m \u001B[49m\u001B[43mtitle\u001B[49m\u001B[38;5;241;43m=\u001B[39;49m\u001B[43mtitle\u001B[49m\u001B[43m)\u001B[49m\n",
      "Cell \u001B[1;32mIn[26], line 8\u001B[0m, in \u001B[0;36mtsne_visualizer\u001B[1;34m(data, label, title)\u001B[0m\n\u001B[0;32m      5\u001B[0m \u001B[38;5;28;01mfrom\u001B[39;00m \u001B[38;5;21;01msklearn\u001B[39;00m\u001B[38;5;21;01m.\u001B[39;00m\u001B[38;5;21;01mmanifold\u001B[39;00m \u001B[38;5;28;01mimport\u001B[39;00m TSNE\n\u001B[0;32m      7\u001B[0m tsne_model \u001B[38;5;241m=\u001B[39m TSNE(n_components\u001B[38;5;241m=\u001B[39m\u001B[38;5;241m2\u001B[39m, n_iter\u001B[38;5;241m=\u001B[39m\u001B[38;5;241m2000\u001B[39m)\n\u001B[1;32m----> 8\u001B[0m tsne_data \u001B[38;5;241m=\u001B[39m \u001B[43mtsne_model\u001B[49m\u001B[38;5;241;43m.\u001B[39;49m\u001B[43mfit_transform\u001B[49m\u001B[43m(\u001B[49m\u001B[43mdata\u001B[49m\u001B[43m)\u001B[49m\n\u001B[0;32m     10\u001B[0m tsne_df \u001B[38;5;241m=\u001B[39m pd\u001B[38;5;241m.\u001B[39mDataFrame(data\u001B[38;5;241m=\u001B[39mnp\u001B[38;5;241m.\u001B[39mvstack((tsne_data\u001B[38;5;241m.\u001B[39mT, label))\u001B[38;5;241m.\u001B[39mT, columns\u001B[38;5;241m=\u001B[39m[\u001B[38;5;124m'\u001B[39m\u001B[38;5;124m1st_component\u001B[39m\u001B[38;5;124m'\u001B[39m, \u001B[38;5;124m'\u001B[39m\u001B[38;5;124m2nd_component\u001B[39m\u001B[38;5;124m'\u001B[39m, \u001B[38;5;124m'\u001B[39m\u001B[38;5;124mlabel\u001B[39m\u001B[38;5;124m'\u001B[39m])\n\u001B[0;32m     11\u001B[0m tsne_df\n",
      "File \u001B[1;32m~\\final\\Lib\\site-packages\\sklearn\\utils\\_set_output.py:295\u001B[0m, in \u001B[0;36m_wrap_method_output.<locals>.wrapped\u001B[1;34m(self, X, *args, **kwargs)\u001B[0m\n\u001B[0;32m    293\u001B[0m \u001B[38;5;129m@wraps\u001B[39m(f)\n\u001B[0;32m    294\u001B[0m \u001B[38;5;28;01mdef\u001B[39;00m \u001B[38;5;21mwrapped\u001B[39m(\u001B[38;5;28mself\u001B[39m, X, \u001B[38;5;241m*\u001B[39margs, \u001B[38;5;241m*\u001B[39m\u001B[38;5;241m*\u001B[39mkwargs):\n\u001B[1;32m--> 295\u001B[0m     data_to_wrap \u001B[38;5;241m=\u001B[39m \u001B[43mf\u001B[49m\u001B[43m(\u001B[49m\u001B[38;5;28;43mself\u001B[39;49m\u001B[43m,\u001B[49m\u001B[43m \u001B[49m\u001B[43mX\u001B[49m\u001B[43m,\u001B[49m\u001B[43m \u001B[49m\u001B[38;5;241;43m*\u001B[39;49m\u001B[43margs\u001B[49m\u001B[43m,\u001B[49m\u001B[43m \u001B[49m\u001B[38;5;241;43m*\u001B[39;49m\u001B[38;5;241;43m*\u001B[39;49m\u001B[43mkwargs\u001B[49m\u001B[43m)\u001B[49m\n\u001B[0;32m    296\u001B[0m     \u001B[38;5;28;01mif\u001B[39;00m \u001B[38;5;28misinstance\u001B[39m(data_to_wrap, \u001B[38;5;28mtuple\u001B[39m):\n\u001B[0;32m    297\u001B[0m         \u001B[38;5;66;03m# only wrap the first output for cross decomposition\u001B[39;00m\n\u001B[0;32m    298\u001B[0m         return_tuple \u001B[38;5;241m=\u001B[39m (\n\u001B[0;32m    299\u001B[0m             _wrap_data_with_container(method, data_to_wrap[\u001B[38;5;241m0\u001B[39m], X, \u001B[38;5;28mself\u001B[39m),\n\u001B[0;32m    300\u001B[0m             \u001B[38;5;241m*\u001B[39mdata_to_wrap[\u001B[38;5;241m1\u001B[39m:],\n\u001B[0;32m    301\u001B[0m         )\n",
      "File \u001B[1;32m~\\final\\Lib\\site-packages\\sklearn\\base.py:1474\u001B[0m, in \u001B[0;36m_fit_context.<locals>.decorator.<locals>.wrapper\u001B[1;34m(estimator, *args, **kwargs)\u001B[0m\n\u001B[0;32m   1467\u001B[0m     estimator\u001B[38;5;241m.\u001B[39m_validate_params()\n\u001B[0;32m   1469\u001B[0m \u001B[38;5;28;01mwith\u001B[39;00m config_context(\n\u001B[0;32m   1470\u001B[0m     skip_parameter_validation\u001B[38;5;241m=\u001B[39m(\n\u001B[0;32m   1471\u001B[0m         prefer_skip_nested_validation \u001B[38;5;129;01mor\u001B[39;00m global_skip_validation\n\u001B[0;32m   1472\u001B[0m     )\n\u001B[0;32m   1473\u001B[0m ):\n\u001B[1;32m-> 1474\u001B[0m     \u001B[38;5;28;01mreturn\u001B[39;00m \u001B[43mfit_method\u001B[49m\u001B[43m(\u001B[49m\u001B[43mestimator\u001B[49m\u001B[43m,\u001B[49m\u001B[43m \u001B[49m\u001B[38;5;241;43m*\u001B[39;49m\u001B[43margs\u001B[49m\u001B[43m,\u001B[49m\u001B[43m \u001B[49m\u001B[38;5;241;43m*\u001B[39;49m\u001B[38;5;241;43m*\u001B[39;49m\u001B[43mkwargs\u001B[49m\u001B[43m)\u001B[49m\n",
      "File \u001B[1;32m~\\final\\Lib\\site-packages\\sklearn\\manifold\\_t_sne.py:1136\u001B[0m, in \u001B[0;36mTSNE.fit_transform\u001B[1;34m(self, X, y)\u001B[0m\n\u001B[0;32m   1115\u001B[0m \u001B[38;5;250m\u001B[39m\u001B[38;5;124;03m\"\"\"Fit X into an embedded space and return that transformed output.\u001B[39;00m\n\u001B[0;32m   1116\u001B[0m \n\u001B[0;32m   1117\u001B[0m \u001B[38;5;124;03mParameters\u001B[39;00m\n\u001B[1;32m   (...)\u001B[0m\n\u001B[0;32m   1133\u001B[0m \u001B[38;5;124;03m    Embedding of the training data in low-dimensional space.\u001B[39;00m\n\u001B[0;32m   1134\u001B[0m \u001B[38;5;124;03m\"\"\"\u001B[39;00m\n\u001B[0;32m   1135\u001B[0m \u001B[38;5;28mself\u001B[39m\u001B[38;5;241m.\u001B[39m_check_params_vs_input(X)\n\u001B[1;32m-> 1136\u001B[0m embedding \u001B[38;5;241m=\u001B[39m \u001B[38;5;28;43mself\u001B[39;49m\u001B[38;5;241;43m.\u001B[39;49m\u001B[43m_fit\u001B[49m\u001B[43m(\u001B[49m\u001B[43mX\u001B[49m\u001B[43m)\u001B[49m\n\u001B[0;32m   1137\u001B[0m \u001B[38;5;28mself\u001B[39m\u001B[38;5;241m.\u001B[39membedding_ \u001B[38;5;241m=\u001B[39m embedding\n\u001B[0;32m   1138\u001B[0m \u001B[38;5;28;01mreturn\u001B[39;00m \u001B[38;5;28mself\u001B[39m\u001B[38;5;241m.\u001B[39membedding_\n",
      "File \u001B[1;32m~\\final\\Lib\\site-packages\\sklearn\\manifold\\_t_sne.py:866\u001B[0m, in \u001B[0;36mTSNE._fit\u001B[1;34m(self, X, skip_num_points)\u001B[0m\n\u001B[0;32m    863\u001B[0m     \u001B[38;5;28mself\u001B[39m\u001B[38;5;241m.\u001B[39mlearning_rate_ \u001B[38;5;241m=\u001B[39m \u001B[38;5;28mself\u001B[39m\u001B[38;5;241m.\u001B[39mlearning_rate\n\u001B[0;32m    865\u001B[0m \u001B[38;5;28;01mif\u001B[39;00m \u001B[38;5;28mself\u001B[39m\u001B[38;5;241m.\u001B[39mmethod \u001B[38;5;241m==\u001B[39m \u001B[38;5;124m\"\u001B[39m\u001B[38;5;124mbarnes_hut\u001B[39m\u001B[38;5;124m\"\u001B[39m:\n\u001B[1;32m--> 866\u001B[0m     X \u001B[38;5;241m=\u001B[39m \u001B[38;5;28;43mself\u001B[39;49m\u001B[38;5;241;43m.\u001B[39;49m\u001B[43m_validate_data\u001B[49m\u001B[43m(\u001B[49m\n\u001B[0;32m    867\u001B[0m \u001B[43m        \u001B[49m\u001B[43mX\u001B[49m\u001B[43m,\u001B[49m\n\u001B[0;32m    868\u001B[0m \u001B[43m        \u001B[49m\u001B[43maccept_sparse\u001B[49m\u001B[38;5;241;43m=\u001B[39;49m\u001B[43m[\u001B[49m\u001B[38;5;124;43m\"\u001B[39;49m\u001B[38;5;124;43mcsr\u001B[39;49m\u001B[38;5;124;43m\"\u001B[39;49m\u001B[43m]\u001B[49m\u001B[43m,\u001B[49m\n\u001B[0;32m    869\u001B[0m \u001B[43m        \u001B[49m\u001B[43mensure_min_samples\u001B[49m\u001B[38;5;241;43m=\u001B[39;49m\u001B[38;5;241;43m2\u001B[39;49m\u001B[43m,\u001B[49m\n\u001B[0;32m    870\u001B[0m \u001B[43m        \u001B[49m\u001B[43mdtype\u001B[49m\u001B[38;5;241;43m=\u001B[39;49m\u001B[43m[\u001B[49m\u001B[43mnp\u001B[49m\u001B[38;5;241;43m.\u001B[39;49m\u001B[43mfloat32\u001B[49m\u001B[43m,\u001B[49m\u001B[43m \u001B[49m\u001B[43mnp\u001B[49m\u001B[38;5;241;43m.\u001B[39;49m\u001B[43mfloat64\u001B[49m\u001B[43m]\u001B[49m\u001B[43m,\u001B[49m\n\u001B[0;32m    871\u001B[0m \u001B[43m    \u001B[49m\u001B[43m)\u001B[49m\n\u001B[0;32m    872\u001B[0m \u001B[38;5;28;01melse\u001B[39;00m:\n\u001B[0;32m    873\u001B[0m     X \u001B[38;5;241m=\u001B[39m \u001B[38;5;28mself\u001B[39m\u001B[38;5;241m.\u001B[39m_validate_data(\n\u001B[0;32m    874\u001B[0m         X, accept_sparse\u001B[38;5;241m=\u001B[39m[\u001B[38;5;124m\"\u001B[39m\u001B[38;5;124mcsr\u001B[39m\u001B[38;5;124m\"\u001B[39m, \u001B[38;5;124m\"\u001B[39m\u001B[38;5;124mcsc\u001B[39m\u001B[38;5;124m\"\u001B[39m, \u001B[38;5;124m\"\u001B[39m\u001B[38;5;124mcoo\u001B[39m\u001B[38;5;124m\"\u001B[39m], dtype\u001B[38;5;241m=\u001B[39m[np\u001B[38;5;241m.\u001B[39mfloat32, np\u001B[38;5;241m.\u001B[39mfloat64]\n\u001B[0;32m    875\u001B[0m     )\n",
      "File \u001B[1;32m~\\final\\Lib\\site-packages\\sklearn\\base.py:633\u001B[0m, in \u001B[0;36mBaseEstimator._validate_data\u001B[1;34m(self, X, y, reset, validate_separately, cast_to_ndarray, **check_params)\u001B[0m\n\u001B[0;32m    631\u001B[0m         out \u001B[38;5;241m=\u001B[39m X, y\n\u001B[0;32m    632\u001B[0m \u001B[38;5;28;01melif\u001B[39;00m \u001B[38;5;129;01mnot\u001B[39;00m no_val_X \u001B[38;5;129;01mand\u001B[39;00m no_val_y:\n\u001B[1;32m--> 633\u001B[0m     out \u001B[38;5;241m=\u001B[39m \u001B[43mcheck_array\u001B[49m\u001B[43m(\u001B[49m\u001B[43mX\u001B[49m\u001B[43m,\u001B[49m\u001B[43m \u001B[49m\u001B[43minput_name\u001B[49m\u001B[38;5;241;43m=\u001B[39;49m\u001B[38;5;124;43m\"\u001B[39;49m\u001B[38;5;124;43mX\u001B[39;49m\u001B[38;5;124;43m\"\u001B[39;49m\u001B[43m,\u001B[49m\u001B[43m \u001B[49m\u001B[38;5;241;43m*\u001B[39;49m\u001B[38;5;241;43m*\u001B[39;49m\u001B[43mcheck_params\u001B[49m\u001B[43m)\u001B[49m\n\u001B[0;32m    634\u001B[0m \u001B[38;5;28;01melif\u001B[39;00m no_val_X \u001B[38;5;129;01mand\u001B[39;00m \u001B[38;5;129;01mnot\u001B[39;00m no_val_y:\n\u001B[0;32m    635\u001B[0m     out \u001B[38;5;241m=\u001B[39m _check_y(y, \u001B[38;5;241m*\u001B[39m\u001B[38;5;241m*\u001B[39mcheck_params)\n",
      "File \u001B[1;32m~\\final\\Lib\\site-packages\\sklearn\\utils\\validation.py:1049\u001B[0m, in \u001B[0;36mcheck_array\u001B[1;34m(array, accept_sparse, accept_large_sparse, dtype, order, copy, force_all_finite, ensure_2d, allow_nd, ensure_min_samples, ensure_min_features, estimator, input_name)\u001B[0m\n\u001B[0;32m   1043\u001B[0m     \u001B[38;5;28;01mraise\u001B[39;00m \u001B[38;5;167;01mValueError\u001B[39;00m(\n\u001B[0;32m   1044\u001B[0m         \u001B[38;5;124m\"\u001B[39m\u001B[38;5;124mFound array with dim \u001B[39m\u001B[38;5;132;01m%d\u001B[39;00m\u001B[38;5;124m. \u001B[39m\u001B[38;5;132;01m%s\u001B[39;00m\u001B[38;5;124m expected <= 2.\u001B[39m\u001B[38;5;124m\"\u001B[39m\n\u001B[0;32m   1045\u001B[0m         \u001B[38;5;241m%\u001B[39m (array\u001B[38;5;241m.\u001B[39mndim, estimator_name)\n\u001B[0;32m   1046\u001B[0m     )\n\u001B[0;32m   1048\u001B[0m \u001B[38;5;28;01mif\u001B[39;00m force_all_finite:\n\u001B[1;32m-> 1049\u001B[0m     \u001B[43m_assert_all_finite\u001B[49m\u001B[43m(\u001B[49m\n\u001B[0;32m   1050\u001B[0m \u001B[43m        \u001B[49m\u001B[43marray\u001B[49m\u001B[43m,\u001B[49m\n\u001B[0;32m   1051\u001B[0m \u001B[43m        \u001B[49m\u001B[43minput_name\u001B[49m\u001B[38;5;241;43m=\u001B[39;49m\u001B[43minput_name\u001B[49m\u001B[43m,\u001B[49m\n\u001B[0;32m   1052\u001B[0m \u001B[43m        \u001B[49m\u001B[43mestimator_name\u001B[49m\u001B[38;5;241;43m=\u001B[39;49m\u001B[43mestimator_name\u001B[49m\u001B[43m,\u001B[49m\n\u001B[0;32m   1053\u001B[0m \u001B[43m        \u001B[49m\u001B[43mallow_nan\u001B[49m\u001B[38;5;241;43m=\u001B[39;49m\u001B[43mforce_all_finite\u001B[49m\u001B[43m \u001B[49m\u001B[38;5;241;43m==\u001B[39;49m\u001B[43m \u001B[49m\u001B[38;5;124;43m\"\u001B[39;49m\u001B[38;5;124;43mallow-nan\u001B[39;49m\u001B[38;5;124;43m\"\u001B[39;49m\u001B[43m,\u001B[49m\n\u001B[0;32m   1054\u001B[0m \u001B[43m    \u001B[49m\u001B[43m)\u001B[49m\n\u001B[0;32m   1056\u001B[0m \u001B[38;5;28;01mif\u001B[39;00m copy:\n\u001B[0;32m   1057\u001B[0m     \u001B[38;5;28;01mif\u001B[39;00m _is_numpy_namespace(xp):\n\u001B[0;32m   1058\u001B[0m         \u001B[38;5;66;03m# only make a copy if `array` and `array_orig` may share memory`\u001B[39;00m\n",
      "File \u001B[1;32m~\\final\\Lib\\site-packages\\sklearn\\utils\\validation.py:126\u001B[0m, in \u001B[0;36m_assert_all_finite\u001B[1;34m(X, allow_nan, msg_dtype, estimator_name, input_name)\u001B[0m\n\u001B[0;32m    123\u001B[0m \u001B[38;5;28;01mif\u001B[39;00m first_pass_isfinite:\n\u001B[0;32m    124\u001B[0m     \u001B[38;5;28;01mreturn\u001B[39;00m\n\u001B[1;32m--> 126\u001B[0m \u001B[43m_assert_all_finite_element_wise\u001B[49m\u001B[43m(\u001B[49m\n\u001B[0;32m    127\u001B[0m \u001B[43m    \u001B[49m\u001B[43mX\u001B[49m\u001B[43m,\u001B[49m\n\u001B[0;32m    128\u001B[0m \u001B[43m    \u001B[49m\u001B[43mxp\u001B[49m\u001B[38;5;241;43m=\u001B[39;49m\u001B[43mxp\u001B[49m\u001B[43m,\u001B[49m\n\u001B[0;32m    129\u001B[0m \u001B[43m    \u001B[49m\u001B[43mallow_nan\u001B[49m\u001B[38;5;241;43m=\u001B[39;49m\u001B[43mallow_nan\u001B[49m\u001B[43m,\u001B[49m\n\u001B[0;32m    130\u001B[0m \u001B[43m    \u001B[49m\u001B[43mmsg_dtype\u001B[49m\u001B[38;5;241;43m=\u001B[39;49m\u001B[43mmsg_dtype\u001B[49m\u001B[43m,\u001B[49m\n\u001B[0;32m    131\u001B[0m \u001B[43m    \u001B[49m\u001B[43mestimator_name\u001B[49m\u001B[38;5;241;43m=\u001B[39;49m\u001B[43mestimator_name\u001B[49m\u001B[43m,\u001B[49m\n\u001B[0;32m    132\u001B[0m \u001B[43m    \u001B[49m\u001B[43minput_name\u001B[49m\u001B[38;5;241;43m=\u001B[39;49m\u001B[43minput_name\u001B[49m\u001B[43m,\u001B[49m\n\u001B[0;32m    133\u001B[0m \u001B[43m\u001B[49m\u001B[43m)\u001B[49m\n",
      "File \u001B[1;32m~\\final\\Lib\\site-packages\\sklearn\\utils\\validation.py:175\u001B[0m, in \u001B[0;36m_assert_all_finite_element_wise\u001B[1;34m(X, xp, allow_nan, msg_dtype, estimator_name, input_name)\u001B[0m\n\u001B[0;32m    158\u001B[0m \u001B[38;5;28;01mif\u001B[39;00m estimator_name \u001B[38;5;129;01mand\u001B[39;00m input_name \u001B[38;5;241m==\u001B[39m \u001B[38;5;124m\"\u001B[39m\u001B[38;5;124mX\u001B[39m\u001B[38;5;124m\"\u001B[39m \u001B[38;5;129;01mand\u001B[39;00m has_nan_error:\n\u001B[0;32m    159\u001B[0m     \u001B[38;5;66;03m# Improve the error message on how to handle missing values in\u001B[39;00m\n\u001B[0;32m    160\u001B[0m     \u001B[38;5;66;03m# scikit-learn.\u001B[39;00m\n\u001B[0;32m    161\u001B[0m     msg_err \u001B[38;5;241m+\u001B[39m\u001B[38;5;241m=\u001B[39m (\n\u001B[0;32m    162\u001B[0m         \u001B[38;5;124mf\u001B[39m\u001B[38;5;124m\"\u001B[39m\u001B[38;5;130;01m\\n\u001B[39;00m\u001B[38;5;132;01m{\u001B[39;00mestimator_name\u001B[38;5;132;01m}\u001B[39;00m\u001B[38;5;124m does not accept missing values\u001B[39m\u001B[38;5;124m\"\u001B[39m\n\u001B[0;32m    163\u001B[0m         \u001B[38;5;124m\"\u001B[39m\u001B[38;5;124m encoded as NaN natively. For supervised learning, you might want\u001B[39m\u001B[38;5;124m\"\u001B[39m\n\u001B[1;32m   (...)\u001B[0m\n\u001B[0;32m    173\u001B[0m         \u001B[38;5;124m\"\u001B[39m\u001B[38;5;124m#estimators-that-handle-nan-values\u001B[39m\u001B[38;5;124m\"\u001B[39m\n\u001B[0;32m    174\u001B[0m     )\n\u001B[1;32m--> 175\u001B[0m \u001B[38;5;28;01mraise\u001B[39;00m \u001B[38;5;167;01mValueError\u001B[39;00m(msg_err)\n",
      "\u001B[1;31mValueError\u001B[0m: Input X contains NaN.\nTSNE does not accept missing values encoded as NaN natively. For supervised learning, you might want to consider sklearn.ensemble.HistGradientBoostingClassifier and Regressor which accept missing values encoded as NaNs natively. Alternatively, it is possible to preprocess the data, for instance by using an imputer transformer in a pipeline or drop samples with missing values. See https://scikit-learn.org/stable/modules/impute.html You can find a list of all estimators that handle NaN values at the following page: https://scikit-learn.org/stable/modules/impute.html#estimators-that-handle-nan-values"
     ]
    }
   ],
   "execution_count": 72
  },
  {
   "cell_type": "markdown",
   "source": [
    "## 4. Results and Conclusion\n",
    "\n",
    "\n",
    "### Results\n",
    "![image.png](image.png)\n",
    "\n",
    "### Conclusion\n",
    "Mô hình BOW đạt độ chính xác 86% và cho thấy độ chính xác và khả năng thu hồi tương đối tốt đối với lớp tích cực. Tuy nhiên, nó hoạt động kém trong việc dự đoán lớp tiêu cực, với độ chính xác và điểm thu hồi thấp.\n",
    "\n",
    "Mô hình TFIDF đạt độ chính xác 88,0%, vượt trội một chút so với mô hình BOW. Tuy nhiên, việc dự đoán lớp âm kém hơn so với mô hình BOW.\n",
    "\n",
    "Mô hình Average Word2Vector cũng đạt độ chính xác 88%, cho thấy độ chính xác và điểm thu hồi tốt hơn đối với lớp tích cực so với các mô hình trước đó. nó gặp khó khăn trong việc dự đoán lớp âm nhưng cho thấy độ chính xác và khả năng thu hồi lớp âm tốt hơn so với hai mô hình trước đó.\n",
    "\n",
    "Mô hình Word2Vector có trọng số TFIDF hoạt động tương tự như mô hình W2V trung bình với độ chính xác là 86%. Nó cho thấy độ chính xác và khả năng thu hồi tương đối tốt đối với lớp dương, nó gặp khó khăn trong việc dự đoán lớp âm nhưng cho thấy độ chính xác và khả năng thu hồi tốt hơn đối với lớp âm so với các mô hình BOW và TFIDF.\n",
    "\n",
    "Về hiệu suất, mô hình Word2Vector trung bình và mô hình Word2Vec có trọng số TF-IDF cho kết quả tốt hơn so với hai mô hình còn lại. Tuy nhiên, tất cả các mô hình đều phải đối mặt với những thách thức trong việc dự đoán chính xác các trường hợp tiêu cực.\n",
    "\n",
    "Có thể thực hiện những cải tiến hơn nữa bằng cách khám phá các số liệu đánh giá khác, chẳng hạn như Điểm F1 cho lớp âm hoặc kiểm tra nếu dữ liệu huấn luyện và kiểm tra của chúng tôi tuân theo cùng một phân phối như trong phân tách dựa trên thời gian mà chúng tôi quan sát thấy vấn đề này.\n",
    "\n",
    "Word2Vector tốt hơn đáng kể so với hai vector hóa còn lại và chúng ta có thể thấy biểu diễn trực quan ở đây -> https://www.kaggle.com/code/raman007/amazon-finefood-review-directionality-reduction"
   ],
   "metadata": {
    "id": "S0QznnsAgMOH"
   }
  },
  {
   "metadata": {},
   "cell_type": "code",
   "source": "",
   "outputs": [],
   "execution_count": null
  }
 ]
}
